{
  "nbformat": 4,
  "nbformat_minor": 0,
  "metadata": {
    "colab": {
      "name": "FourSquare-Temporal-RNN.ipynb",
      "provenance": [],
      "collapsed_sections": [],
      "mount_file_id": "1Q-iw0zxlvc0-WqrVVIUqVPb_IBLvRUsS",
      "authorship_tag": "ABX9TyMlRV2MiNDIm7R6TypwuhJb",
      "include_colab_link": true
    },
    "kernelspec": {
      "name": "python3",
      "display_name": "Python 3"
    }
  },
  "cells": [
    {
      "cell_type": "markdown",
      "metadata": {
        "id": "view-in-github",
        "colab_type": "text"
      },
      "source": [
        "<a href=\"https://colab.research.google.com/github/manjitullal/foursquare/blob/master/FourSquare_Temporal_RNN.ipynb\" target=\"_parent\"><img src=\"https://colab.research.google.com/assets/colab-badge.svg\" alt=\"Open In Colab\"/></a>"
      ]
    },
    {
      "cell_type": "markdown",
      "metadata": {
        "id": "srsPqj3OoFO-",
        "colab_type": "text"
      },
      "source": [
        "# **Temporal and Spatial analysis of events data using LSTM**\n",
        "\n"
      ]
    },
    {
      "cell_type": "markdown",
      "metadata": {
        "id": "9Zt2Bq77oUEu",
        "colab_type": "text"
      },
      "source": [
        "**Dataset:** foursquare\n",
        "\n",
        "**Aim:** to predict future location and time of user given the historical sequences of location and time .\n",
        "\n",
        "An analogy for the aim is , predicting the next word in a sentence. \n"
      ]
    },
    {
      "cell_type": "markdown",
      "metadata": {
        "id": "SzINCAjZpryW",
        "colab_type": "text"
      },
      "source": [
        "**Contents:**\n",
        "***\n",
        "1. Data pre processing\n",
        "2. Encoding\n",
        "3. Modeling\n",
        "4. Training"
      ]
    },
    {
      "cell_type": "markdown",
      "metadata": {
        "id": "ce2cG-Z1p_UV",
        "colab_type": "text"
      },
      "source": [
        "# **1. Data pre processing**\n"
      ]
    },
    {
      "cell_type": "code",
      "metadata": {
        "id": "0GlupXKwn6GU",
        "colab_type": "code",
        "colab": {
          "base_uri": "https://localhost:8080/",
          "height": 33
        },
        "outputId": "e0ad661c-5006-4be9-bc0c-0915e9e03395"
      },
      "source": [
        "import pandas as pd\n",
        "import numpy as np\n",
        "import tensorflow as tf\n",
        "\n",
        "\n",
        "from google.colab import drive\n",
        "import warnings\n",
        "warnings.filterwarnings('ignore')\n",
        "\n",
        "import torch\n",
        "import torch.nn as nn\n",
        "import torch.nn.functional as F\n",
        "import torch.optim as optim\n",
        "from torch.utils import data\n",
        "from torch.nn.utils.rnn import pad_sequence\n",
        "\n",
        "torch.manual_seed(1)"
      ],
      "execution_count": 1,
      "outputs": [
        {
          "output_type": "execute_result",
          "data": {
            "text/plain": [
              "<torch._C.Generator at 0x7f109c6b20b0>"
            ]
          },
          "metadata": {
            "tags": []
          },
          "execution_count": 1
        }
      ]
    },
    {
      "cell_type": "markdown",
      "metadata": {
        "id": "918U9XsGYpD-",
        "colab_type": "text"
      },
      "source": [
        "1. **Check for GPU**\n",
        "---\n",
        "This code presently does not use GPU. This will later be modified to use one.\n"
      ]
    },
    {
      "cell_type": "code",
      "metadata": {
        "id": "qKWnSgTB1mv9",
        "colab_type": "code",
        "colab": {
          "base_uri": "https://localhost:8080/",
          "height": 252
        },
        "outputId": "c6bc6b33-f674-4524-e315-315504f07798"
      },
      "source": [
        "#check the devices available\n",
        "\n",
        "from tensorflow.python.client import device_lib\n",
        "print(device_lib.list_local_devices())"
      ],
      "execution_count": 2,
      "outputs": [
        {
          "output_type": "stream",
          "text": [
            "[name: \"/device:CPU:0\"\n",
            "device_type: \"CPU\"\n",
            "memory_limit: 268435456\n",
            "locality {\n",
            "}\n",
            "incarnation: 16114837832282851235\n",
            ", name: \"/device:XLA_CPU:0\"\n",
            "device_type: \"XLA_CPU\"\n",
            "memory_limit: 17179869184\n",
            "locality {\n",
            "}\n",
            "incarnation: 11735902249367462014\n",
            "physical_device_desc: \"device: XLA_CPU device\"\n",
            "]\n"
          ],
          "name": "stdout"
        }
      ]
    },
    {
      "cell_type": "code",
      "metadata": {
        "id": "idzooZ_m200b",
        "colab_type": "code",
        "colab": {
          "base_uri": "https://localhost:8080/",
          "height": 33
        },
        "outputId": "278b556a-3d07-4de1-a8a6-eb44a49e1757"
      },
      "source": [
        "#check if the gpu is available\n",
        "print(\"Num GPUs Available: \", len(tf.config.experimental.list_physical_devices('GPU')))"
      ],
      "execution_count": 3,
      "outputs": [
        {
          "output_type": "stream",
          "text": [
            "Num GPUs Available:  0\n"
          ],
          "name": "stdout"
        }
      ]
    },
    {
      "cell_type": "code",
      "metadata": {
        "id": "W5DIAW674AA6",
        "colab_type": "code",
        "colab": {
          "base_uri": "https://localhost:8080/",
          "height": 33
        },
        "outputId": "bcd8ddd8-0bbc-4ab9-d1be-531f500cf2da"
      },
      "source": [
        "#the GPU may not be available at the moment\n",
        "\n",
        "import tensorflow as tf\n",
        "device_name = tf.test.gpu_device_name()\n",
        "if device_name != '/device:GPU:0':\n",
        "    print('GPU device not found')\n"
      ],
      "execution_count": 4,
      "outputs": [
        {
          "output_type": "stream",
          "text": [
            "GPU device not found\n"
          ],
          "name": "stdout"
        }
      ]
    },
    {
      "cell_type": "code",
      "metadata": {
        "id": "hqnyh90agc5m",
        "colab_type": "code",
        "colab": {
          "base_uri": "https://localhost:8080/",
          "height": 33
        },
        "outputId": "eb198e85-7a47-4540-a86e-d68367036f99"
      },
      "source": [
        "#dataset is in the google drive\n",
        "\n",
        "drive.mount('/content/drive')"
      ],
      "execution_count": 5,
      "outputs": [
        {
          "output_type": "stream",
          "text": [
            "Drive already mounted at /content/drive; to attempt to forcibly remount, call drive.mount(\"/content/drive\", force_remount=True).\n"
          ],
          "name": "stdout"
        }
      ]
    },
    {
      "cell_type": "code",
      "metadata": {
        "id": "SjDgrlTdgmji",
        "colab_type": "code",
        "colab": {
          "base_uri": "https://localhost:8080/",
          "height": 50
        },
        "outputId": "33c0a15c-36bb-4469-94ab-ea1a62713e3e"
      },
      "source": [
        "#my google drive path\n",
        "\n",
        "!ls \"/content/drive/My Drive/dataset/foursquare\"\n",
        "path = \"/content/drive/My Drive/dataset/foursquare\""
      ],
      "execution_count": 6,
      "outputs": [
        {
          "output_type": "stream",
          "text": [
            "Checkin.txt\t UserFriends.txt    VenueRating.txt\n",
            "Description.txt  VenueCategory.txt  Venue.txt\n"
          ],
          "name": "stdout"
        }
      ]
    },
    {
      "cell_type": "markdown",
      "metadata": {
        "id": "sduA9CxS_y_H",
        "colab_type": "text"
      },
      "source": [
        "2. **Load dataset.** \n",
        "---\n",
        "Dataset, consists of 5 tables. `Checkin` table has the event details"
      ]
    },
    {
      "cell_type": "code",
      "metadata": {
        "id": "V-_st6uAdyTM",
        "colab_type": "code",
        "colab": {
          "base_uri": "https://localhost:8080/",
          "height": 50
        },
        "outputId": "95996e0d-b4e2-4433-9f0f-7000a29f03eb"
      },
      "source": [
        "%%time\n",
        "Checkin_columns = ['UserID','VenueID','Year','Month','Date','Hour']\n",
        "Checkin = pd.read_csv(path+'/Checkin.txt', sep=',', skiprows=1, names=Checkin_columns)"
      ],
      "execution_count": 7,
      "outputs": [
        {
          "output_type": "stream",
          "text": [
            "CPU times: user 591 ms, sys: 200 ms, total: 790 ms\n",
            "Wall time: 902 ms\n"
          ],
          "name": "stdout"
        }
      ]
    },
    {
      "cell_type": "code",
      "metadata": {
        "id": "MbzKjlyHh7a2",
        "colab_type": "code",
        "colab": {
          "base_uri": "https://localhost:8080/",
          "height": 50
        },
        "outputId": "35cf3231-5129-479d-8400-835aa292159d"
      },
      "source": [
        "%%time\n",
        "\n",
        "Venue_columns = ['VenueID','VenueName','Latitude','Longitude','CategoryID']\n",
        "Venue = pd.read_csv(path+'/Venue.txt', sep=',', error_bad_lines=False,skiprows=1,names=Venue_columns)\n",
        "\n",
        "VenueCategory_columns = ['CategoryID','CategoryName','ParentCategoryID']\n",
        "VenueCategory = pd.read_csv(path+'/VenueCategory.txt', sep=',',error_bad_lines=False,skiprows=1,names=VenueCategory_columns)\n",
        "\n",
        "VenueRating_columns = ['VenueID','Rating']\n",
        "VenueRating = pd.read_csv(path+'/VenueRating.txt', sep=',',error_bad_lines=False,skiprows=1,names=VenueRating_columns)\n",
        "\n",
        "UserFriends = pd.read_csv(path+'/UserFriends.txt', sep=',') \n",
        "\n",
        "all_tables = [Checkin,Venue,VenueCategory,VenueRating,UserFriends]\n",
        "all_tables_string = ['Checkin','Venue','VenueCategory','VenueRating','UserFriends']"
      ],
      "execution_count": 8,
      "outputs": [
        {
          "output_type": "stream",
          "text": [
            "CPU times: user 811 ms, sys: 106 ms, total: 916 ms\n",
            "Wall time: 1.04 s\n"
          ],
          "name": "stdout"
        }
      ]
    },
    {
      "cell_type": "code",
      "metadata": {
        "id": "zyuAPADGhADL",
        "colab_type": "code",
        "colab": {
          "base_uri": "https://localhost:8080/",
          "height": 190
        },
        "outputId": "6c055bb7-3173-4947-f797-ce40827b35af"
      },
      "source": [
        "Checkin.head()"
      ],
      "execution_count": 9,
      "outputs": [
        {
          "output_type": "execute_result",
          "data": {
            "text/html": [
              "<div>\n",
              "<style scoped>\n",
              "    .dataframe tbody tr th:only-of-type {\n",
              "        vertical-align: middle;\n",
              "    }\n",
              "\n",
              "    .dataframe tbody tr th {\n",
              "        vertical-align: top;\n",
              "    }\n",
              "\n",
              "    .dataframe thead th {\n",
              "        text-align: right;\n",
              "    }\n",
              "</style>\n",
              "<table border=\"1\" class=\"dataframe\">\n",
              "  <thead>\n",
              "    <tr style=\"text-align: right;\">\n",
              "      <th></th>\n",
              "      <th>UserID</th>\n",
              "      <th>VenueID</th>\n",
              "      <th>Year</th>\n",
              "      <th>Month</th>\n",
              "      <th>Date</th>\n",
              "      <th>Hour</th>\n",
              "    </tr>\n",
              "  </thead>\n",
              "  <tbody>\n",
              "    <tr>\n",
              "      <th>0</th>\n",
              "      <td>u1302</td>\n",
              "      <td>v47</td>\n",
              "      <td>2012</td>\n",
              "      <td>2</td>\n",
              "      <td>24</td>\n",
              "      <td>11</td>\n",
              "    </tr>\n",
              "    <tr>\n",
              "      <th>1</th>\n",
              "      <td>u45</td>\n",
              "      <td>v132</td>\n",
              "      <td>2012</td>\n",
              "      <td>2</td>\n",
              "      <td>24</td>\n",
              "      <td>11</td>\n",
              "    </tr>\n",
              "    <tr>\n",
              "      <th>2</th>\n",
              "      <td>u24844</td>\n",
              "      <td>v86</td>\n",
              "      <td>2012</td>\n",
              "      <td>2</td>\n",
              "      <td>24</td>\n",
              "      <td>11</td>\n",
              "    </tr>\n",
              "    <tr>\n",
              "      <th>3</th>\n",
              "      <td>u896</td>\n",
              "      <td>v248</td>\n",
              "      <td>2012</td>\n",
              "      <td>2</td>\n",
              "      <td>24</td>\n",
              "      <td>11</td>\n",
              "    </tr>\n",
              "    <tr>\n",
              "      <th>4</th>\n",
              "      <td>u5020</td>\n",
              "      <td>v29</td>\n",
              "      <td>2012</td>\n",
              "      <td>2</td>\n",
              "      <td>24</td>\n",
              "      <td>11</td>\n",
              "    </tr>\n",
              "  </tbody>\n",
              "</table>\n",
              "</div>"
            ],
            "text/plain": [
              "   UserID VenueID  Year  Month  Date  Hour\n",
              "0   u1302     v47  2012      2    24    11\n",
              "1     u45    v132  2012      2    24    11\n",
              "2  u24844     v86  2012      2    24    11\n",
              "3    u896    v248  2012      2    24    11\n",
              "4   u5020     v29  2012      2    24    11"
            ]
          },
          "metadata": {
            "tags": []
          },
          "execution_count": 9
        }
      ]
    },
    {
      "cell_type": "code",
      "metadata": {
        "id": "ofoqannHheKI",
        "colab_type": "code",
        "colab": {
          "base_uri": "https://localhost:8080/",
          "height": 772
        },
        "outputId": "a0d7c5df-1328-48d8-a142-122ac71159fc"
      },
      "source": [
        "#stats of the data \n",
        "\n",
        "def _describe(data):\n",
        "    print(f\" Number of rows: {data.shape[0]}\")\n",
        "    print(f\" Number of columns: {data.shape[1]}\")\n",
        "    print(f\" Number of null values: {np.sum(data.isnull().sum())}\")\n",
        "    print(\"The columns that have null values\")\n",
        "    print(pd.DataFrame(data.isnull().sum()).T)\n",
        "    \n",
        "for index,table in enumerate(all_tables):\n",
        "    print(f\"Details of table {all_tables_string[index]}\")\n",
        "    print(\"\")\n",
        "    _describe(table)\n",
        "    print(\"\")"
      ],
      "execution_count": 10,
      "outputs": [
        {
          "output_type": "stream",
          "text": [
            "Details of table Checkin\n",
            "\n",
            " Number of rows: 1276988\n",
            " Number of columns: 6\n",
            " Number of null values: 0\n",
            "The columns that have null values\n",
            "   UserID  VenueID  Year  Month  Date  Hour\n",
            "0       0        0     0      0     0     0\n",
            "\n",
            "Details of table Venue\n",
            "\n",
            " Number of rows: 85928\n",
            " Number of columns: 5\n",
            " Number of null values: 14\n",
            "The columns that have null values\n",
            "   VenueID  VenueName  Latitude  Longitude  CategoryID\n",
            "0        0         12         2          0           0\n",
            "\n",
            "Details of table VenueCategory\n",
            "\n",
            " Number of rows: 394\n",
            " Number of columns: 3\n",
            " Number of null values: 0\n",
            "The columns that have null values\n",
            "   CategoryID  CategoryName  ParentCategoryID\n",
            "0           0             0                 0\n",
            "\n",
            "Details of table VenueRating\n",
            "\n",
            " Number of rows: 68178\n",
            " Number of columns: 2\n",
            " Number of null values: 96\n",
            "The columns that have null values\n",
            "   VenueID  Rating\n",
            "0       96       0\n",
            "\n",
            "Details of table UserFriends\n",
            "\n",
            " Number of rows: 1366388\n",
            " Number of columns: 2\n",
            " Number of null values: 0\n",
            "The columns that have null values\n",
            "   userID  friendID\n",
            "0       0         0\n",
            "\n"
          ],
          "name": "stdout"
        }
      ]
    },
    {
      "cell_type": "markdown",
      "metadata": {
        "id": "JQP07W6eqXqN",
        "colab_type": "text"
      },
      "source": [
        "3. **Model for one user** (for testing), hence we will filter the data for one user, eventually this will be extended for all users"
      ]
    },
    {
      "cell_type": "code",
      "metadata": {
        "id": "07eFFxUde_7Y",
        "colab_type": "code",
        "colab": {
          "base_uri": "https://localhost:8080/",
          "height": 190
        },
        "outputId": "f36c4809-02a5-43c7-c27c-4e0c2a2113cd"
      },
      "source": [
        "#filter data for one user \n",
        "\n",
        "Checkin_u1205 = Checkin[Checkin.UserID == 'u1205']\n",
        "Checkin_u1205.head()"
      ],
      "execution_count": 11,
      "outputs": [
        {
          "output_type": "execute_result",
          "data": {
            "text/html": [
              "<div>\n",
              "<style scoped>\n",
              "    .dataframe tbody tr th:only-of-type {\n",
              "        vertical-align: middle;\n",
              "    }\n",
              "\n",
              "    .dataframe tbody tr th {\n",
              "        vertical-align: top;\n",
              "    }\n",
              "\n",
              "    .dataframe thead th {\n",
              "        text-align: right;\n",
              "    }\n",
              "</style>\n",
              "<table border=\"1\" class=\"dataframe\">\n",
              "  <thead>\n",
              "    <tr style=\"text-align: right;\">\n",
              "      <th></th>\n",
              "      <th>UserID</th>\n",
              "      <th>VenueID</th>\n",
              "      <th>Year</th>\n",
              "      <th>Month</th>\n",
              "      <th>Date</th>\n",
              "      <th>Hour</th>\n",
              "    </tr>\n",
              "  </thead>\n",
              "  <tbody>\n",
              "    <tr>\n",
              "      <th>2723</th>\n",
              "      <td>u1205</td>\n",
              "      <td>v73805</td>\n",
              "      <td>2012</td>\n",
              "      <td>2</td>\n",
              "      <td>25</td>\n",
              "      <td>9</td>\n",
              "    </tr>\n",
              "    <tr>\n",
              "      <th>3817</th>\n",
              "      <td>u1205</td>\n",
              "      <td>v9884</td>\n",
              "      <td>2012</td>\n",
              "      <td>2</td>\n",
              "      <td>25</td>\n",
              "      <td>11</td>\n",
              "    </tr>\n",
              "    <tr>\n",
              "      <th>4739</th>\n",
              "      <td>u1205</td>\n",
              "      <td>v3906</td>\n",
              "      <td>2012</td>\n",
              "      <td>2</td>\n",
              "      <td>25</td>\n",
              "      <td>13</td>\n",
              "    </tr>\n",
              "    <tr>\n",
              "      <th>5904</th>\n",
              "      <td>u1205</td>\n",
              "      <td>v10373</td>\n",
              "      <td>2012</td>\n",
              "      <td>2</td>\n",
              "      <td>25</td>\n",
              "      <td>15</td>\n",
              "    </tr>\n",
              "    <tr>\n",
              "      <th>6840</th>\n",
              "      <td>u1205</td>\n",
              "      <td>v9884</td>\n",
              "      <td>2012</td>\n",
              "      <td>2</td>\n",
              "      <td>25</td>\n",
              "      <td>17</td>\n",
              "    </tr>\n",
              "  </tbody>\n",
              "</table>\n",
              "</div>"
            ],
            "text/plain": [
              "     UserID VenueID  Year  Month  Date  Hour\n",
              "2723  u1205  v73805  2012      2    25     9\n",
              "3817  u1205   v9884  2012      2    25    11\n",
              "4739  u1205   v3906  2012      2    25    13\n",
              "5904  u1205  v10373  2012      2    25    15\n",
              "6840  u1205   v9884  2012      2    25    17"
            ]
          },
          "metadata": {
            "tags": []
          },
          "execution_count": 11
        }
      ]
    },
    {
      "cell_type": "code",
      "metadata": {
        "id": "-wjalbEBit8a",
        "colab_type": "code",
        "colab": {
          "base_uri": "https://localhost:8080/",
          "height": 190
        },
        "outputId": "80c088ba-9b2e-494b-980f-a69d580c8183"
      },
      "source": [
        "# drop userid as that is not useful now, since there is only one user \n",
        "\n",
        "Checkin_u1205.drop(['UserID'], axis=1, inplace=True)\n",
        "\n",
        "#renaming column Date to Day\n",
        "Checkin_u1205.rename(columns={\"Date\":\"Day\"}, inplace=True)\n",
        "Checkin_u1205.head()"
      ],
      "execution_count": 12,
      "outputs": [
        {
          "output_type": "execute_result",
          "data": {
            "text/html": [
              "<div>\n",
              "<style scoped>\n",
              "    .dataframe tbody tr th:only-of-type {\n",
              "        vertical-align: middle;\n",
              "    }\n",
              "\n",
              "    .dataframe tbody tr th {\n",
              "        vertical-align: top;\n",
              "    }\n",
              "\n",
              "    .dataframe thead th {\n",
              "        text-align: right;\n",
              "    }\n",
              "</style>\n",
              "<table border=\"1\" class=\"dataframe\">\n",
              "  <thead>\n",
              "    <tr style=\"text-align: right;\">\n",
              "      <th></th>\n",
              "      <th>VenueID</th>\n",
              "      <th>Year</th>\n",
              "      <th>Month</th>\n",
              "      <th>Day</th>\n",
              "      <th>Hour</th>\n",
              "    </tr>\n",
              "  </thead>\n",
              "  <tbody>\n",
              "    <tr>\n",
              "      <th>2723</th>\n",
              "      <td>v73805</td>\n",
              "      <td>2012</td>\n",
              "      <td>2</td>\n",
              "      <td>25</td>\n",
              "      <td>9</td>\n",
              "    </tr>\n",
              "    <tr>\n",
              "      <th>3817</th>\n",
              "      <td>v9884</td>\n",
              "      <td>2012</td>\n",
              "      <td>2</td>\n",
              "      <td>25</td>\n",
              "      <td>11</td>\n",
              "    </tr>\n",
              "    <tr>\n",
              "      <th>4739</th>\n",
              "      <td>v3906</td>\n",
              "      <td>2012</td>\n",
              "      <td>2</td>\n",
              "      <td>25</td>\n",
              "      <td>13</td>\n",
              "    </tr>\n",
              "    <tr>\n",
              "      <th>5904</th>\n",
              "      <td>v10373</td>\n",
              "      <td>2012</td>\n",
              "      <td>2</td>\n",
              "      <td>25</td>\n",
              "      <td>15</td>\n",
              "    </tr>\n",
              "    <tr>\n",
              "      <th>6840</th>\n",
              "      <td>v9884</td>\n",
              "      <td>2012</td>\n",
              "      <td>2</td>\n",
              "      <td>25</td>\n",
              "      <td>17</td>\n",
              "    </tr>\n",
              "  </tbody>\n",
              "</table>\n",
              "</div>"
            ],
            "text/plain": [
              "     VenueID  Year  Month  Day  Hour\n",
              "2723  v73805  2012      2   25     9\n",
              "3817   v9884  2012      2   25    11\n",
              "4739   v3906  2012      2   25    13\n",
              "5904  v10373  2012      2   25    15\n",
              "6840   v9884  2012      2   25    17"
            ]
          },
          "metadata": {
            "tags": []
          },
          "execution_count": 12
        }
      ]
    },
    {
      "cell_type": "code",
      "metadata": {
        "id": "WRc5b7_mjOA2",
        "colab_type": "code",
        "colab": {
          "base_uri": "https://localhost:8080/",
          "height": 50
        },
        "outputId": "24217db5-440e-46ab-8b5a-8a0aeefae280"
      },
      "source": [
        "# create a new column, datetime to sort the events \n",
        "\n",
        "%%time\n",
        "Checkin_u1205['Datetime'] = pd.to_datetime(Checkin_u1205[['Year', 'Month', 'Day', 'Hour']])\n",
        "Checkin_u1205.head()"
      ],
      "execution_count": 13,
      "outputs": [
        {
          "output_type": "stream",
          "text": [
            "CPU times: user 17.1 ms, sys: 1.03 ms, total: 18.2 ms\n",
            "Wall time: 20.8 ms\n"
          ],
          "name": "stdout"
        }
      ]
    },
    {
      "cell_type": "code",
      "metadata": {
        "id": "YR2arrZk1qF3",
        "colab_type": "code",
        "colab": {
          "base_uri": "https://localhost:8080/",
          "height": 190
        },
        "outputId": "fc443797-521a-4382-e232-edef2316eb5f"
      },
      "source": [
        "# sort based on datetime\n",
        "Checkin_u1205.sort_values(by='Datetime',inplace=True)\n",
        "\n",
        "Checkin_u1205.head()"
      ],
      "execution_count": 14,
      "outputs": [
        {
          "output_type": "execute_result",
          "data": {
            "text/html": [
              "<div>\n",
              "<style scoped>\n",
              "    .dataframe tbody tr th:only-of-type {\n",
              "        vertical-align: middle;\n",
              "    }\n",
              "\n",
              "    .dataframe tbody tr th {\n",
              "        vertical-align: top;\n",
              "    }\n",
              "\n",
              "    .dataframe thead th {\n",
              "        text-align: right;\n",
              "    }\n",
              "</style>\n",
              "<table border=\"1\" class=\"dataframe\">\n",
              "  <thead>\n",
              "    <tr style=\"text-align: right;\">\n",
              "      <th></th>\n",
              "      <th>VenueID</th>\n",
              "      <th>Year</th>\n",
              "      <th>Month</th>\n",
              "      <th>Day</th>\n",
              "      <th>Hour</th>\n",
              "      <th>Datetime</th>\n",
              "    </tr>\n",
              "  </thead>\n",
              "  <tbody>\n",
              "    <tr>\n",
              "      <th>2723</th>\n",
              "      <td>v73805</td>\n",
              "      <td>2012</td>\n",
              "      <td>2</td>\n",
              "      <td>25</td>\n",
              "      <td>9</td>\n",
              "      <td>2012-02-25 09:00:00</td>\n",
              "    </tr>\n",
              "    <tr>\n",
              "      <th>9154</th>\n",
              "      <td>v40561</td>\n",
              "      <td>2012</td>\n",
              "      <td>2</td>\n",
              "      <td>25</td>\n",
              "      <td>9</td>\n",
              "      <td>2012-02-25 09:00:00</td>\n",
              "    </tr>\n",
              "    <tr>\n",
              "      <th>3817</th>\n",
              "      <td>v9884</td>\n",
              "      <td>2012</td>\n",
              "      <td>2</td>\n",
              "      <td>25</td>\n",
              "      <td>11</td>\n",
              "      <td>2012-02-25 11:00:00</td>\n",
              "    </tr>\n",
              "    <tr>\n",
              "      <th>10664</th>\n",
              "      <td>v1743</td>\n",
              "      <td>2012</td>\n",
              "      <td>2</td>\n",
              "      <td>25</td>\n",
              "      <td>11</td>\n",
              "      <td>2012-02-25 11:00:00</td>\n",
              "    </tr>\n",
              "    <tr>\n",
              "      <th>4739</th>\n",
              "      <td>v3906</td>\n",
              "      <td>2012</td>\n",
              "      <td>2</td>\n",
              "      <td>25</td>\n",
              "      <td>13</td>\n",
              "      <td>2012-02-25 13:00:00</td>\n",
              "    </tr>\n",
              "  </tbody>\n",
              "</table>\n",
              "</div>"
            ],
            "text/plain": [
              "      VenueID  Year  Month  Day  Hour            Datetime\n",
              "2723   v73805  2012      2   25     9 2012-02-25 09:00:00\n",
              "9154   v40561  2012      2   25     9 2012-02-25 09:00:00\n",
              "3817    v9884  2012      2   25    11 2012-02-25 11:00:00\n",
              "10664   v1743  2012      2   25    11 2012-02-25 11:00:00\n",
              "4739    v3906  2012      2   25    13 2012-02-25 13:00:00"
            ]
          },
          "metadata": {
            "tags": []
          },
          "execution_count": 14
        }
      ]
    },
    {
      "cell_type": "code",
      "metadata": {
        "id": "uElqQ4Jo2NLN",
        "colab_type": "code",
        "colab": {}
      },
      "source": [
        "# from the above, we can see that for some reason there are 2 duplicate timestamps with different venues\n",
        "# it is not possible for a person to be at different location at the same time, so removing the rows with duplicate time stamps\n",
        "# the category of the venues is hierarchical, however for there appears no link between the venues\n",
        "\n",
        "Checkin_u1205_nodup = Checkin_u1205.drop_duplicates('Datetime')"
      ],
      "execution_count": 15,
      "outputs": []
    },
    {
      "cell_type": "code",
      "metadata": {
        "id": "q2IOLvasZ1Qv",
        "colab_type": "code",
        "colab": {
          "base_uri": "https://localhost:8080/",
          "height": 50
        },
        "outputId": "288d023b-ef78-4f63-bf01-8904ad89c857"
      },
      "source": [
        "print(\"Rows in Checkin_u1205: \", Checkin_u1205.shape[0])\n",
        "print(\"Rows in Checkin_u1205_nodup: \", Checkin_u1205_nodup.shape[0])"
      ],
      "execution_count": 16,
      "outputs": [
        {
          "output_type": "stream",
          "text": [
            "Rows in Checkin_u1205:  1303\n",
            "Rows in Checkin_u1205_nodup:  1227\n"
          ],
          "name": "stdout"
        }
      ]
    },
    {
      "cell_type": "code",
      "metadata": {
        "id": "NKVka8oMmK3f",
        "colab_type": "code",
        "colab": {
          "base_uri": "https://localhost:8080/",
          "height": 190
        },
        "outputId": "c2a8859c-4898-47e4-f512-b2cfb211db9e"
      },
      "source": [
        "Checkin_u1205_nodup.head()"
      ],
      "execution_count": 17,
      "outputs": [
        {
          "output_type": "execute_result",
          "data": {
            "text/html": [
              "<div>\n",
              "<style scoped>\n",
              "    .dataframe tbody tr th:only-of-type {\n",
              "        vertical-align: middle;\n",
              "    }\n",
              "\n",
              "    .dataframe tbody tr th {\n",
              "        vertical-align: top;\n",
              "    }\n",
              "\n",
              "    .dataframe thead th {\n",
              "        text-align: right;\n",
              "    }\n",
              "</style>\n",
              "<table border=\"1\" class=\"dataframe\">\n",
              "  <thead>\n",
              "    <tr style=\"text-align: right;\">\n",
              "      <th></th>\n",
              "      <th>VenueID</th>\n",
              "      <th>Year</th>\n",
              "      <th>Month</th>\n",
              "      <th>Day</th>\n",
              "      <th>Hour</th>\n",
              "      <th>Datetime</th>\n",
              "    </tr>\n",
              "  </thead>\n",
              "  <tbody>\n",
              "    <tr>\n",
              "      <th>2723</th>\n",
              "      <td>v73805</td>\n",
              "      <td>2012</td>\n",
              "      <td>2</td>\n",
              "      <td>25</td>\n",
              "      <td>9</td>\n",
              "      <td>2012-02-25 09:00:00</td>\n",
              "    </tr>\n",
              "    <tr>\n",
              "      <th>3817</th>\n",
              "      <td>v9884</td>\n",
              "      <td>2012</td>\n",
              "      <td>2</td>\n",
              "      <td>25</td>\n",
              "      <td>11</td>\n",
              "      <td>2012-02-25 11:00:00</td>\n",
              "    </tr>\n",
              "    <tr>\n",
              "      <th>4739</th>\n",
              "      <td>v3906</td>\n",
              "      <td>2012</td>\n",
              "      <td>2</td>\n",
              "      <td>25</td>\n",
              "      <td>13</td>\n",
              "      <td>2012-02-25 13:00:00</td>\n",
              "    </tr>\n",
              "    <tr>\n",
              "      <th>5904</th>\n",
              "      <td>v10373</td>\n",
              "      <td>2012</td>\n",
              "      <td>2</td>\n",
              "      <td>25</td>\n",
              "      <td>15</td>\n",
              "      <td>2012-02-25 15:00:00</td>\n",
              "    </tr>\n",
              "    <tr>\n",
              "      <th>6840</th>\n",
              "      <td>v9884</td>\n",
              "      <td>2012</td>\n",
              "      <td>2</td>\n",
              "      <td>25</td>\n",
              "      <td>17</td>\n",
              "      <td>2012-02-25 17:00:00</td>\n",
              "    </tr>\n",
              "  </tbody>\n",
              "</table>\n",
              "</div>"
            ],
            "text/plain": [
              "     VenueID  Year  Month  Day  Hour            Datetime\n",
              "2723  v73805  2012      2   25     9 2012-02-25 09:00:00\n",
              "3817   v9884  2012      2   25    11 2012-02-25 11:00:00\n",
              "4739   v3906  2012      2   25    13 2012-02-25 13:00:00\n",
              "5904  v10373  2012      2   25    15 2012-02-25 15:00:00\n",
              "6840   v9884  2012      2   25    17 2012-02-25 17:00:00"
            ]
          },
          "metadata": {
            "tags": []
          },
          "execution_count": 17
        }
      ]
    },
    {
      "cell_type": "code",
      "metadata": {
        "id": "Wzagi8fMgvjB",
        "colab_type": "code",
        "colab": {
          "base_uri": "https://localhost:8080/",
          "height": 622
        },
        "outputId": "f5e92da1-54d8-48c8-b250-c60efb220422"
      },
      "source": [
        "Checkin_u1205_nodup.iloc[:20]"
      ],
      "execution_count": 18,
      "outputs": [
        {
          "output_type": "execute_result",
          "data": {
            "text/html": [
              "<div>\n",
              "<style scoped>\n",
              "    .dataframe tbody tr th:only-of-type {\n",
              "        vertical-align: middle;\n",
              "    }\n",
              "\n",
              "    .dataframe tbody tr th {\n",
              "        vertical-align: top;\n",
              "    }\n",
              "\n",
              "    .dataframe thead th {\n",
              "        text-align: right;\n",
              "    }\n",
              "</style>\n",
              "<table border=\"1\" class=\"dataframe\">\n",
              "  <thead>\n",
              "    <tr style=\"text-align: right;\">\n",
              "      <th></th>\n",
              "      <th>VenueID</th>\n",
              "      <th>Year</th>\n",
              "      <th>Month</th>\n",
              "      <th>Day</th>\n",
              "      <th>Hour</th>\n",
              "      <th>Datetime</th>\n",
              "    </tr>\n",
              "  </thead>\n",
              "  <tbody>\n",
              "    <tr>\n",
              "      <th>2723</th>\n",
              "      <td>v73805</td>\n",
              "      <td>2012</td>\n",
              "      <td>2</td>\n",
              "      <td>25</td>\n",
              "      <td>9</td>\n",
              "      <td>2012-02-25 09:00:00</td>\n",
              "    </tr>\n",
              "    <tr>\n",
              "      <th>3817</th>\n",
              "      <td>v9884</td>\n",
              "      <td>2012</td>\n",
              "      <td>2</td>\n",
              "      <td>25</td>\n",
              "      <td>11</td>\n",
              "      <td>2012-02-25 11:00:00</td>\n",
              "    </tr>\n",
              "    <tr>\n",
              "      <th>4739</th>\n",
              "      <td>v3906</td>\n",
              "      <td>2012</td>\n",
              "      <td>2</td>\n",
              "      <td>25</td>\n",
              "      <td>13</td>\n",
              "      <td>2012-02-25 13:00:00</td>\n",
              "    </tr>\n",
              "    <tr>\n",
              "      <th>5904</th>\n",
              "      <td>v10373</td>\n",
              "      <td>2012</td>\n",
              "      <td>2</td>\n",
              "      <td>25</td>\n",
              "      <td>15</td>\n",
              "      <td>2012-02-25 15:00:00</td>\n",
              "    </tr>\n",
              "    <tr>\n",
              "      <th>6840</th>\n",
              "      <td>v9884</td>\n",
              "      <td>2012</td>\n",
              "      <td>2</td>\n",
              "      <td>25</td>\n",
              "      <td>17</td>\n",
              "      <td>2012-02-25 17:00:00</td>\n",
              "    </tr>\n",
              "    <tr>\n",
              "      <th>18507</th>\n",
              "      <td>v9885</td>\n",
              "      <td>2012</td>\n",
              "      <td>2</td>\n",
              "      <td>26</td>\n",
              "      <td>9</td>\n",
              "      <td>2012-02-26 09:00:00</td>\n",
              "    </tr>\n",
              "    <tr>\n",
              "      <th>12801</th>\n",
              "      <td>v10373</td>\n",
              "      <td>2012</td>\n",
              "      <td>2</td>\n",
              "      <td>26</td>\n",
              "      <td>11</td>\n",
              "      <td>2012-02-26 11:00:00</td>\n",
              "    </tr>\n",
              "    <tr>\n",
              "      <th>11674</th>\n",
              "      <td>v9885</td>\n",
              "      <td>2012</td>\n",
              "      <td>2</td>\n",
              "      <td>26</td>\n",
              "      <td>13</td>\n",
              "      <td>2012-02-26 13:00:00</td>\n",
              "    </tr>\n",
              "    <tr>\n",
              "      <th>15263</th>\n",
              "      <td>v2927</td>\n",
              "      <td>2012</td>\n",
              "      <td>2</td>\n",
              "      <td>26</td>\n",
              "      <td>15</td>\n",
              "      <td>2012-02-26 15:00:00</td>\n",
              "    </tr>\n",
              "    <tr>\n",
              "      <th>20745</th>\n",
              "      <td>v6013</td>\n",
              "      <td>2012</td>\n",
              "      <td>2</td>\n",
              "      <td>27</td>\n",
              "      <td>9</td>\n",
              "      <td>2012-02-27 09:00:00</td>\n",
              "    </tr>\n",
              "    <tr>\n",
              "      <th>22076</th>\n",
              "      <td>v67648</td>\n",
              "      <td>2012</td>\n",
              "      <td>2</td>\n",
              "      <td>27</td>\n",
              "      <td>11</td>\n",
              "      <td>2012-02-27 11:00:00</td>\n",
              "    </tr>\n",
              "    <tr>\n",
              "      <th>23077</th>\n",
              "      <td>v37724</td>\n",
              "      <td>2012</td>\n",
              "      <td>2</td>\n",
              "      <td>27</td>\n",
              "      <td>13</td>\n",
              "      <td>2012-02-27 13:00:00</td>\n",
              "    </tr>\n",
              "    <tr>\n",
              "      <th>23727</th>\n",
              "      <td>v13235</td>\n",
              "      <td>2012</td>\n",
              "      <td>2</td>\n",
              "      <td>27</td>\n",
              "      <td>14</td>\n",
              "      <td>2012-02-27 14:00:00</td>\n",
              "    </tr>\n",
              "    <tr>\n",
              "      <th>24467</th>\n",
              "      <td>v85343</td>\n",
              "      <td>2012</td>\n",
              "      <td>2</td>\n",
              "      <td>27</td>\n",
              "      <td>15</td>\n",
              "      <td>2012-02-27 15:00:00</td>\n",
              "    </tr>\n",
              "    <tr>\n",
              "      <th>25731</th>\n",
              "      <td>v9884</td>\n",
              "      <td>2012</td>\n",
              "      <td>2</td>\n",
              "      <td>27</td>\n",
              "      <td>17</td>\n",
              "      <td>2012-02-27 17:00:00</td>\n",
              "    </tr>\n",
              "    <tr>\n",
              "      <th>20334</th>\n",
              "      <td>v55736</td>\n",
              "      <td>2012</td>\n",
              "      <td>2</td>\n",
              "      <td>27</td>\n",
              "      <td>19</td>\n",
              "      <td>2012-02-27 19:00:00</td>\n",
              "    </tr>\n",
              "    <tr>\n",
              "      <th>27796</th>\n",
              "      <td>v18477</td>\n",
              "      <td>2012</td>\n",
              "      <td>2</td>\n",
              "      <td>27</td>\n",
              "      <td>20</td>\n",
              "      <td>2012-02-27 20:00:00</td>\n",
              "    </tr>\n",
              "    <tr>\n",
              "      <th>27898</th>\n",
              "      <td>v9885</td>\n",
              "      <td>2012</td>\n",
              "      <td>2</td>\n",
              "      <td>27</td>\n",
              "      <td>21</td>\n",
              "      <td>2012-02-27 21:00:00</td>\n",
              "    </tr>\n",
              "    <tr>\n",
              "      <th>30493</th>\n",
              "      <td>v6013</td>\n",
              "      <td>2012</td>\n",
              "      <td>2</td>\n",
              "      <td>28</td>\n",
              "      <td>8</td>\n",
              "      <td>2012-02-28 08:00:00</td>\n",
              "    </tr>\n",
              "    <tr>\n",
              "      <th>31455</th>\n",
              "      <td>v342</td>\n",
              "      <td>2012</td>\n",
              "      <td>2</td>\n",
              "      <td>28</td>\n",
              "      <td>10</td>\n",
              "      <td>2012-02-28 10:00:00</td>\n",
              "    </tr>\n",
              "  </tbody>\n",
              "</table>\n",
              "</div>"
            ],
            "text/plain": [
              "      VenueID  Year  Month  Day  Hour            Datetime\n",
              "2723   v73805  2012      2   25     9 2012-02-25 09:00:00\n",
              "3817    v9884  2012      2   25    11 2012-02-25 11:00:00\n",
              "4739    v3906  2012      2   25    13 2012-02-25 13:00:00\n",
              "5904   v10373  2012      2   25    15 2012-02-25 15:00:00\n",
              "6840    v9884  2012      2   25    17 2012-02-25 17:00:00\n",
              "18507   v9885  2012      2   26     9 2012-02-26 09:00:00\n",
              "12801  v10373  2012      2   26    11 2012-02-26 11:00:00\n",
              "11674   v9885  2012      2   26    13 2012-02-26 13:00:00\n",
              "15263   v2927  2012      2   26    15 2012-02-26 15:00:00\n",
              "20745   v6013  2012      2   27     9 2012-02-27 09:00:00\n",
              "22076  v67648  2012      2   27    11 2012-02-27 11:00:00\n",
              "23077  v37724  2012      2   27    13 2012-02-27 13:00:00\n",
              "23727  v13235  2012      2   27    14 2012-02-27 14:00:00\n",
              "24467  v85343  2012      2   27    15 2012-02-27 15:00:00\n",
              "25731   v9884  2012      2   27    17 2012-02-27 17:00:00\n",
              "20334  v55736  2012      2   27    19 2012-02-27 19:00:00\n",
              "27796  v18477  2012      2   27    20 2012-02-27 20:00:00\n",
              "27898   v9885  2012      2   27    21 2012-02-27 21:00:00\n",
              "30493   v6013  2012      2   28     8 2012-02-28 08:00:00\n",
              "31455    v342  2012      2   28    10 2012-02-28 10:00:00"
            ]
          },
          "metadata": {
            "tags": []
          },
          "execution_count": 18
        }
      ]
    },
    {
      "cell_type": "markdown",
      "metadata": {
        "id": "R1JdSv3NrBxs",
        "colab_type": "text"
      },
      "source": [
        "For time being we are not using the heirarchical informations about the venue, to keep the baseline model simple."
      ]
    },
    {
      "cell_type": "markdown",
      "metadata": {
        "id": "nVmSazxGrSwh",
        "colab_type": "text"
      },
      "source": [
        "Now, we need to create a time-series of events. \n",
        "\n",
        "`Example:`\n",
        "\n",
        "User goes to gym, grocery and home in that order or shopping, movies, restaurant and home in that order. \n",
        "\n",
        "Here, we need to create the longest time-series.\n"
      ]
    },
    {
      "cell_type": "markdown",
      "metadata": {
        "id": "Jy_SlcJeiRkR",
        "colab_type": "text"
      },
      "source": [
        "4. **Create longest sequences.** \n",
        "---\n",
        "`Idea`: gather longest time-series by viewing the events of the user, events less than the duration of 8hrs between them will be added to the same series. A gap of 8 hrs or more indicates the day has ended for the user, hence no more travel.\n"
      ]
    },
    {
      "cell_type": "code",
      "metadata": {
        "id": "MRUGUaF-UkKD",
        "colab_type": "code",
        "colab": {
          "base_uri": "https://localhost:8080/",
          "height": 50
        },
        "outputId": "f6338ff5-7707-4b22-e81e-1bddcaaf9583"
      },
      "source": [
        "\n",
        "%%time\n",
        "\n",
        "import datetime\n",
        "\n",
        "def _generate_events(data):\n",
        "  previous_time = datetime.datetime(2020, 12, 31)\n",
        "  all_events = []\n",
        "  current_events = []\n",
        "  for index, row in data.iterrows():\n",
        "    current_time = row['Datetime']  \n",
        "    current_hour = row['Hour']\n",
        "    venue = row['VenueID']\n",
        "    if( (current_time - previous_time).total_seconds()/60/60 < 8):\n",
        "      current_events.append([venue, current_hour])\n",
        "      previous_time = current_time\n",
        "    else:\n",
        "      all_events.append(current_events)\n",
        "      current_events = []\n",
        "      current_events.append([venue, current_hour])\n",
        "      previous_time = current_time\n",
        "  if len(current_events)>0:\n",
        "    all_events.append(current_events)\n",
        "  return all_events\n",
        "\n"
      ],
      "execution_count": 19,
      "outputs": [
        {
          "output_type": "stream",
          "text": [
            "CPU times: user 5 µs, sys: 0 ns, total: 5 µs\n",
            "Wall time: 7.63 µs\n"
          ],
          "name": "stdout"
        }
      ]
    },
    {
      "cell_type": "markdown",
      "metadata": {
        "id": "PGbPUprJjT6C",
        "colab_type": "text"
      },
      "source": [
        "5. **Subsequences:** A Sequence cannot be directly fed into a model, hence we need to break it down to components.\n",
        "\n",
        "---\n",
        "\n",
        "Example:\n",
        "\n",
        "for a sequence (v1,t1) (v2,t2) (v3,t3) (v4,t4)\n",
        "\n",
        "(v1,t1) (v2,t2)\n",
        "\n",
        "(v2,t2) (v3,t3)\n",
        "\n",
        "(v3,t3) (v4,t4)\n"
      ]
    },
    {
      "cell_type": "code",
      "metadata": {
        "id": "onphkt15fffb",
        "colab_type": "code",
        "colab": {
          "base_uri": "https://localhost:8080/",
          "height": 50
        },
        "outputId": "61cb9099-93ad-421d-b2f2-600b41837b1d"
      },
      "source": [
        "# create all possible subsequences from the above sequence (maintaining the order)\n",
        "# we need a length of atleast 2 for feature and the label, ignore all sequence of events less than length 2\n",
        "\n",
        "\n",
        "# LSTM will remember that v2 comes after v1 and that v3 comes after v2 and if it sees v3 then next would be v4\n",
        "\n",
        "%%time\n",
        "\n",
        "def _generate_subsequence(data):\n",
        "  all_sequences = []\n",
        "  for sequence in data:  \n",
        "    if len(sequence) >= 2:\n",
        "      sequences = []\n",
        "      for i in range(0,len(sequence)-1):\n",
        "          sequences.append(sequence[i:i+2])          \n",
        "      all_sequences.append(sequences)\n",
        "  return all_sequences\n",
        "\n",
        "\n",
        "#old way of creating sub sequences \n",
        "# (v1,t1) (v2,t2)\n",
        "# (v1,t1) (v2,t2) (v3,t3)\n",
        "# (v1,t1) (v2,t2) (v3,t3) (v4,t4)\n",
        "\n",
        "'''\n",
        "def _generate_subsequence(data):\n",
        "  all_sequences = []\n",
        "  for sequence in data:  \n",
        "    if len(sequence) > 2:\n",
        "      for i in range(0,1):\n",
        "        sequences = []\n",
        "        for j in range(i+2,len(sequence)+1):      \n",
        "          sequences.append(sequence[i:j])          \n",
        "        all_sequences.append(sequences)\n",
        "  return all_sequences\n",
        "'''\n"
      ],
      "execution_count": 20,
      "outputs": [
        {
          "output_type": "stream",
          "text": [
            "CPU times: user 2 µs, sys: 1 µs, total: 3 µs\n",
            "Wall time: 4.53 µs\n"
          ],
          "name": "stdout"
        }
      ]
    },
    {
      "cell_type": "markdown",
      "metadata": {
        "id": "Ad3Oc0gJANKK",
        "colab_type": "text"
      },
      "source": [
        "# **2. Encoding**\n"
      ]
    },
    {
      "cell_type": "code",
      "metadata": {
        "id": "cIk1Mp7aARtr",
        "colab_type": "code",
        "colab": {
          "base_uri": "https://localhost:8080/",
          "height": 50
        },
        "outputId": "5e732a94-fa9c-4505-eb23-ac68d1772915"
      },
      "source": [
        "%time\n",
        "\n",
        "events = _generate_events(Checkin_u1205_nodup)\n",
        "#print(\"Events\")\n",
        "#print(events)\n",
        "\n",
        "sequences = _generate_subsequence(events)\n",
        "#print(\"Subsequences\")\n",
        "#print(sequences)"
      ],
      "execution_count": 21,
      "outputs": [
        {
          "output_type": "stream",
          "text": [
            "CPU times: user 2 µs, sys: 0 ns, total: 2 µs\n",
            "Wall time: 5.96 µs\n"
          ],
          "name": "stdout"
        }
      ]
    },
    {
      "cell_type": "markdown",
      "metadata": {
        "id": "MmF8wTtylB47",
        "colab_type": "text"
      },
      "source": [
        "1. **Split the data:** \n",
        "\n",
        "---\n",
        "Before, encoding, split the data to train, validation and test set and then perform the encoding and padding. We do this to maintain integrity and structure of the data.\n",
        "\n",
        "Since we have inputs of the different length, we will have to pad each input with zeros , so that all inputs are of the same length in a mini-batch\n",
        "\n",
        "60, 20, 20 split (train, validation and test)"
      ]
    },
    {
      "cell_type": "code",
      "metadata": {
        "id": "JHPoIaUzLhaR",
        "colab_type": "code",
        "colab": {
          "base_uri": "https://localhost:8080/",
          "height": 84
        },
        "outputId": "d0f7d6e1-9184-4051-d4aa-1c4d0bf8182e"
      },
      "source": [
        "n = len(events)  \n",
        "\n",
        "n_test = int( n * .2 ) \n",
        "n_val = int( n * .2 ) \n",
        "n_train = n - (n_test+n_val)\n",
        "\n",
        "print(f\"Dataset set terms: {n}\")\n",
        "print(f\"Train set terms: {n_train}\") \n",
        "print(f\"Test set terms: {n_test}\")\n",
        "print( f\"Validation set terms: {n_val}\")\n",
        "\n",
        "train_set, val_set, test_set = data.random_split(events, (n_train, n_val, n_test))\n",
        "\n",
        "#the train, val and the test indices has to be whole numbers adding upto to the n"
      ],
      "execution_count": 22,
      "outputs": [
        {
          "output_type": "stream",
          "text": [
            "Dataset set terms: 154\n",
            "Train set terms: 94\n",
            "Test set terms: 30\n",
            "Validation set terms: 30\n"
          ],
          "name": "stdout"
        }
      ]
    },
    {
      "cell_type": "markdown",
      "metadata": {
        "id": "LGKjRWeWlvzs",
        "colab_type": "text"
      },
      "source": [
        "2. **Get Max length of each set.**\n",
        "\n",
        "---\n",
        "we need this info for padding."
      ]
    },
    {
      "cell_type": "code",
      "metadata": {
        "id": "qwVuB5LgeQAv",
        "colab_type": "code",
        "colab": {
          "base_uri": "https://localhost:8080/",
          "height": 67
        },
        "outputId": "93189f42-61f8-419a-bfe1-337f762a0cad"
      },
      "source": [
        "#find max length of sequence for each set\n",
        "\n",
        "def _get_maxlength_seq(data):\n",
        "  t = []\n",
        "  for i in data:\n",
        "    t.append([i,len(i)])\n",
        "  temp_df = pd.DataFrame(t)\n",
        "  temp_df.sort_values(by=1, ascending=False,inplace=True)\n",
        "  return np.max(temp_df[1])\n",
        "\n",
        "max_length_train= _get_maxlength_seq(train_set)\n",
        "max_length_val= _get_maxlength_seq(val_set)\n",
        "max_length_test= _get_maxlength_seq(test_set)\n",
        "\n",
        "print(f\"max_length_train: {max_length_train}\")\n",
        "print(f\"max_length_val: {max_length_val}\")\n",
        "print(f\"max_length_test: {max_length_test}\")"
      ],
      "execution_count": 23,
      "outputs": [
        {
          "output_type": "stream",
          "text": [
            "max_length_train: 14\n",
            "max_length_val: 18\n",
            "max_length_test: 22\n"
          ],
          "name": "stdout"
        }
      ]
    },
    {
      "cell_type": "markdown",
      "metadata": {
        "id": "MsiIJ97zbXIC",
        "colab_type": "text"
      },
      "source": [
        "3. **One hot ecoding** of the the venues then do padding.\n",
        "\n",
        "----\n",
        "\n",
        "Pytorch does not have one hot encoding package hence, need to create our own code."
      ]
    },
    {
      "cell_type": "code",
      "metadata": {
        "id": "x8-T1nChONp_",
        "colab_type": "code",
        "colab": {}
      },
      "source": [
        "\n",
        "class one_hot_char_coding(object):\n",
        "  def __init__(self):\n",
        "    self.word2idx = {}\n",
        "    self.idx2word = []\n",
        "    self.length = 0\n",
        "\n",
        "  def add_word(self, word):\n",
        "    if word not in self.idx2word:\n",
        "      self.idx2word.append(word)\n",
        "      self.word2idx[word] = self.length + 1\n",
        "      self.length += 1\n",
        "    return self.word2idx[word]\n",
        "\n",
        "  def __len__(self):\n",
        "    return len(self.idx2word)\n",
        "\n",
        "  def onehot_encoded(self, word):\n",
        "    vec = np.zeros(self.length)\n",
        "    vec[self.word2idx[word]-1] = 1\n",
        "    return vec\n"
      ],
      "execution_count": 24,
      "outputs": []
    },
    {
      "cell_type": "code",
      "metadata": {
        "id": "Q9SAVfWaOPM5",
        "colab_type": "code",
        "colab": {}
      },
      "source": [
        "coded_obj = one_hot_char_coding()\n",
        "\n",
        "for word in Checkin_u1205_nodup.VenueID.values:\n",
        "    coded_obj.add_word(word)\n",
        "#print(coded_obj.word2idx)\n",
        "#print(coded_obj.onehot_encoded(\"v45783\"))\n",
        "#here we have 139 unique values, so the one hot encoded vector is 139 length long"
      ],
      "execution_count": 25,
      "outputs": []
    },
    {
      "cell_type": "markdown",
      "metadata": {
        "id": "rOld9ao6mjOL",
        "colab_type": "text"
      },
      "source": [
        "4. **Coding time:**\n",
        "---\n",
        "Time is cyclical feature so it will be encoded as Time Column = Sin(Time) + Cosine(Time). This will maintain the cyclic nature of the data.\n",
        "\n",
        "sequence with less than 2 will be descarded as they cannot be used to predict\n"
      ]
    },
    {
      "cell_type": "code",
      "metadata": {
        "id": "FZ_nlVVBr7jX",
        "colab_type": "code",
        "colab": {
          "base_uri": "https://localhost:8080/",
          "height": 68
        },
        "outputId": "4c4f9c94-961c-4bca-9121-3d53ce2157a5"
      },
      "source": [
        "%time\n",
        "\n",
        "def _assign_code(data):\n",
        "  temp_row=[]\n",
        "  for row in data:    \n",
        "    temp_event = []\n",
        "    for event in row:   \n",
        "      venue_id = coded_obj.onehot_encoded(event[0])\n",
        "      time_sine = np.sin(2 * np.pi * event[1]/23.0)\n",
        "      time_cos = np.cos(2 * np.pi * event[1]/23.0)\n",
        "      temp_event.append([venue_id, time_sine, time_cos])\n",
        "    if(len(temp_event) >= 2):\n",
        "      temp_row.append(temp_event)\n",
        "  return temp_row\n",
        " \n",
        "train_set_e = _assign_code(train_set)\n",
        "print(f\"Number of inputs less than 2 is: {len(train_set) - len(train_set_e)}\") \n"
      ],
      "execution_count": 26,
      "outputs": [
        {
          "output_type": "stream",
          "text": [
            "CPU times: user 2 µs, sys: 0 ns, total: 2 µs\n",
            "Wall time: 6.44 µs\n",
            "Number of inputs less than 2 is: 8\n"
          ],
          "name": "stdout"
        }
      ]
    },
    {
      "cell_type": "markdown",
      "metadata": {
        "id": "0Memj7VEnC6V",
        "colab_type": "text"
      },
      "source": [
        "5. **Features and Labels**\n",
        "\n",
        "---\n",
        "Last event will be the target "
      ]
    },
    {
      "cell_type": "code",
      "metadata": {
        "id": "tE0U1Hw6M8VV",
        "colab_type": "code",
        "colab": {}
      },
      "source": [
        "def _separate_x_y(data):\n",
        "  for row in data:\n",
        "    x = row[:-1]\n",
        "    y = row[-1]\n",
        "    return [x,y]\n",
        "\n",
        "#_separate_x_y(train_set_e)"
      ],
      "execution_count": 27,
      "outputs": []
    },
    {
      "cell_type": "markdown",
      "metadata": {
        "id": "biocd-sHnZNf",
        "colab_type": "text"
      },
      "source": [
        "6. **Padding**"
      ]
    },
    {
      "cell_type": "markdown",
      "metadata": {
        "id": "D3szXaGpSbu4",
        "colab_type": "text"
      },
      "source": [
        "Pad with zeros to even the length of the input"
      ]
    },
    {
      "cell_type": "code",
      "metadata": {
        "id": "_gm0rEtaOKg9",
        "colab_type": "code",
        "colab": {
          "base_uri": "https://localhost:8080/",
          "height": 34
        },
        "outputId": "617b7637-aed4-416b-d7a7-2f1709986e6f"
      },
      "source": [
        "'''\n",
        "a = torch.ones(1,3)\n",
        "b = torch.ones(1,5)\n",
        "c = torch.ones(1,6)\n",
        "F.pad(a,(0,3), \"constant\",0)'''\n"
      ],
      "execution_count": 28,
      "outputs": [
        {
          "output_type": "execute_result",
          "data": {
            "text/plain": [
              "'\\na = torch.ones(1,3)\\nb = torch.ones(1,5)\\nc = torch.ones(1,6)\\nF.pad(a,(0,3), \"constant\",0)'"
            ]
          },
          "metadata": {
            "tags": []
          },
          "execution_count": 28
        }
      ]
    },
    {
      "cell_type": "markdown",
      "metadata": {
        "id": "2JxKUlZZe5PE",
        "colab_type": "text"
      },
      "source": [
        "Resources used\n",
        "***\n",
        "https://discuss.pytorch.org/t/mini-batch-training-for-inputs-of-variable-sizes/13662\n",
        "\n",
        "https://medium.com/ibm-data-science-experience/markdown-for-jupyter-notebooks-cheatsheet-386c05aeebed\n",
        "\n",
        "https://stackoverflow.com/questions/53532352/how-do-i-split-the-training-dataset-into-training-validation-and-test-datasets\n",
        "\n",
        "https://learning.oreilly.com/library/view/deep-learning-with/9781788624336/e397c9a2-28a2-41fd-bcc2-a6bb49adfc44.xhtml\n",
        "\n",
        "https://www.kaggle.com/avanwyk/encoding-cyclical-features-for-deep-learning\n"
      ]
    }
  ]
}