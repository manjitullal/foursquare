{
  "nbformat": 4,
  "nbformat_minor": 0,
  "metadata": {
    "colab": {
      "name": "FourSquare-Temporal-RNN.ipynb",
      "provenance": [],
      "collapsed_sections": [],
      "include_colab_link": true
    },
    "kernelspec": {
      "name": "python3",
      "display_name": "Python 3"
    }
  },
  "cells": [
    {
      "cell_type": "markdown",
      "metadata": {
        "id": "view-in-github",
        "colab_type": "text"
      },
      "source": [
        "<a href=\"https://colab.research.google.com/github/manjitullal/foursquare/blob/master/FourSquare_Temporal_RNN.ipynb\" target=\"_parent\"><img src=\"https://colab.research.google.com/assets/colab-badge.svg\" alt=\"Open In Colab\"/></a>"
      ]
    },
    {
      "cell_type": "markdown",
      "metadata": {
        "id": "srsPqj3OoFO-",
        "colab_type": "text"
      },
      "source": [
        "# **Temporal and Spatial analysis of events data using LSTM**\n",
        "\n"
      ]
    },
    {
      "cell_type": "markdown",
      "metadata": {
        "id": "9Zt2Bq77oUEu",
        "colab_type": "text"
      },
      "source": [
        "**Dataset:** foursquare\n",
        "\n",
        "**Aim:** to predict future location and time of user given the historical sequences of location and time .\n",
        "\n",
        "An analogy for the aim is , predicting the next word in a sentence. \n"
      ]
    },
    {
      "cell_type": "markdown",
      "metadata": {
        "id": "SzINCAjZpryW",
        "colab_type": "text"
      },
      "source": [
        "**Contents:**\n",
        "***\n",
        "1. Data pre processing\n",
        "2. Encoding\n",
        "3. Modeling\n",
        "4. Training"
      ]
    },
    {
      "cell_type": "markdown",
      "metadata": {
        "id": "ce2cG-Z1p_UV",
        "colab_type": "text"
      },
      "source": [
        "# **1. Data pre processing**\n"
      ]
    },
    {
      "cell_type": "code",
      "metadata": {
        "id": "0GlupXKwn6GU",
        "colab_type": "code",
        "colab": {
          "base_uri": "https://localhost:8080/",
          "height": 34
        },
        "outputId": "8a5c9faa-5148-4016-b6e9-bcdd0db6ae21"
      },
      "source": [
        "import pandas as pd\n",
        "import numpy as np\n",
        "import tensorflow as tf\n",
        "\n",
        "\n",
        "from google.colab import drive\n",
        "import warnings\n",
        "warnings.filterwarnings('ignore')\n",
        "\n",
        "import torch\n",
        "import torch.nn as nn\n",
        "import torch.nn.functional as F\n",
        "import torch.optim as optim\n",
        "from torch.utils import data\n",
        "from torch.nn.utils.rnn import pad_sequence\n",
        "from sklearn.preprocessing import OneHotEncoder\n",
        "\n",
        "torch.manual_seed(1)"
      ],
      "execution_count": 1,
      "outputs": [
        {
          "output_type": "execute_result",
          "data": {
            "text/plain": [
              "<torch._C.Generator at 0x7f6f928caf90>"
            ]
          },
          "metadata": {
            "tags": []
          },
          "execution_count": 1
        }
      ]
    },
    {
      "cell_type": "markdown",
      "metadata": {
        "id": "918U9XsGYpD-",
        "colab_type": "text"
      },
      "source": [
        "1. **Check for GPU**\n",
        "---\n",
        "This code presently does not use GPU. This will later be modified to use one.\n"
      ]
    },
    {
      "cell_type": "code",
      "metadata": {
        "id": "qKWnSgTB1mv9",
        "colab_type": "code",
        "colab": {
          "base_uri": "https://localhost:8080/",
          "height": 255
        },
        "outputId": "406f6370-d80d-43af-c77a-9ec7da607549"
      },
      "source": [
        "#check the devices available\n",
        "\n",
        "from tensorflow.python.client import device_lib\n",
        "print(device_lib.list_local_devices())"
      ],
      "execution_count": 2,
      "outputs": [
        {
          "output_type": "stream",
          "text": [
            "[name: \"/device:CPU:0\"\n",
            "device_type: \"CPU\"\n",
            "memory_limit: 268435456\n",
            "locality {\n",
            "}\n",
            "incarnation: 14915336256448526283\n",
            ", name: \"/device:XLA_CPU:0\"\n",
            "device_type: \"XLA_CPU\"\n",
            "memory_limit: 17179869184\n",
            "locality {\n",
            "}\n",
            "incarnation: 18016817303924943244\n",
            "physical_device_desc: \"device: XLA_CPU device\"\n",
            "]\n"
          ],
          "name": "stdout"
        }
      ]
    },
    {
      "cell_type": "code",
      "metadata": {
        "id": "idzooZ_m200b",
        "colab_type": "code",
        "colab": {
          "base_uri": "https://localhost:8080/",
          "height": 34
        },
        "outputId": "5a3d86dd-f0b6-40e1-9a61-d87c7225b016"
      },
      "source": [
        "#check if the gpu is available\n",
        "print(\"Num GPUs Available: \", len(tf.config.experimental.list_physical_devices('GPU')))"
      ],
      "execution_count": 3,
      "outputs": [
        {
          "output_type": "stream",
          "text": [
            "Num GPUs Available:  0\n"
          ],
          "name": "stdout"
        }
      ]
    },
    {
      "cell_type": "code",
      "metadata": {
        "id": "W5DIAW674AA6",
        "colab_type": "code",
        "colab": {
          "base_uri": "https://localhost:8080/",
          "height": 34
        },
        "outputId": "0439779f-c41f-4e9a-8ea3-831b2d7694ba"
      },
      "source": [
        "#the GPU may not be available at the moment\n",
        "\n",
        "import tensorflow as tf\n",
        "device_name = tf.test.gpu_device_name()\n",
        "if device_name != '/device:GPU:0':\n",
        "    print('GPU device not found')\n"
      ],
      "execution_count": 4,
      "outputs": [
        {
          "output_type": "stream",
          "text": [
            "GPU device not found\n"
          ],
          "name": "stdout"
        }
      ]
    },
    {
      "cell_type": "code",
      "metadata": {
        "id": "hqnyh90agc5m",
        "colab_type": "code",
        "colab": {
          "base_uri": "https://localhost:8080/",
          "height": 34
        },
        "outputId": "6912eb65-e6dd-4e14-ced1-6154c640ffce"
      },
      "source": [
        "#dataset is in the google drive\n",
        "\n",
        "drive.mount('/content/drive')"
      ],
      "execution_count": 5,
      "outputs": [
        {
          "output_type": "stream",
          "text": [
            "Drive already mounted at /content/drive; to attempt to forcibly remount, call drive.mount(\"/content/drive\", force_remount=True).\n"
          ],
          "name": "stdout"
        }
      ]
    },
    {
      "cell_type": "code",
      "metadata": {
        "id": "SjDgrlTdgmji",
        "colab_type": "code",
        "colab": {
          "base_uri": "https://localhost:8080/",
          "height": 51
        },
        "outputId": "1d022431-7e10-4130-bae0-2e65049ba8d5"
      },
      "source": [
        "#my google drive path\n",
        "\n",
        "!ls \"/content/drive/My Drive/dataset/foursquare\"\n",
        "path = \"/content/drive/My Drive/dataset/foursquare\""
      ],
      "execution_count": 6,
      "outputs": [
        {
          "output_type": "stream",
          "text": [
            "Checkin.txt\t UserFriends.txt    VenueRating.txt\n",
            "Description.txt  VenueCategory.txt  Venue.txt\n"
          ],
          "name": "stdout"
        }
      ]
    },
    {
      "cell_type": "markdown",
      "metadata": {
        "id": "sduA9CxS_y_H",
        "colab_type": "text"
      },
      "source": [
        "2. **Load dataset.** \n",
        "---\n",
        "Dataset, consists of 5 tables. `Checkin` table has the event details"
      ]
    },
    {
      "cell_type": "code",
      "metadata": {
        "id": "V-_st6uAdyTM",
        "colab_type": "code",
        "colab": {
          "base_uri": "https://localhost:8080/",
          "height": 51
        },
        "outputId": "4e12b78a-c357-4bfb-c5ae-9b4589e37d6b"
      },
      "source": [
        "%%time\n",
        "Checkin_columns = ['UserID','VenueID','Year','Month','Date','Hour']\n",
        "Checkin = pd.read_csv(path+'/Checkin.txt', sep=',', skiprows=1, names=Checkin_columns)"
      ],
      "execution_count": 7,
      "outputs": [
        {
          "output_type": "stream",
          "text": [
            "CPU times: user 646 ms, sys: 228 ms, total: 874 ms\n",
            "Wall time: 952 ms\n"
          ],
          "name": "stdout"
        }
      ]
    },
    {
      "cell_type": "code",
      "metadata": {
        "id": "MbzKjlyHh7a2",
        "colab_type": "code",
        "colab": {
          "base_uri": "https://localhost:8080/",
          "height": 51
        },
        "outputId": "31e484f9-6898-4a1b-c5a5-050654ab36e4"
      },
      "source": [
        "%%time\n",
        "\n",
        "Venue_columns = ['VenueID','VenueName','Latitude','Longitude','CategoryID']\n",
        "Venue = pd.read_csv(path+'/Venue.txt', sep=',', error_bad_lines=False,skiprows=1,names=Venue_columns)\n",
        "\n",
        "VenueCategory_columns = ['CategoryID','CategoryName','ParentCategoryID']\n",
        "VenueCategory = pd.read_csv(path+'/VenueCategory.txt', sep=',',error_bad_lines=False,skiprows=1,names=VenueCategory_columns)\n",
        "\n",
        "VenueRating_columns = ['VenueID','Rating']\n",
        "VenueRating = pd.read_csv(path+'/VenueRating.txt', sep=',',error_bad_lines=False,skiprows=1,names=VenueRating_columns)\n",
        "\n",
        "UserFriends = pd.read_csv(path+'/UserFriends.txt', sep=',') \n",
        "\n",
        "all_tables = [Checkin,Venue,VenueCategory,VenueRating,UserFriends]\n",
        "all_tables_string = ['Checkin','Venue','VenueCategory','VenueRating','UserFriends']"
      ],
      "execution_count": 8,
      "outputs": [
        {
          "output_type": "stream",
          "text": [
            "CPU times: user 873 ms, sys: 144 ms, total: 1.02 s\n",
            "Wall time: 1.08 s\n"
          ],
          "name": "stdout"
        }
      ]
    },
    {
      "cell_type": "code",
      "metadata": {
        "id": "zyuAPADGhADL",
        "colab_type": "code",
        "colab": {
          "base_uri": "https://localhost:8080/",
          "height": 204
        },
        "outputId": "8f4f5483-4d06-4ee7-aa9c-4cbfc9a06e99"
      },
      "source": [
        "Checkin.head()"
      ],
      "execution_count": 9,
      "outputs": [
        {
          "output_type": "execute_result",
          "data": {
            "text/html": [
              "<div>\n",
              "<style scoped>\n",
              "    .dataframe tbody tr th:only-of-type {\n",
              "        vertical-align: middle;\n",
              "    }\n",
              "\n",
              "    .dataframe tbody tr th {\n",
              "        vertical-align: top;\n",
              "    }\n",
              "\n",
              "    .dataframe thead th {\n",
              "        text-align: right;\n",
              "    }\n",
              "</style>\n",
              "<table border=\"1\" class=\"dataframe\">\n",
              "  <thead>\n",
              "    <tr style=\"text-align: right;\">\n",
              "      <th></th>\n",
              "      <th>UserID</th>\n",
              "      <th>VenueID</th>\n",
              "      <th>Year</th>\n",
              "      <th>Month</th>\n",
              "      <th>Date</th>\n",
              "      <th>Hour</th>\n",
              "    </tr>\n",
              "  </thead>\n",
              "  <tbody>\n",
              "    <tr>\n",
              "      <th>0</th>\n",
              "      <td>u1302</td>\n",
              "      <td>v47</td>\n",
              "      <td>2012</td>\n",
              "      <td>2</td>\n",
              "      <td>24</td>\n",
              "      <td>11</td>\n",
              "    </tr>\n",
              "    <tr>\n",
              "      <th>1</th>\n",
              "      <td>u45</td>\n",
              "      <td>v132</td>\n",
              "      <td>2012</td>\n",
              "      <td>2</td>\n",
              "      <td>24</td>\n",
              "      <td>11</td>\n",
              "    </tr>\n",
              "    <tr>\n",
              "      <th>2</th>\n",
              "      <td>u24844</td>\n",
              "      <td>v86</td>\n",
              "      <td>2012</td>\n",
              "      <td>2</td>\n",
              "      <td>24</td>\n",
              "      <td>11</td>\n",
              "    </tr>\n",
              "    <tr>\n",
              "      <th>3</th>\n",
              "      <td>u896</td>\n",
              "      <td>v248</td>\n",
              "      <td>2012</td>\n",
              "      <td>2</td>\n",
              "      <td>24</td>\n",
              "      <td>11</td>\n",
              "    </tr>\n",
              "    <tr>\n",
              "      <th>4</th>\n",
              "      <td>u5020</td>\n",
              "      <td>v29</td>\n",
              "      <td>2012</td>\n",
              "      <td>2</td>\n",
              "      <td>24</td>\n",
              "      <td>11</td>\n",
              "    </tr>\n",
              "  </tbody>\n",
              "</table>\n",
              "</div>"
            ],
            "text/plain": [
              "   UserID VenueID  Year  Month  Date  Hour\n",
              "0   u1302     v47  2012      2    24    11\n",
              "1     u45    v132  2012      2    24    11\n",
              "2  u24844     v86  2012      2    24    11\n",
              "3    u896    v248  2012      2    24    11\n",
              "4   u5020     v29  2012      2    24    11"
            ]
          },
          "metadata": {
            "tags": []
          },
          "execution_count": 9
        }
      ]
    },
    {
      "cell_type": "code",
      "metadata": {
        "id": "ofoqannHheKI",
        "colab_type": "code",
        "colab": {
          "base_uri": "https://localhost:8080/",
          "height": 782
        },
        "outputId": "a91e1c3d-99d7-44a0-8713-c3313e8289d5"
      },
      "source": [
        "#stats of the data \n",
        "\n",
        "def _describe(data):\n",
        "    print(f\" Number of rows: {data.shape[0]}\")\n",
        "    print(f\" Number of columns: {data.shape[1]}\")\n",
        "    print(f\" Number of null values: {np.sum(data.isnull().sum())}\")\n",
        "    print(\"The columns that have null values\")\n",
        "    print(pd.DataFrame(data.isnull().sum()).T)\n",
        "    \n",
        "for index,table in enumerate(all_tables):\n",
        "    print(f\"Details of table {all_tables_string[index]}\")\n",
        "    print(\"\")\n",
        "    _describe(table)\n",
        "    print(\"\")"
      ],
      "execution_count": 10,
      "outputs": [
        {
          "output_type": "stream",
          "text": [
            "Details of table Checkin\n",
            "\n",
            " Number of rows: 1276988\n",
            " Number of columns: 6\n",
            " Number of null values: 0\n",
            "The columns that have null values\n",
            "   UserID  VenueID  Year  Month  Date  Hour\n",
            "0       0        0     0      0     0     0\n",
            "\n",
            "Details of table Venue\n",
            "\n",
            " Number of rows: 85928\n",
            " Number of columns: 5\n",
            " Number of null values: 14\n",
            "The columns that have null values\n",
            "   VenueID  VenueName  Latitude  Longitude  CategoryID\n",
            "0        0         12         2          0           0\n",
            "\n",
            "Details of table VenueCategory\n",
            "\n",
            " Number of rows: 394\n",
            " Number of columns: 3\n",
            " Number of null values: 0\n",
            "The columns that have null values\n",
            "   CategoryID  CategoryName  ParentCategoryID\n",
            "0           0             0                 0\n",
            "\n",
            "Details of table VenueRating\n",
            "\n",
            " Number of rows: 68178\n",
            " Number of columns: 2\n",
            " Number of null values: 96\n",
            "The columns that have null values\n",
            "   VenueID  Rating\n",
            "0       96       0\n",
            "\n",
            "Details of table UserFriends\n",
            "\n",
            " Number of rows: 1366388\n",
            " Number of columns: 2\n",
            " Number of null values: 0\n",
            "The columns that have null values\n",
            "   userID  friendID\n",
            "0       0         0\n",
            "\n"
          ],
          "name": "stdout"
        }
      ]
    },
    {
      "cell_type": "markdown",
      "metadata": {
        "id": "JQP07W6eqXqN",
        "colab_type": "text"
      },
      "source": [
        "3. **Model for one user** (for testing), hence we will filter the data for one user, eventually this will be extended for all users"
      ]
    },
    {
      "cell_type": "code",
      "metadata": {
        "id": "07eFFxUde_7Y",
        "colab_type": "code",
        "colab": {
          "base_uri": "https://localhost:8080/",
          "height": 204
        },
        "outputId": "d154d018-4e46-4324-80a4-9fd4d4ff5e80"
      },
      "source": [
        "#filter data for one user \n",
        "\n",
        "Checkin_u1205 = Checkin[Checkin.UserID == 'u1205']\n",
        "Checkin_u1205.head()"
      ],
      "execution_count": 11,
      "outputs": [
        {
          "output_type": "execute_result",
          "data": {
            "text/html": [
              "<div>\n",
              "<style scoped>\n",
              "    .dataframe tbody tr th:only-of-type {\n",
              "        vertical-align: middle;\n",
              "    }\n",
              "\n",
              "    .dataframe tbody tr th {\n",
              "        vertical-align: top;\n",
              "    }\n",
              "\n",
              "    .dataframe thead th {\n",
              "        text-align: right;\n",
              "    }\n",
              "</style>\n",
              "<table border=\"1\" class=\"dataframe\">\n",
              "  <thead>\n",
              "    <tr style=\"text-align: right;\">\n",
              "      <th></th>\n",
              "      <th>UserID</th>\n",
              "      <th>VenueID</th>\n",
              "      <th>Year</th>\n",
              "      <th>Month</th>\n",
              "      <th>Date</th>\n",
              "      <th>Hour</th>\n",
              "    </tr>\n",
              "  </thead>\n",
              "  <tbody>\n",
              "    <tr>\n",
              "      <th>2723</th>\n",
              "      <td>u1205</td>\n",
              "      <td>v73805</td>\n",
              "      <td>2012</td>\n",
              "      <td>2</td>\n",
              "      <td>25</td>\n",
              "      <td>9</td>\n",
              "    </tr>\n",
              "    <tr>\n",
              "      <th>3817</th>\n",
              "      <td>u1205</td>\n",
              "      <td>v9884</td>\n",
              "      <td>2012</td>\n",
              "      <td>2</td>\n",
              "      <td>25</td>\n",
              "      <td>11</td>\n",
              "    </tr>\n",
              "    <tr>\n",
              "      <th>4739</th>\n",
              "      <td>u1205</td>\n",
              "      <td>v3906</td>\n",
              "      <td>2012</td>\n",
              "      <td>2</td>\n",
              "      <td>25</td>\n",
              "      <td>13</td>\n",
              "    </tr>\n",
              "    <tr>\n",
              "      <th>5904</th>\n",
              "      <td>u1205</td>\n",
              "      <td>v10373</td>\n",
              "      <td>2012</td>\n",
              "      <td>2</td>\n",
              "      <td>25</td>\n",
              "      <td>15</td>\n",
              "    </tr>\n",
              "    <tr>\n",
              "      <th>6840</th>\n",
              "      <td>u1205</td>\n",
              "      <td>v9884</td>\n",
              "      <td>2012</td>\n",
              "      <td>2</td>\n",
              "      <td>25</td>\n",
              "      <td>17</td>\n",
              "    </tr>\n",
              "  </tbody>\n",
              "</table>\n",
              "</div>"
            ],
            "text/plain": [
              "     UserID VenueID  Year  Month  Date  Hour\n",
              "2723  u1205  v73805  2012      2    25     9\n",
              "3817  u1205   v9884  2012      2    25    11\n",
              "4739  u1205   v3906  2012      2    25    13\n",
              "5904  u1205  v10373  2012      2    25    15\n",
              "6840  u1205   v9884  2012      2    25    17"
            ]
          },
          "metadata": {
            "tags": []
          },
          "execution_count": 11
        }
      ]
    },
    {
      "cell_type": "code",
      "metadata": {
        "id": "-wjalbEBit8a",
        "colab_type": "code",
        "colab": {
          "base_uri": "https://localhost:8080/",
          "height": 204
        },
        "outputId": "86e872c9-4969-42ec-b7de-1ad7fd0d8a44"
      },
      "source": [
        "# drop userid as that is not useful now, since there is only one user \n",
        "\n",
        "Checkin_u1205.drop(['UserID'], axis=1, inplace=True)\n",
        "\n",
        "#renaming column Date to Day\n",
        "Checkin_u1205.rename(columns={\"Date\":\"Day\"}, inplace=True)\n",
        "Checkin_u1205.head()"
      ],
      "execution_count": 12,
      "outputs": [
        {
          "output_type": "execute_result",
          "data": {
            "text/html": [
              "<div>\n",
              "<style scoped>\n",
              "    .dataframe tbody tr th:only-of-type {\n",
              "        vertical-align: middle;\n",
              "    }\n",
              "\n",
              "    .dataframe tbody tr th {\n",
              "        vertical-align: top;\n",
              "    }\n",
              "\n",
              "    .dataframe thead th {\n",
              "        text-align: right;\n",
              "    }\n",
              "</style>\n",
              "<table border=\"1\" class=\"dataframe\">\n",
              "  <thead>\n",
              "    <tr style=\"text-align: right;\">\n",
              "      <th></th>\n",
              "      <th>VenueID</th>\n",
              "      <th>Year</th>\n",
              "      <th>Month</th>\n",
              "      <th>Day</th>\n",
              "      <th>Hour</th>\n",
              "    </tr>\n",
              "  </thead>\n",
              "  <tbody>\n",
              "    <tr>\n",
              "      <th>2723</th>\n",
              "      <td>v73805</td>\n",
              "      <td>2012</td>\n",
              "      <td>2</td>\n",
              "      <td>25</td>\n",
              "      <td>9</td>\n",
              "    </tr>\n",
              "    <tr>\n",
              "      <th>3817</th>\n",
              "      <td>v9884</td>\n",
              "      <td>2012</td>\n",
              "      <td>2</td>\n",
              "      <td>25</td>\n",
              "      <td>11</td>\n",
              "    </tr>\n",
              "    <tr>\n",
              "      <th>4739</th>\n",
              "      <td>v3906</td>\n",
              "      <td>2012</td>\n",
              "      <td>2</td>\n",
              "      <td>25</td>\n",
              "      <td>13</td>\n",
              "    </tr>\n",
              "    <tr>\n",
              "      <th>5904</th>\n",
              "      <td>v10373</td>\n",
              "      <td>2012</td>\n",
              "      <td>2</td>\n",
              "      <td>25</td>\n",
              "      <td>15</td>\n",
              "    </tr>\n",
              "    <tr>\n",
              "      <th>6840</th>\n",
              "      <td>v9884</td>\n",
              "      <td>2012</td>\n",
              "      <td>2</td>\n",
              "      <td>25</td>\n",
              "      <td>17</td>\n",
              "    </tr>\n",
              "  </tbody>\n",
              "</table>\n",
              "</div>"
            ],
            "text/plain": [
              "     VenueID  Year  Month  Day  Hour\n",
              "2723  v73805  2012      2   25     9\n",
              "3817   v9884  2012      2   25    11\n",
              "4739   v3906  2012      2   25    13\n",
              "5904  v10373  2012      2   25    15\n",
              "6840   v9884  2012      2   25    17"
            ]
          },
          "metadata": {
            "tags": []
          },
          "execution_count": 12
        }
      ]
    },
    {
      "cell_type": "code",
      "metadata": {
        "id": "WRc5b7_mjOA2",
        "colab_type": "code",
        "colab": {
          "base_uri": "https://localhost:8080/",
          "height": 51
        },
        "outputId": "0ecb8064-96a9-4ac3-f074-734f675a2b61"
      },
      "source": [
        "# create a new column, datetime to sort the events \n",
        "\n",
        "%%time\n",
        "Checkin_u1205['Datetime'] = pd.to_datetime(Checkin_u1205[['Year', 'Month', 'Day', 'Hour']])\n",
        "Checkin_u1205.head()"
      ],
      "execution_count": 13,
      "outputs": [
        {
          "output_type": "stream",
          "text": [
            "CPU times: user 17 ms, sys: 824 µs, total: 17.8 ms\n",
            "Wall time: 19.1 ms\n"
          ],
          "name": "stdout"
        }
      ]
    },
    {
      "cell_type": "code",
      "metadata": {
        "id": "YR2arrZk1qF3",
        "colab_type": "code",
        "colab": {
          "base_uri": "https://localhost:8080/",
          "height": 204
        },
        "outputId": "02fddc5d-e1e3-4ce4-e689-2fe66016fc00"
      },
      "source": [
        "# sort based on datetime\n",
        "Checkin_u1205.sort_values(by='Datetime',inplace=True)\n",
        "\n",
        "Checkin_u1205.head()"
      ],
      "execution_count": 14,
      "outputs": [
        {
          "output_type": "execute_result",
          "data": {
            "text/html": [
              "<div>\n",
              "<style scoped>\n",
              "    .dataframe tbody tr th:only-of-type {\n",
              "        vertical-align: middle;\n",
              "    }\n",
              "\n",
              "    .dataframe tbody tr th {\n",
              "        vertical-align: top;\n",
              "    }\n",
              "\n",
              "    .dataframe thead th {\n",
              "        text-align: right;\n",
              "    }\n",
              "</style>\n",
              "<table border=\"1\" class=\"dataframe\">\n",
              "  <thead>\n",
              "    <tr style=\"text-align: right;\">\n",
              "      <th></th>\n",
              "      <th>VenueID</th>\n",
              "      <th>Year</th>\n",
              "      <th>Month</th>\n",
              "      <th>Day</th>\n",
              "      <th>Hour</th>\n",
              "      <th>Datetime</th>\n",
              "    </tr>\n",
              "  </thead>\n",
              "  <tbody>\n",
              "    <tr>\n",
              "      <th>2723</th>\n",
              "      <td>v73805</td>\n",
              "      <td>2012</td>\n",
              "      <td>2</td>\n",
              "      <td>25</td>\n",
              "      <td>9</td>\n",
              "      <td>2012-02-25 09:00:00</td>\n",
              "    </tr>\n",
              "    <tr>\n",
              "      <th>9154</th>\n",
              "      <td>v40561</td>\n",
              "      <td>2012</td>\n",
              "      <td>2</td>\n",
              "      <td>25</td>\n",
              "      <td>9</td>\n",
              "      <td>2012-02-25 09:00:00</td>\n",
              "    </tr>\n",
              "    <tr>\n",
              "      <th>3817</th>\n",
              "      <td>v9884</td>\n",
              "      <td>2012</td>\n",
              "      <td>2</td>\n",
              "      <td>25</td>\n",
              "      <td>11</td>\n",
              "      <td>2012-02-25 11:00:00</td>\n",
              "    </tr>\n",
              "    <tr>\n",
              "      <th>10664</th>\n",
              "      <td>v1743</td>\n",
              "      <td>2012</td>\n",
              "      <td>2</td>\n",
              "      <td>25</td>\n",
              "      <td>11</td>\n",
              "      <td>2012-02-25 11:00:00</td>\n",
              "    </tr>\n",
              "    <tr>\n",
              "      <th>4739</th>\n",
              "      <td>v3906</td>\n",
              "      <td>2012</td>\n",
              "      <td>2</td>\n",
              "      <td>25</td>\n",
              "      <td>13</td>\n",
              "      <td>2012-02-25 13:00:00</td>\n",
              "    </tr>\n",
              "  </tbody>\n",
              "</table>\n",
              "</div>"
            ],
            "text/plain": [
              "      VenueID  Year  Month  Day  Hour            Datetime\n",
              "2723   v73805  2012      2   25     9 2012-02-25 09:00:00\n",
              "9154   v40561  2012      2   25     9 2012-02-25 09:00:00\n",
              "3817    v9884  2012      2   25    11 2012-02-25 11:00:00\n",
              "10664   v1743  2012      2   25    11 2012-02-25 11:00:00\n",
              "4739    v3906  2012      2   25    13 2012-02-25 13:00:00"
            ]
          },
          "metadata": {
            "tags": []
          },
          "execution_count": 14
        }
      ]
    },
    {
      "cell_type": "code",
      "metadata": {
        "id": "uElqQ4Jo2NLN",
        "colab_type": "code",
        "colab": {}
      },
      "source": [
        "# from the above, we can see that for some reason there are 2 duplicate timestamps with different venues\n",
        "# it is not possible for a person to be at different location at the same time, so removing the rows with duplicate time stamps\n",
        "# the category of the venues is hierarchical, however for there appears no link between the venues\n",
        "\n",
        "Checkin_u1205_nodup = Checkin_u1205.drop_duplicates('Datetime')"
      ],
      "execution_count": 15,
      "outputs": []
    },
    {
      "cell_type": "code",
      "metadata": {
        "id": "q2IOLvasZ1Qv",
        "colab_type": "code",
        "colab": {
          "base_uri": "https://localhost:8080/",
          "height": 51
        },
        "outputId": "e0dc41ae-23a4-4f02-a231-c626fcb7adcb"
      },
      "source": [
        "print(\"Rows in Checkin_u1205: \", Checkin_u1205.shape[0])\n",
        "print(\"Rows in Checkin_u1205_nodup: \", Checkin_u1205_nodup.shape[0])"
      ],
      "execution_count": 16,
      "outputs": [
        {
          "output_type": "stream",
          "text": [
            "Rows in Checkin_u1205:  1303\n",
            "Rows in Checkin_u1205_nodup:  1227\n"
          ],
          "name": "stdout"
        }
      ]
    },
    {
      "cell_type": "code",
      "metadata": {
        "id": "NKVka8oMmK3f",
        "colab_type": "code",
        "colab": {
          "base_uri": "https://localhost:8080/",
          "height": 204
        },
        "outputId": "46cc95d7-4928-49dc-cd97-ba0c44e87896"
      },
      "source": [
        "Checkin_u1205_nodup.head()"
      ],
      "execution_count": 17,
      "outputs": [
        {
          "output_type": "execute_result",
          "data": {
            "text/html": [
              "<div>\n",
              "<style scoped>\n",
              "    .dataframe tbody tr th:only-of-type {\n",
              "        vertical-align: middle;\n",
              "    }\n",
              "\n",
              "    .dataframe tbody tr th {\n",
              "        vertical-align: top;\n",
              "    }\n",
              "\n",
              "    .dataframe thead th {\n",
              "        text-align: right;\n",
              "    }\n",
              "</style>\n",
              "<table border=\"1\" class=\"dataframe\">\n",
              "  <thead>\n",
              "    <tr style=\"text-align: right;\">\n",
              "      <th></th>\n",
              "      <th>VenueID</th>\n",
              "      <th>Year</th>\n",
              "      <th>Month</th>\n",
              "      <th>Day</th>\n",
              "      <th>Hour</th>\n",
              "      <th>Datetime</th>\n",
              "    </tr>\n",
              "  </thead>\n",
              "  <tbody>\n",
              "    <tr>\n",
              "      <th>2723</th>\n",
              "      <td>v73805</td>\n",
              "      <td>2012</td>\n",
              "      <td>2</td>\n",
              "      <td>25</td>\n",
              "      <td>9</td>\n",
              "      <td>2012-02-25 09:00:00</td>\n",
              "    </tr>\n",
              "    <tr>\n",
              "      <th>3817</th>\n",
              "      <td>v9884</td>\n",
              "      <td>2012</td>\n",
              "      <td>2</td>\n",
              "      <td>25</td>\n",
              "      <td>11</td>\n",
              "      <td>2012-02-25 11:00:00</td>\n",
              "    </tr>\n",
              "    <tr>\n",
              "      <th>4739</th>\n",
              "      <td>v3906</td>\n",
              "      <td>2012</td>\n",
              "      <td>2</td>\n",
              "      <td>25</td>\n",
              "      <td>13</td>\n",
              "      <td>2012-02-25 13:00:00</td>\n",
              "    </tr>\n",
              "    <tr>\n",
              "      <th>5904</th>\n",
              "      <td>v10373</td>\n",
              "      <td>2012</td>\n",
              "      <td>2</td>\n",
              "      <td>25</td>\n",
              "      <td>15</td>\n",
              "      <td>2012-02-25 15:00:00</td>\n",
              "    </tr>\n",
              "    <tr>\n",
              "      <th>6840</th>\n",
              "      <td>v9884</td>\n",
              "      <td>2012</td>\n",
              "      <td>2</td>\n",
              "      <td>25</td>\n",
              "      <td>17</td>\n",
              "      <td>2012-02-25 17:00:00</td>\n",
              "    </tr>\n",
              "  </tbody>\n",
              "</table>\n",
              "</div>"
            ],
            "text/plain": [
              "     VenueID  Year  Month  Day  Hour            Datetime\n",
              "2723  v73805  2012      2   25     9 2012-02-25 09:00:00\n",
              "3817   v9884  2012      2   25    11 2012-02-25 11:00:00\n",
              "4739   v3906  2012      2   25    13 2012-02-25 13:00:00\n",
              "5904  v10373  2012      2   25    15 2012-02-25 15:00:00\n",
              "6840   v9884  2012      2   25    17 2012-02-25 17:00:00"
            ]
          },
          "metadata": {
            "tags": []
          },
          "execution_count": 17
        }
      ]
    },
    {
      "cell_type": "code",
      "metadata": {
        "id": "Wzagi8fMgvjB",
        "colab_type": "code",
        "colab": {
          "base_uri": "https://localhost:8080/",
          "height": 669
        },
        "outputId": "bb755394-0af8-48b8-f0f2-af628a301ec2"
      },
      "source": [
        "Checkin_u1205_nodup.iloc[:20]"
      ],
      "execution_count": 18,
      "outputs": [
        {
          "output_type": "execute_result",
          "data": {
            "text/html": [
              "<div>\n",
              "<style scoped>\n",
              "    .dataframe tbody tr th:only-of-type {\n",
              "        vertical-align: middle;\n",
              "    }\n",
              "\n",
              "    .dataframe tbody tr th {\n",
              "        vertical-align: top;\n",
              "    }\n",
              "\n",
              "    .dataframe thead th {\n",
              "        text-align: right;\n",
              "    }\n",
              "</style>\n",
              "<table border=\"1\" class=\"dataframe\">\n",
              "  <thead>\n",
              "    <tr style=\"text-align: right;\">\n",
              "      <th></th>\n",
              "      <th>VenueID</th>\n",
              "      <th>Year</th>\n",
              "      <th>Month</th>\n",
              "      <th>Day</th>\n",
              "      <th>Hour</th>\n",
              "      <th>Datetime</th>\n",
              "    </tr>\n",
              "  </thead>\n",
              "  <tbody>\n",
              "    <tr>\n",
              "      <th>2723</th>\n",
              "      <td>v73805</td>\n",
              "      <td>2012</td>\n",
              "      <td>2</td>\n",
              "      <td>25</td>\n",
              "      <td>9</td>\n",
              "      <td>2012-02-25 09:00:00</td>\n",
              "    </tr>\n",
              "    <tr>\n",
              "      <th>3817</th>\n",
              "      <td>v9884</td>\n",
              "      <td>2012</td>\n",
              "      <td>2</td>\n",
              "      <td>25</td>\n",
              "      <td>11</td>\n",
              "      <td>2012-02-25 11:00:00</td>\n",
              "    </tr>\n",
              "    <tr>\n",
              "      <th>4739</th>\n",
              "      <td>v3906</td>\n",
              "      <td>2012</td>\n",
              "      <td>2</td>\n",
              "      <td>25</td>\n",
              "      <td>13</td>\n",
              "      <td>2012-02-25 13:00:00</td>\n",
              "    </tr>\n",
              "    <tr>\n",
              "      <th>5904</th>\n",
              "      <td>v10373</td>\n",
              "      <td>2012</td>\n",
              "      <td>2</td>\n",
              "      <td>25</td>\n",
              "      <td>15</td>\n",
              "      <td>2012-02-25 15:00:00</td>\n",
              "    </tr>\n",
              "    <tr>\n",
              "      <th>6840</th>\n",
              "      <td>v9884</td>\n",
              "      <td>2012</td>\n",
              "      <td>2</td>\n",
              "      <td>25</td>\n",
              "      <td>17</td>\n",
              "      <td>2012-02-25 17:00:00</td>\n",
              "    </tr>\n",
              "    <tr>\n",
              "      <th>18507</th>\n",
              "      <td>v9885</td>\n",
              "      <td>2012</td>\n",
              "      <td>2</td>\n",
              "      <td>26</td>\n",
              "      <td>9</td>\n",
              "      <td>2012-02-26 09:00:00</td>\n",
              "    </tr>\n",
              "    <tr>\n",
              "      <th>12801</th>\n",
              "      <td>v10373</td>\n",
              "      <td>2012</td>\n",
              "      <td>2</td>\n",
              "      <td>26</td>\n",
              "      <td>11</td>\n",
              "      <td>2012-02-26 11:00:00</td>\n",
              "    </tr>\n",
              "    <tr>\n",
              "      <th>11674</th>\n",
              "      <td>v9885</td>\n",
              "      <td>2012</td>\n",
              "      <td>2</td>\n",
              "      <td>26</td>\n",
              "      <td>13</td>\n",
              "      <td>2012-02-26 13:00:00</td>\n",
              "    </tr>\n",
              "    <tr>\n",
              "      <th>15263</th>\n",
              "      <td>v2927</td>\n",
              "      <td>2012</td>\n",
              "      <td>2</td>\n",
              "      <td>26</td>\n",
              "      <td>15</td>\n",
              "      <td>2012-02-26 15:00:00</td>\n",
              "    </tr>\n",
              "    <tr>\n",
              "      <th>20745</th>\n",
              "      <td>v6013</td>\n",
              "      <td>2012</td>\n",
              "      <td>2</td>\n",
              "      <td>27</td>\n",
              "      <td>9</td>\n",
              "      <td>2012-02-27 09:00:00</td>\n",
              "    </tr>\n",
              "    <tr>\n",
              "      <th>22076</th>\n",
              "      <td>v67648</td>\n",
              "      <td>2012</td>\n",
              "      <td>2</td>\n",
              "      <td>27</td>\n",
              "      <td>11</td>\n",
              "      <td>2012-02-27 11:00:00</td>\n",
              "    </tr>\n",
              "    <tr>\n",
              "      <th>23077</th>\n",
              "      <td>v37724</td>\n",
              "      <td>2012</td>\n",
              "      <td>2</td>\n",
              "      <td>27</td>\n",
              "      <td>13</td>\n",
              "      <td>2012-02-27 13:00:00</td>\n",
              "    </tr>\n",
              "    <tr>\n",
              "      <th>23727</th>\n",
              "      <td>v13235</td>\n",
              "      <td>2012</td>\n",
              "      <td>2</td>\n",
              "      <td>27</td>\n",
              "      <td>14</td>\n",
              "      <td>2012-02-27 14:00:00</td>\n",
              "    </tr>\n",
              "    <tr>\n",
              "      <th>24467</th>\n",
              "      <td>v85343</td>\n",
              "      <td>2012</td>\n",
              "      <td>2</td>\n",
              "      <td>27</td>\n",
              "      <td>15</td>\n",
              "      <td>2012-02-27 15:00:00</td>\n",
              "    </tr>\n",
              "    <tr>\n",
              "      <th>25731</th>\n",
              "      <td>v9884</td>\n",
              "      <td>2012</td>\n",
              "      <td>2</td>\n",
              "      <td>27</td>\n",
              "      <td>17</td>\n",
              "      <td>2012-02-27 17:00:00</td>\n",
              "    </tr>\n",
              "    <tr>\n",
              "      <th>20334</th>\n",
              "      <td>v55736</td>\n",
              "      <td>2012</td>\n",
              "      <td>2</td>\n",
              "      <td>27</td>\n",
              "      <td>19</td>\n",
              "      <td>2012-02-27 19:00:00</td>\n",
              "    </tr>\n",
              "    <tr>\n",
              "      <th>27796</th>\n",
              "      <td>v18477</td>\n",
              "      <td>2012</td>\n",
              "      <td>2</td>\n",
              "      <td>27</td>\n",
              "      <td>20</td>\n",
              "      <td>2012-02-27 20:00:00</td>\n",
              "    </tr>\n",
              "    <tr>\n",
              "      <th>27898</th>\n",
              "      <td>v9885</td>\n",
              "      <td>2012</td>\n",
              "      <td>2</td>\n",
              "      <td>27</td>\n",
              "      <td>21</td>\n",
              "      <td>2012-02-27 21:00:00</td>\n",
              "    </tr>\n",
              "    <tr>\n",
              "      <th>30493</th>\n",
              "      <td>v6013</td>\n",
              "      <td>2012</td>\n",
              "      <td>2</td>\n",
              "      <td>28</td>\n",
              "      <td>8</td>\n",
              "      <td>2012-02-28 08:00:00</td>\n",
              "    </tr>\n",
              "    <tr>\n",
              "      <th>31455</th>\n",
              "      <td>v342</td>\n",
              "      <td>2012</td>\n",
              "      <td>2</td>\n",
              "      <td>28</td>\n",
              "      <td>10</td>\n",
              "      <td>2012-02-28 10:00:00</td>\n",
              "    </tr>\n",
              "  </tbody>\n",
              "</table>\n",
              "</div>"
            ],
            "text/plain": [
              "      VenueID  Year  Month  Day  Hour            Datetime\n",
              "2723   v73805  2012      2   25     9 2012-02-25 09:00:00\n",
              "3817    v9884  2012      2   25    11 2012-02-25 11:00:00\n",
              "4739    v3906  2012      2   25    13 2012-02-25 13:00:00\n",
              "5904   v10373  2012      2   25    15 2012-02-25 15:00:00\n",
              "6840    v9884  2012      2   25    17 2012-02-25 17:00:00\n",
              "18507   v9885  2012      2   26     9 2012-02-26 09:00:00\n",
              "12801  v10373  2012      2   26    11 2012-02-26 11:00:00\n",
              "11674   v9885  2012      2   26    13 2012-02-26 13:00:00\n",
              "15263   v2927  2012      2   26    15 2012-02-26 15:00:00\n",
              "20745   v6013  2012      2   27     9 2012-02-27 09:00:00\n",
              "22076  v67648  2012      2   27    11 2012-02-27 11:00:00\n",
              "23077  v37724  2012      2   27    13 2012-02-27 13:00:00\n",
              "23727  v13235  2012      2   27    14 2012-02-27 14:00:00\n",
              "24467  v85343  2012      2   27    15 2012-02-27 15:00:00\n",
              "25731   v9884  2012      2   27    17 2012-02-27 17:00:00\n",
              "20334  v55736  2012      2   27    19 2012-02-27 19:00:00\n",
              "27796  v18477  2012      2   27    20 2012-02-27 20:00:00\n",
              "27898   v9885  2012      2   27    21 2012-02-27 21:00:00\n",
              "30493   v6013  2012      2   28     8 2012-02-28 08:00:00\n",
              "31455    v342  2012      2   28    10 2012-02-28 10:00:00"
            ]
          },
          "metadata": {
            "tags": []
          },
          "execution_count": 18
        }
      ]
    },
    {
      "cell_type": "markdown",
      "metadata": {
        "id": "R1JdSv3NrBxs",
        "colab_type": "text"
      },
      "source": [
        "For time being we are not using the heirarchical informations about the venue, to keep the baseline model simple."
      ]
    },
    {
      "cell_type": "markdown",
      "metadata": {
        "id": "nVmSazxGrSwh",
        "colab_type": "text"
      },
      "source": [
        "Now, we need to create a time-series of events. \n",
        "\n",
        "`Example:`\n",
        "\n",
        "User goes to gym, grocery and home in that order or shopping, movies, restaurant and home in that order. \n",
        "\n",
        "Here, we need to create the longest time-series.\n"
      ]
    },
    {
      "cell_type": "markdown",
      "metadata": {
        "id": "Jy_SlcJeiRkR",
        "colab_type": "text"
      },
      "source": [
        "4. **Create longest sequences.** \n",
        "---\n",
        "`Idea`: gather longest time-series by viewing the events of the user, events less than the duration of 8hrs between them will be added to the same series. A gap of 8 hrs or more indicates the day has ended for the user, hence no more travel.\n"
      ]
    },
    {
      "cell_type": "code",
      "metadata": {
        "id": "MRUGUaF-UkKD",
        "colab_type": "code",
        "colab": {
          "base_uri": "https://localhost:8080/",
          "height": 51
        },
        "outputId": "f13a09ce-23ac-406f-ecc3-c0a8c9f685dc"
      },
      "source": [
        "\n",
        "%%time\n",
        "\n",
        "import datetime\n",
        "\n",
        "def _generate_events(data):\n",
        "  previous_time = datetime.datetime(2020, 12, 31)\n",
        "  all_events = []\n",
        "  current_events = []\n",
        "  for index, row in data.iterrows():\n",
        "    current_time = row['Datetime']  \n",
        "    current_hour = row['Hour']\n",
        "    venue = row['VenueID']\n",
        "    if( (current_time - previous_time).total_seconds()/60/60 < 8):\n",
        "      current_events.append([venue, current_hour])\n",
        "      previous_time = current_time\n",
        "    else:\n",
        "      all_events.append(current_events)\n",
        "      current_events = []\n",
        "      current_events.append([venue, current_hour])\n",
        "      previous_time = current_time\n",
        "  if len(current_events)>0:\n",
        "    all_events.append(current_events)\n",
        "  return all_events\n",
        "\n"
      ],
      "execution_count": 19,
      "outputs": [
        {
          "output_type": "stream",
          "text": [
            "CPU times: user 6 µs, sys: 0 ns, total: 6 µs\n",
            "Wall time: 7.63 µs\n"
          ],
          "name": "stdout"
        }
      ]
    },
    {
      "cell_type": "markdown",
      "metadata": {
        "id": "PGbPUprJjT6C",
        "colab_type": "text"
      },
      "source": [
        "5. **Subsequences:** A Sequence cannot be directly fed into a model, hence one possibility is to break into sequence of two\n",
        "\n",
        "---\n",
        "\n",
        "Example:\n",
        "\n",
        "for a sequence (v1,t1) (v2,t2) (v3,t3) (v4,t4)\n",
        "\n",
        "(v1,t1) (v2,t2)\n",
        "\n",
        "(v2,t2) (v3,t3)\n",
        "\n",
        "(v3,t3) (v4,t4)\n"
      ]
    },
    {
      "cell_type": "code",
      "metadata": {
        "id": "onphkt15fffb",
        "colab_type": "code",
        "colab": {
          "base_uri": "https://localhost:8080/",
          "height": 51
        },
        "outputId": "dbbda22a-1d5c-4487-fda3-ecb047dfa12d"
      },
      "source": [
        "# create all possible subsequences from the above sequence (maintaining the order)\n",
        "# we need a length of atleast 2 for feature and the label, ignore all sequence of events less than length 2\n",
        "\n",
        "\n",
        "# LSTM will remember that v2 comes after v1 and that v3 comes after v2 and if it sees v3 then next would be v4\n",
        "\n",
        "%%time\n",
        "\n",
        "def _generate_subsequence(data):\n",
        "  all_sequences = []\n",
        "  for sequence in data:  \n",
        "    if len(sequence) >= 2:\n",
        "      sequences = []\n",
        "      for i in range(0,len(sequence)-1):\n",
        "          sequences.append(sequence[i:i+2])          \n",
        "      all_sequences.append(sequences)\n",
        "  return all_sequences\n",
        "\n",
        "\n",
        "#old way of creating sub sequences \n",
        "# (v1,t1) (v2,t2)\n",
        "# (v1,t1) (v2,t2) (v3,t3)\n",
        "# (v1,t1) (v2,t2) (v3,t3) (v4,t4)\n",
        "\n",
        "'''\n",
        "def _generate_subsequence(data):\n",
        "  all_sequences = []\n",
        "  for sequence in data:  \n",
        "    if len(sequence) > 2:\n",
        "      for i in range(0,1):\n",
        "        sequences = []\n",
        "        for j in range(i+2,len(sequence)+1):      \n",
        "          sequences.append(sequence[i:j])          \n",
        "        all_sequences.append(sequences)\n",
        "  return all_sequences\n",
        "'''\n"
      ],
      "execution_count": 20,
      "outputs": [
        {
          "output_type": "stream",
          "text": [
            "CPU times: user 5 µs, sys: 0 ns, total: 5 µs\n",
            "Wall time: 7.63 µs\n"
          ],
          "name": "stdout"
        }
      ]
    },
    {
      "cell_type": "markdown",
      "metadata": {
        "id": "Ad3Oc0gJANKK",
        "colab_type": "text"
      },
      "source": [
        "# **2. Encoding**\n"
      ]
    },
    {
      "cell_type": "code",
      "metadata": {
        "id": "cIk1Mp7aARtr",
        "colab_type": "code",
        "colab": {
          "base_uri": "https://localhost:8080/",
          "height": 105
        },
        "outputId": "0a7bb948-ba70-4347-d9de-9c2474649bc3"
      },
      "source": [
        "%time\n",
        "\n",
        "events = _generate_events(Checkin_u1205_nodup[:30])\n",
        "print(\"Events\")\n",
        "print(events)\n",
        "\n",
        "#sequences = _generate_subsequence(events)\n",
        "#print(\"Subsequences\")\n",
        "#print(sequences)"
      ],
      "execution_count": 21,
      "outputs": [
        {
          "output_type": "stream",
          "text": [
            "CPU times: user 3 µs, sys: 0 ns, total: 3 µs\n",
            "Wall time: 6.44 µs\n",
            "Events\n",
            "[[['v73805', 9], ['v9884', 11], ['v3906', 13], ['v10373', 15], ['v9884', 17]], [['v9885', 9], ['v10373', 11], ['v9885', 13], ['v2927', 15]], [['v6013', 9], ['v67648', 11], ['v37724', 13], ['v13235', 14], ['v85343', 15], ['v9884', 17], ['v55736', 19], ['v18477', 20], ['v9885', 21]], [['v6013', 8], ['v342', 10], ['v69205', 11], ['v128', 12], ['v52425', 13], ['v17926', 14], ['v67615', 15], ['v19062', 16], ['v9884', 18], ['v18477', 20], ['v9885', 21]], [['v6013', 8]]]\n"
          ],
          "name": "stdout"
        }
      ]
    },
    {
      "cell_type": "code",
      "metadata": {
        "id": "xh95Fvpn9eE8",
        "colab_type": "code",
        "colab": {
          "base_uri": "https://localhost:8080/",
          "height": 88
        },
        "outputId": "535212ae-4d6a-4aa0-a058-d4e1e1c9edc3"
      },
      "source": [
        "%time\n",
        "\n",
        "def _venue_only(data):\n",
        "  all_sequences = []\n",
        "  for sequence in data:\n",
        "    events = []\n",
        "    for event in sequence:      \n",
        "      events.append(event[0])\n",
        "    all_sequences.append(events)\n",
        "  return all_sequences\n",
        "\n",
        "v_events = _venue_only(events)\n",
        "print(v_events)\n"
      ],
      "execution_count": 22,
      "outputs": [
        {
          "output_type": "stream",
          "text": [
            "CPU times: user 3 µs, sys: 1e+03 ns, total: 4 µs\n",
            "Wall time: 6.68 µs\n",
            "[['v73805', 'v9884', 'v3906', 'v10373', 'v9884'], ['v9885', 'v10373', 'v9885', 'v2927'], ['v6013', 'v67648', 'v37724', 'v13235', 'v85343', 'v9884', 'v55736', 'v18477', 'v9885'], ['v6013', 'v342', 'v69205', 'v128', 'v52425', 'v17926', 'v67615', 'v19062', 'v9884', 'v18477', 'v9885'], ['v6013']]\n"
          ],
          "name": "stdout"
        }
      ]
    },
    {
      "cell_type": "markdown",
      "metadata": {
        "id": "MmF8wTtylB47",
        "colab_type": "text"
      },
      "source": [
        "1. **Split the data:** \n",
        "\n",
        "---\n",
        "Before, encoding, split the data to train, validation and test set and then perform the encoding and padding. We do this to maintain integrity and structure of the data.\n",
        "\n",
        "Since we have inputs of the different length, we will have to pad each input with zeros , so that all inputs are of the same length in a mini-batch\n",
        "\n",
        "60, 20, 20 split (train, validation and test)"
      ]
    },
    {
      "cell_type": "code",
      "metadata": {
        "id": "JHPoIaUzLhaR",
        "colab_type": "code",
        "colab": {
          "base_uri": "https://localhost:8080/",
          "height": 85
        },
        "outputId": "7383b505-d995-4448-ab62-4e8b6e0fba92"
      },
      "source": [
        "n = len(v_events)  \n",
        "\n",
        "n_test = int( n * .2 ) \n",
        "n_val = int( n * .2 ) \n",
        "n_train = n - (n_test+n_val)\n",
        "\n",
        "print(f\"Dataset set terms: {n}\")\n",
        "print(f\"Train set terms: {n_train}\") \n",
        "print(f\"Test set terms: {n_test}\")\n",
        "print( f\"Validation set terms: {n_val}\")\n",
        "\n",
        "train_set, val_set, test_set = data.random_split(v_events, (n_train, n_val, n_test))\n",
        "\n",
        "#the train, val and the test indices has to be whole numbers adding upto to the n"
      ],
      "execution_count": 23,
      "outputs": [
        {
          "output_type": "stream",
          "text": [
            "Dataset set terms: 5\n",
            "Train set terms: 3\n",
            "Test set terms: 1\n",
            "Validation set terms: 1\n"
          ],
          "name": "stdout"
        }
      ]
    },
    {
      "cell_type": "markdown",
      "metadata": {
        "id": "LGKjRWeWlvzs",
        "colab_type": "text"
      },
      "source": [
        "2. **Get Max length of each set.**\n",
        "\n",
        "---\n",
        "we need this info for padding."
      ]
    },
    {
      "cell_type": "code",
      "metadata": {
        "id": "qwVuB5LgeQAv",
        "colab_type": "code",
        "colab": {
          "base_uri": "https://localhost:8080/",
          "height": 68
        },
        "outputId": "c0c7e75d-e30d-4705-ba79-203e46078bc3"
      },
      "source": [
        "#find max length of sequence for each set\n",
        "\n",
        "def _get_maxlength_seq(data):\n",
        "  t = []\n",
        "  for i in data:\n",
        "    t.append([i,len(i)])\n",
        "  temp_df = pd.DataFrame(t)\n",
        "  temp_df.sort_values(by=1, ascending=False,inplace=True)\n",
        "  return np.max(temp_df[1])\n",
        "\n",
        "max_length_train= _get_maxlength_seq(train_set)\n",
        "max_length_val= _get_maxlength_seq(val_set)\n",
        "max_length_test= _get_maxlength_seq(test_set)\n",
        "\n",
        "print(f\"max_length_train: {max_length_train}\")\n",
        "print(f\"max_length_val: {max_length_val}\")\n",
        "print(f\"max_length_test: {max_length_test}\")"
      ],
      "execution_count": 24,
      "outputs": [
        {
          "output_type": "stream",
          "text": [
            "max_length_train: 9\n",
            "max_length_val: 11\n",
            "max_length_test: 4\n"
          ],
          "name": "stdout"
        }
      ]
    },
    {
      "cell_type": "markdown",
      "metadata": {
        "id": "wpfeL-uE8_KX",
        "colab_type": "text"
      },
      "source": [
        "3. **Padding all the inputs to have same size**\n",
        "---\n",
        "pad empty string for each sequence"
      ]
    },
    {
      "cell_type": "code",
      "metadata": {
        "id": "DIDFQonb85hI",
        "colab_type": "code",
        "colab": {
          "base_uri": "https://localhost:8080/",
          "height": 34
        },
        "outputId": "79d2b68a-62a5-45e3-e123-792632321d11"
      },
      "source": [
        "def _padding(data, maxlength):\n",
        "  changed_data = []\n",
        "  for sequence in data:\n",
        "    c_sequence = sequence.copy()\n",
        "    if (len(c_sequence) <= maxlength and len(c_sequence) >= 2):\n",
        "      zero_length = len(c_sequence[0])\n",
        "      for i in range(maxlength-len(sequence)):\n",
        "        c_sequence.insert(0,[0*i for i in range(zero_length)])\n",
        "\n",
        "      changed_data.append(c_sequence)\n",
        "    else:\n",
        "      pass\n",
        "    \n",
        "  return np.array(changed_data)\n",
        "\n",
        "'''\n",
        "p_train_set = _padding(train_set, max_length_train)\n",
        "p_val_set = _padding(val_set, max_length_val)\n",
        "p_test_set = _padding(test_set, max_length_test)\n",
        "'''"
      ],
      "execution_count": 41,
      "outputs": [
        {
          "output_type": "execute_result",
          "data": {
            "text/plain": [
              "'\\np_train_set = _padding(train_set, max_length_train)\\np_val_set = _padding(val_set, max_length_val)\\np_test_set = _padding(test_set, max_length_test)\\n'"
            ]
          },
          "metadata": {
            "tags": []
          },
          "execution_count": 41
        }
      ]
    },
    {
      "cell_type": "code",
      "metadata": {
        "id": "Pf1aYuUhgJJv",
        "colab_type": "code",
        "colab": {
          "base_uri": "https://localhost:8080/",
          "height": 68
        },
        "outputId": "888d9926-ac1d-4d2f-88c1-f11435bc70a8"
      },
      "source": [
        "for i in train_set:\n",
        "  print(i)"
      ],
      "execution_count": 26,
      "outputs": [
        {
          "output_type": "stream",
          "text": [
            "['v73805', 'v9884', 'v3906', 'v10373', 'v9884']\n",
            "['v6013']\n",
            "['v6013', 'v67648', 'v37724', 'v13235', 'v85343', 'v9884', 'v55736', 'v18477', 'v9885']\n"
          ],
          "name": "stdout"
        }
      ]
    },
    {
      "cell_type": "markdown",
      "metadata": {
        "id": "MsiIJ97zbXIC",
        "colab_type": "text"
      },
      "source": [
        "4. **One hot ecoding** of the the venues then do padding.\n",
        "\n",
        "----\n",
        "\n",
        "Pytorch does not have one hot encoding package hence, need to create our own code."
      ]
    },
    {
      "cell_type": "code",
      "metadata": {
        "id": "x8-T1nChONp_",
        "colab_type": "code",
        "colab": {}
      },
      "source": [
        "\n",
        "class one_hot_char_coding(object):\n",
        "  def __init__(self):\n",
        "    self.word2idx = {}\n",
        "    self.idx2word = []\n",
        "    self.length = 0\n",
        "\n",
        "  def add_word(self, word):\n",
        "    if word not in self.idx2word:\n",
        "      self.idx2word.append(word)\n",
        "      self.word2idx[word] = self.length + 1\n",
        "      self.length += 1\n",
        "    return self.word2idx[word]\n",
        "\n",
        "  def __len__(self):\n",
        "    return len(self.idx2word)\n",
        "\n",
        "  def onehot_encoded(self, word):\n",
        "    vec = [i*0 for i in range(self.length)]\n",
        "    vec[self.word2idx[word]-1] = 1\n",
        "    return vec\n"
      ],
      "execution_count": 83,
      "outputs": []
    },
    {
      "cell_type": "code",
      "metadata": {
        "id": "Q9SAVfWaOPM5",
        "colab_type": "code",
        "colab": {}
      },
      "source": [
        "#%time\n",
        "\n",
        "#get codes for all the words \n",
        "\n",
        "coded_obj = one_hot_char_coding()\n",
        "\n",
        "for word in Checkin_u1205_nodup.VenueID.values:\n",
        "    coded_obj.add_word(word)\n",
        "\n",
        "#print(coded_obj.word2idx)\n",
        "#'v73805': 1, 'v9884': 2, 'v3906': 3, 'v10373\n",
        "#print(coded_obj.onehot_encoded(\"v3906\"))\n",
        "\n",
        "\n",
        "#here we have 139 unique values, so the one hot encoded vector is 139 length long\n",
        "\n",
        "def _one_hot_code(data):\n",
        "  all_seq = []\n",
        "  for sequence in data:    \n",
        "    eve = []\n",
        "    if(len(sequence)>1):\n",
        "      for index, event in enumerate(sequence):\n",
        "        eve.append(coded_obj.onehot_encoded(event))\n",
        "      all_seq.append(eve)\n",
        "  return all_seq\n",
        "\n",
        "'''\n",
        "e_train_set = _one_hot_code(train_set)\n",
        "e_val_set = _one_hot_code(val_set)\n",
        "e_test_set = _one_hot_code(test_set)\n",
        "'''\n",
        "\n",
        "#test3 = _one_hot_code(train_set)\n",
        "#test3 = _padding(test3,9)\n",
        "#test3\n",
        "#temp2 = torch.from_numpy(test3)\n"
      ],
      "execution_count": 94,
      "outputs": []
    },
    {
      "cell_type": "code",
      "metadata": {
        "id": "nhtMDtpqMVOm",
        "colab_type": "code",
        "colab": {}
      },
      "source": [
        "def _one_hot_code_target(data):\n",
        "  all_seq = []\n",
        "  for event in data:    \n",
        "    all_seq.append(coded_obj.onehot_encoded(event))\n",
        "  return np.array(all_seq)"
      ],
      "execution_count": 103,
      "outputs": []
    },
    {
      "cell_type": "markdown",
      "metadata": {
        "id": "rOld9ao6mjOL",
        "colab_type": "text"
      },
      "source": [
        "5. **Encoding time:**\n",
        "---\n",
        "Time is cyclical feature so it will be encoded as Time Column = Sin(Time) + Cosine(Time). This will maintain the cyclic nature of the data.\n",
        "\n",
        "sequence with less than 2 will be descarded as they cannot be used to predict\n"
      ]
    },
    {
      "cell_type": "code",
      "metadata": {
        "id": "FZ_nlVVBr7jX",
        "colab_type": "code",
        "colab": {
          "base_uri": "https://localhost:8080/",
          "height": 51
        },
        "outputId": "fd40dfea-c827-4063-f78a-af3cf1a3e442"
      },
      "source": [
        "%time\n",
        "\n",
        "def _assign_code(data):\n",
        "  temp_row=[]\n",
        "  for row in data:    \n",
        "    temp_event = []\n",
        "    for event in row:   \n",
        "      venue_id = coded_obj.onehot_encoded(event[0])\n",
        "      time_sine = np.sin(2 * np.pi * event[1]/23.0)\n",
        "      time_cos = np.cos(2 * np.pi * event[1]/23.0)\n",
        "      temp_event.append([venue_id, time_sine, time_cos])\n",
        "    if(len(temp_event) >= 2):\n",
        "      temp_row.append(temp_event)\n",
        "  return temp_row\n",
        " \n",
        "#train_set_e = _assign_code(train_set)\n",
        "#print(f\"Number of inputs less than 2 is: {len(train_set) - len(train_set_e)}\") \n"
      ],
      "execution_count": 29,
      "outputs": [
        {
          "output_type": "stream",
          "text": [
            "CPU times: user 2 µs, sys: 1e+03 ns, total: 3 µs\n",
            "Wall time: 4.77 µs\n"
          ],
          "name": "stdout"
        }
      ]
    },
    {
      "cell_type": "markdown",
      "metadata": {
        "id": "0Memj7VEnC6V",
        "colab_type": "text"
      },
      "source": [
        "6. **Features and Labels**\n",
        "\n",
        "---\n",
        "Last event will be the target, so split the data "
      ]
    },
    {
      "cell_type": "code",
      "metadata": {
        "id": "tE0U1Hw6M8VV",
        "colab_type": "code",
        "colab": {}
      },
      "source": [
        "def _separate_x_y(data):\n",
        "  x = data[:-1]\n",
        "  y = data[-1]\n",
        "  return [x,y]\n"
      ],
      "execution_count": 30,
      "outputs": []
    },
    {
      "cell_type": "code",
      "metadata": {
        "id": "HMOAaduqAIY2",
        "colab_type": "code",
        "colab": {}
      },
      "source": [
        "def _feature_label(data):\n",
        "  X_data, Y_data = [], []\n",
        "  for row in data:\n",
        "    if(len(row) >= 2):\n",
        "      temp = _separate_x_y(row)\n",
        "      x,y = temp[0], temp[1]\n",
        "      X_data.append(x)\n",
        "      Y_data.append(y)\n",
        "  return [X_data, Y_data]\n"
      ],
      "execution_count": 31,
      "outputs": []
    },
    {
      "cell_type": "code",
      "metadata": {
        "id": "JFul_m9edNbm",
        "colab_type": "code",
        "colab": {}
      },
      "source": [
        "temp = _feature_label(train_set)\n",
        "X_train, Y_train = temp[0], temp[1]\n",
        "\n",
        "X_train_m = _one_hot_code(X_train)\n",
        "X_train_m = _padding(X_train_m, max_length_train-1) #minus one due to label\n",
        "X_train_m = torch.from_numpy(X_train_m)\n",
        "\n",
        "Y_train_m = _one_hot_code_target(Y_train) #no padding required for target\n",
        "Y_train_m = torch.from_numpy(Y_train_m)\n"
      ],
      "execution_count": 105,
      "outputs": []
    },
    {
      "cell_type": "markdown",
      "metadata": {
        "id": "-s89PdxwYRTN",
        "colab_type": "text"
      },
      "source": [
        "# 3. **Modeling**"
      ]
    },
    {
      "cell_type": "code",
      "metadata": {
        "id": "LLCC32x_CjNr",
        "colab_type": "code",
        "colab": {
          "base_uri": "https://localhost:8080/",
          "height": 68
        },
        "outputId": "ab61eb34-27d1-4443-ec93-8674514d950a"
      },
      "source": [
        "test = torch.from_numpy(np.array([[1,0,0],[1,1,1],[0,0,0]]))\n",
        "test"
      ],
      "execution_count": 33,
      "outputs": [
        {
          "output_type": "execute_result",
          "data": {
            "text/plain": [
              "tensor([[1, 0, 0],\n",
              "        [1, 1, 1],\n",
              "        [0, 0, 0]])"
            ]
          },
          "metadata": {
            "tags": []
          },
          "execution_count": 33
        }
      ]
    },
    {
      "cell_type": "markdown",
      "metadata": {
        "id": "2JxKUlZZe5PE",
        "colab_type": "text"
      },
      "source": [
        "Resources used\n",
        "***\n",
        "https://discuss.pytorch.org/t/mini-batch-training-for-inputs-of-variable-sizes/13662\n",
        "\n",
        "https://medium.com/ibm-data-science-experience/markdown-for-jupyter-notebooks-cheatsheet-386c05aeebed\n",
        "\n",
        "https://stackoverflow.com/questions/53532352/how-do-i-split-the-training-dataset-into-training-validation-and-test-datasets\n",
        "\n",
        "https://learning.oreilly.com/library/view/deep-learning-with/9781788624336/e397c9a2-28a2-41fd-bcc2-a6bb49adfc44.xhtml\n",
        "\n",
        "https://www.kaggle.com/avanwyk/encoding-cyclical-features-for-deep-learning\n"
      ]
    }
  ]
}