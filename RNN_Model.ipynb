{
  "nbformat": 4,
  "nbformat_minor": 0,
  "metadata": {
    "colab": {
      "name": "RNN-Model.ipynb",
      "provenance": [],
      "collapsed_sections": [],
      "include_colab_link": true
    },
    "kernelspec": {
      "name": "python3",
      "display_name": "Python 3"
    }
  },
  "cells": [
    {
      "cell_type": "markdown",
      "metadata": {
        "id": "view-in-github",
        "colab_type": "text"
      },
      "source": [
        "<a href=\"https://colab.research.google.com/github/manjitullal/foursquare/blob/master/RNN_Model.ipynb\" target=\"_parent\"><img src=\"https://colab.research.google.com/assets/colab-badge.svg\" alt=\"Open In Colab\"/></a>"
      ]
    },
    {
      "cell_type": "markdown",
      "metadata": {
        "id": "srsPqj3OoFO-",
        "colab_type": "text"
      },
      "source": [
        "# **Temporal and Spatial analysis of events data using LSTM**\n",
        "\n"
      ]
    },
    {
      "cell_type": "markdown",
      "metadata": {
        "id": "9Zt2Bq77oUEu",
        "colab_type": "text"
      },
      "source": [
        "**Dataset:** foursquare\n",
        "\n",
        "**Aim:** to predict future location and time of user given the historical sequences of location and time .\n",
        "\n",
        "An analogy for the aim is , predicting the next word in a sentence. \n"
      ]
    },
    {
      "cell_type": "markdown",
      "metadata": {
        "id": "SzINCAjZpryW",
        "colab_type": "text"
      },
      "source": [
        "**Contents:**\n",
        "***\n",
        "1. Data pre processing\n",
        "2. Encoding\n",
        "3. Modeling\n",
        "4. Training"
      ]
    },
    {
      "cell_type": "markdown",
      "metadata": {
        "id": "ce2cG-Z1p_UV",
        "colab_type": "text"
      },
      "source": [
        "# **1. Data pre processing**\n"
      ]
    },
    {
      "cell_type": "code",
      "metadata": {
        "id": "0GlupXKwn6GU",
        "colab_type": "code",
        "colab": {
          "base_uri": "https://localhost:8080/",
          "height": 34
        },
        "outputId": "ecb7781d-1709-4155-d9a7-473633e39167"
      },
      "source": [
        "import pandas as pd\n",
        "import numpy as np\n",
        "import tensorflow as tf\n",
        "\n",
        "\n",
        "from google.colab import drive\n",
        "import warnings\n",
        "warnings.filterwarnings('ignore')\n",
        "\n",
        "import torch\n",
        "import torch.nn as nn\n",
        "import torch.nn.functional as F\n",
        "import torch.optim as optim\n",
        "from torch.utils import data\n",
        "\n",
        "\n",
        "\n",
        "torch.manual_seed(1)"
      ],
      "execution_count": 1,
      "outputs": [
        {
          "output_type": "execute_result",
          "data": {
            "text/plain": [
              "<torch._C.Generator at 0x7f30fba4de30>"
            ]
          },
          "metadata": {
            "tags": []
          },
          "execution_count": 1
        }
      ]
    },
    {
      "cell_type": "markdown",
      "metadata": {
        "id": "918U9XsGYpD-",
        "colab_type": "text"
      },
      "source": [
        "1. **Check for GPU**\n",
        "---\n",
        "This code presently does not use GPU. This will later be modified to use one.\n"
      ]
    },
    {
      "cell_type": "code",
      "metadata": {
        "id": "qKWnSgTB1mv9",
        "colab_type": "code",
        "colab": {
          "base_uri": "https://localhost:8080/",
          "height": 266
        },
        "outputId": "5687e5e3-2995-4ce2-88e3-de6594870ba7"
      },
      "source": [
        "#check the devices available\n",
        "\n",
        "from tensorflow.python.client import device_lib\n",
        "print(device_lib.list_local_devices())"
      ],
      "execution_count": 2,
      "outputs": [
        {
          "output_type": "stream",
          "text": [
            "[name: \"/device:CPU:0\"\n",
            "device_type: \"CPU\"\n",
            "memory_limit: 268435456\n",
            "locality {\n",
            "}\n",
            "incarnation: 13359404271917426863\n",
            ", name: \"/device:XLA_CPU:0\"\n",
            "device_type: \"XLA_CPU\"\n",
            "memory_limit: 17179869184\n",
            "locality {\n",
            "}\n",
            "incarnation: 3441581282584748557\n",
            "physical_device_desc: \"device: XLA_CPU device\"\n",
            "]\n"
          ],
          "name": "stdout"
        }
      ]
    },
    {
      "cell_type": "code",
      "metadata": {
        "id": "idzooZ_m200b",
        "colab_type": "code",
        "colab": {
          "base_uri": "https://localhost:8080/",
          "height": 35
        },
        "outputId": "35178e23-ca38-4644-b7ac-f037ab935870"
      },
      "source": [
        "#check if the gpu is available\n",
        "print(\"Num GPUs Available: \", len(tf.config.experimental.list_physical_devices('GPU')))"
      ],
      "execution_count": 3,
      "outputs": [
        {
          "output_type": "stream",
          "text": [
            "Num GPUs Available:  0\n"
          ],
          "name": "stdout"
        }
      ]
    },
    {
      "cell_type": "code",
      "metadata": {
        "id": "W5DIAW674AA6",
        "colab_type": "code",
        "colab": {
          "base_uri": "https://localhost:8080/",
          "height": 35
        },
        "outputId": "b5cd0b8d-5d44-4318-804a-72750bea768f"
      },
      "source": [
        "#the GPU may not be available at the moment\n",
        "\n",
        "import tensorflow as tf\n",
        "device_name = tf.test.gpu_device_name()\n",
        "if device_name != '/device:GPU:0':\n",
        "    print('GPU device not found')\n"
      ],
      "execution_count": 4,
      "outputs": [
        {
          "output_type": "stream",
          "text": [
            "GPU device not found\n"
          ],
          "name": "stdout"
        }
      ]
    },
    {
      "cell_type": "code",
      "metadata": {
        "id": "hqnyh90agc5m",
        "colab_type": "code",
        "colab": {
          "base_uri": "https://localhost:8080/",
          "height": 126
        },
        "outputId": "b9c2fc59-1093-4131-87b9-c6ac4983f31d"
      },
      "source": [
        "#dataset is in the google drive\n",
        "\n",
        "drive.mount('/content/drive')"
      ],
      "execution_count": 5,
      "outputs": [
        {
          "output_type": "stream",
          "text": [
            "Go to this URL in a browser: https://accounts.google.com/o/oauth2/auth?client_id=947318989803-6bn6qk8qdgf4n4g3pfee6491hc0brc4i.apps.googleusercontent.com&redirect_uri=urn%3aietf%3awg%3aoauth%3a2.0%3aoob&response_type=code&scope=email%20https%3a%2f%2fwww.googleapis.com%2fauth%2fdocs.test%20https%3a%2f%2fwww.googleapis.com%2fauth%2fdrive%20https%3a%2f%2fwww.googleapis.com%2fauth%2fdrive.photos.readonly%20https%3a%2f%2fwww.googleapis.com%2fauth%2fpeopleapi.readonly\n",
            "\n",
            "Enter your authorization code:\n",
            "··········\n",
            "Mounted at /content/drive\n"
          ],
          "name": "stdout"
        }
      ]
    },
    {
      "cell_type": "code",
      "metadata": {
        "id": "SjDgrlTdgmji",
        "colab_type": "code",
        "colab": {
          "base_uri": "https://localhost:8080/",
          "height": 52
        },
        "outputId": "95429a2f-62f4-421f-84c1-b56dc93aacd1"
      },
      "source": [
        "#my google drive path\n",
        "\n",
        "!ls \"/content/drive/My Drive/dataset/foursquare\"\n",
        "path = \"/content/drive/My Drive/dataset/foursquare\""
      ],
      "execution_count": 6,
      "outputs": [
        {
          "output_type": "stream",
          "text": [
            "Checkin.txt\t UserFriends.txt    VenueRating.txt\n",
            "Description.txt  VenueCategory.txt  Venue.txt\n"
          ],
          "name": "stdout"
        }
      ]
    },
    {
      "cell_type": "markdown",
      "metadata": {
        "id": "sduA9CxS_y_H",
        "colab_type": "text"
      },
      "source": [
        "2. **Load dataset.** \n",
        "---\n",
        "Dataset, consists of 5 tables. `Checkin` table has the event details"
      ]
    },
    {
      "cell_type": "code",
      "metadata": {
        "id": "V-_st6uAdyTM",
        "colab_type": "code",
        "colab": {
          "base_uri": "https://localhost:8080/",
          "height": 52
        },
        "outputId": "9aad61ae-3af3-4776-c03a-0ee52a341233"
      },
      "source": [
        "%%time\n",
        "Checkin_columns = ['UserID','VenueID','Year','Month','Date','Hour']\n",
        "Checkin = pd.read_csv(path+'/Checkin.txt', sep=',', skiprows=1, names=Checkin_columns)"
      ],
      "execution_count": 7,
      "outputs": [
        {
          "output_type": "stream",
          "text": [
            "CPU times: user 712 ms, sys: 143 ms, total: 856 ms\n",
            "Wall time: 1.21 s\n"
          ],
          "name": "stdout"
        }
      ]
    },
    {
      "cell_type": "code",
      "metadata": {
        "id": "MbzKjlyHh7a2",
        "colab_type": "code",
        "colab": {
          "base_uri": "https://localhost:8080/",
          "height": 52
        },
        "outputId": "1a586914-37c3-4edc-ff0e-3d83477bff8c"
      },
      "source": [
        "%%time\n",
        "\n",
        "Venue_columns = ['VenueID','VenueName','Latitude','Longitude','CategoryID']\n",
        "Venue = pd.read_csv(path+'/Venue.txt', sep=',', error_bad_lines=False,skiprows=1,names=Venue_columns)\n",
        "\n",
        "VenueCategory_columns = ['CategoryID','CategoryName','ParentCategoryID']\n",
        "VenueCategory = pd.read_csv(path+'/VenueCategory.txt', sep=',',error_bad_lines=False,skiprows=1,names=VenueCategory_columns)\n",
        "\n",
        "VenueRating_columns = ['VenueID','Rating']\n",
        "VenueRating = pd.read_csv(path+'/VenueRating.txt', sep=',',error_bad_lines=False,skiprows=1,names=VenueRating_columns)\n",
        "\n",
        "UserFriends = pd.read_csv(path+'/UserFriends.txt', sep=',') \n",
        "\n",
        "all_tables = [Checkin,Venue,VenueCategory,VenueRating,UserFriends]\n",
        "all_tables_string = ['Checkin','Venue','VenueCategory','VenueRating','UserFriends']"
      ],
      "execution_count": 8,
      "outputs": [
        {
          "output_type": "stream",
          "text": [
            "CPU times: user 999 ms, sys: 92.4 ms, total: 1.09 s\n",
            "Wall time: 1.89 s\n"
          ],
          "name": "stdout"
        }
      ]
    },
    {
      "cell_type": "code",
      "metadata": {
        "id": "zyuAPADGhADL",
        "colab_type": "code",
        "colab": {
          "base_uri": "https://localhost:8080/",
          "height": 194
        },
        "outputId": "9e3a69df-52a8-47f8-8629-4b6a137ceebc"
      },
      "source": [
        "Checkin.head()"
      ],
      "execution_count": 9,
      "outputs": [
        {
          "output_type": "execute_result",
          "data": {
            "text/html": [
              "<div>\n",
              "<style scoped>\n",
              "    .dataframe tbody tr th:only-of-type {\n",
              "        vertical-align: middle;\n",
              "    }\n",
              "\n",
              "    .dataframe tbody tr th {\n",
              "        vertical-align: top;\n",
              "    }\n",
              "\n",
              "    .dataframe thead th {\n",
              "        text-align: right;\n",
              "    }\n",
              "</style>\n",
              "<table border=\"1\" class=\"dataframe\">\n",
              "  <thead>\n",
              "    <tr style=\"text-align: right;\">\n",
              "      <th></th>\n",
              "      <th>UserID</th>\n",
              "      <th>VenueID</th>\n",
              "      <th>Year</th>\n",
              "      <th>Month</th>\n",
              "      <th>Date</th>\n",
              "      <th>Hour</th>\n",
              "    </tr>\n",
              "  </thead>\n",
              "  <tbody>\n",
              "    <tr>\n",
              "      <th>0</th>\n",
              "      <td>u1302</td>\n",
              "      <td>v47</td>\n",
              "      <td>2012</td>\n",
              "      <td>2</td>\n",
              "      <td>24</td>\n",
              "      <td>11</td>\n",
              "    </tr>\n",
              "    <tr>\n",
              "      <th>1</th>\n",
              "      <td>u45</td>\n",
              "      <td>v132</td>\n",
              "      <td>2012</td>\n",
              "      <td>2</td>\n",
              "      <td>24</td>\n",
              "      <td>11</td>\n",
              "    </tr>\n",
              "    <tr>\n",
              "      <th>2</th>\n",
              "      <td>u24844</td>\n",
              "      <td>v86</td>\n",
              "      <td>2012</td>\n",
              "      <td>2</td>\n",
              "      <td>24</td>\n",
              "      <td>11</td>\n",
              "    </tr>\n",
              "    <tr>\n",
              "      <th>3</th>\n",
              "      <td>u896</td>\n",
              "      <td>v248</td>\n",
              "      <td>2012</td>\n",
              "      <td>2</td>\n",
              "      <td>24</td>\n",
              "      <td>11</td>\n",
              "    </tr>\n",
              "    <tr>\n",
              "      <th>4</th>\n",
              "      <td>u5020</td>\n",
              "      <td>v29</td>\n",
              "      <td>2012</td>\n",
              "      <td>2</td>\n",
              "      <td>24</td>\n",
              "      <td>11</td>\n",
              "    </tr>\n",
              "  </tbody>\n",
              "</table>\n",
              "</div>"
            ],
            "text/plain": [
              "   UserID VenueID  Year  Month  Date  Hour\n",
              "0   u1302     v47  2012      2    24    11\n",
              "1     u45    v132  2012      2    24    11\n",
              "2  u24844     v86  2012      2    24    11\n",
              "3    u896    v248  2012      2    24    11\n",
              "4   u5020     v29  2012      2    24    11"
            ]
          },
          "metadata": {
            "tags": []
          },
          "execution_count": 9
        }
      ]
    },
    {
      "cell_type": "code",
      "metadata": {
        "id": "ofoqannHheKI",
        "colab_type": "code",
        "colab": {
          "base_uri": "https://localhost:8080/",
          "height": 817
        },
        "outputId": "aad355b4-9963-4109-e9df-d548d1f73254"
      },
      "source": [
        "#stats of the data \n",
        "\n",
        "def _describe(data):\n",
        "    print(f\" Number of rows: {data.shape[0]}\")\n",
        "    print(f\" Number of columns: {data.shape[1]}\")\n",
        "    print(f\" Number of null values: {np.sum(data.isnull().sum())}\")\n",
        "    print(\"The columns that have null values\")\n",
        "    print(pd.DataFrame(data.isnull().sum()).T)\n",
        "    \n",
        "for index,table in enumerate(all_tables):\n",
        "    print(f\"Details of table {all_tables_string[index]}\")\n",
        "    print(\"\")\n",
        "    _describe(table)\n",
        "    print(\"\")"
      ],
      "execution_count": 10,
      "outputs": [
        {
          "output_type": "stream",
          "text": [
            "Details of table Checkin\n",
            "\n",
            " Number of rows: 1276988\n",
            " Number of columns: 6\n",
            " Number of null values: 0\n",
            "The columns that have null values\n",
            "   UserID  VenueID  Year  Month  Date  Hour\n",
            "0       0        0     0      0     0     0\n",
            "\n",
            "Details of table Venue\n",
            "\n",
            " Number of rows: 85928\n",
            " Number of columns: 5\n",
            " Number of null values: 14\n",
            "The columns that have null values\n",
            "   VenueID  VenueName  Latitude  Longitude  CategoryID\n",
            "0        0         12         2          0           0\n",
            "\n",
            "Details of table VenueCategory\n",
            "\n",
            " Number of rows: 394\n",
            " Number of columns: 3\n",
            " Number of null values: 0\n",
            "The columns that have null values\n",
            "   CategoryID  CategoryName  ParentCategoryID\n",
            "0           0             0                 0\n",
            "\n",
            "Details of table VenueRating\n",
            "\n",
            " Number of rows: 68178\n",
            " Number of columns: 2\n",
            " Number of null values: 96\n",
            "The columns that have null values\n",
            "   VenueID  Rating\n",
            "0       96       0\n",
            "\n",
            "Details of table UserFriends\n",
            "\n",
            " Number of rows: 1366388\n",
            " Number of columns: 2\n",
            " Number of null values: 0\n",
            "The columns that have null values\n",
            "   userID  friendID\n",
            "0       0         0\n",
            "\n"
          ],
          "name": "stdout"
        }
      ]
    },
    {
      "cell_type": "markdown",
      "metadata": {
        "id": "JQP07W6eqXqN",
        "colab_type": "text"
      },
      "source": [
        "3. **Model for one user** (for testing), hence we will filter the data for one user, eventually this will be extended for all users"
      ]
    },
    {
      "cell_type": "code",
      "metadata": {
        "id": "07eFFxUde_7Y",
        "colab_type": "code",
        "colab": {
          "base_uri": "https://localhost:8080/",
          "height": 194
        },
        "outputId": "2ee3cdb0-9602-452a-9750-d17405a78733"
      },
      "source": [
        "#filter data for one user \n",
        "\n",
        "Checkin_u1205 = Checkin[Checkin.UserID == 'u1205']\n",
        "Checkin_u1205.head()"
      ],
      "execution_count": 11,
      "outputs": [
        {
          "output_type": "execute_result",
          "data": {
            "text/html": [
              "<div>\n",
              "<style scoped>\n",
              "    .dataframe tbody tr th:only-of-type {\n",
              "        vertical-align: middle;\n",
              "    }\n",
              "\n",
              "    .dataframe tbody tr th {\n",
              "        vertical-align: top;\n",
              "    }\n",
              "\n",
              "    .dataframe thead th {\n",
              "        text-align: right;\n",
              "    }\n",
              "</style>\n",
              "<table border=\"1\" class=\"dataframe\">\n",
              "  <thead>\n",
              "    <tr style=\"text-align: right;\">\n",
              "      <th></th>\n",
              "      <th>UserID</th>\n",
              "      <th>VenueID</th>\n",
              "      <th>Year</th>\n",
              "      <th>Month</th>\n",
              "      <th>Date</th>\n",
              "      <th>Hour</th>\n",
              "    </tr>\n",
              "  </thead>\n",
              "  <tbody>\n",
              "    <tr>\n",
              "      <th>2723</th>\n",
              "      <td>u1205</td>\n",
              "      <td>v73805</td>\n",
              "      <td>2012</td>\n",
              "      <td>2</td>\n",
              "      <td>25</td>\n",
              "      <td>9</td>\n",
              "    </tr>\n",
              "    <tr>\n",
              "      <th>3817</th>\n",
              "      <td>u1205</td>\n",
              "      <td>v9884</td>\n",
              "      <td>2012</td>\n",
              "      <td>2</td>\n",
              "      <td>25</td>\n",
              "      <td>11</td>\n",
              "    </tr>\n",
              "    <tr>\n",
              "      <th>4739</th>\n",
              "      <td>u1205</td>\n",
              "      <td>v3906</td>\n",
              "      <td>2012</td>\n",
              "      <td>2</td>\n",
              "      <td>25</td>\n",
              "      <td>13</td>\n",
              "    </tr>\n",
              "    <tr>\n",
              "      <th>5904</th>\n",
              "      <td>u1205</td>\n",
              "      <td>v10373</td>\n",
              "      <td>2012</td>\n",
              "      <td>2</td>\n",
              "      <td>25</td>\n",
              "      <td>15</td>\n",
              "    </tr>\n",
              "    <tr>\n",
              "      <th>6840</th>\n",
              "      <td>u1205</td>\n",
              "      <td>v9884</td>\n",
              "      <td>2012</td>\n",
              "      <td>2</td>\n",
              "      <td>25</td>\n",
              "      <td>17</td>\n",
              "    </tr>\n",
              "  </tbody>\n",
              "</table>\n",
              "</div>"
            ],
            "text/plain": [
              "     UserID VenueID  Year  Month  Date  Hour\n",
              "2723  u1205  v73805  2012      2    25     9\n",
              "3817  u1205   v9884  2012      2    25    11\n",
              "4739  u1205   v3906  2012      2    25    13\n",
              "5904  u1205  v10373  2012      2    25    15\n",
              "6840  u1205   v9884  2012      2    25    17"
            ]
          },
          "metadata": {
            "tags": []
          },
          "execution_count": 11
        }
      ]
    },
    {
      "cell_type": "code",
      "metadata": {
        "id": "-wjalbEBit8a",
        "colab_type": "code",
        "colab": {
          "base_uri": "https://localhost:8080/",
          "height": 194
        },
        "outputId": "a09825b8-0699-4516-847c-5de69b6d9ff2"
      },
      "source": [
        "# drop userid as that is not useful now, since there is only one user \n",
        "\n",
        "Checkin_u1205.drop(['UserID'], axis=1, inplace=True)\n",
        "\n",
        "#renaming column Date to Day\n",
        "Checkin_u1205.rename(columns={\"Date\":\"Day\"}, inplace=True)\n",
        "Checkin_u1205.head()"
      ],
      "execution_count": 12,
      "outputs": [
        {
          "output_type": "execute_result",
          "data": {
            "text/html": [
              "<div>\n",
              "<style scoped>\n",
              "    .dataframe tbody tr th:only-of-type {\n",
              "        vertical-align: middle;\n",
              "    }\n",
              "\n",
              "    .dataframe tbody tr th {\n",
              "        vertical-align: top;\n",
              "    }\n",
              "\n",
              "    .dataframe thead th {\n",
              "        text-align: right;\n",
              "    }\n",
              "</style>\n",
              "<table border=\"1\" class=\"dataframe\">\n",
              "  <thead>\n",
              "    <tr style=\"text-align: right;\">\n",
              "      <th></th>\n",
              "      <th>VenueID</th>\n",
              "      <th>Year</th>\n",
              "      <th>Month</th>\n",
              "      <th>Day</th>\n",
              "      <th>Hour</th>\n",
              "    </tr>\n",
              "  </thead>\n",
              "  <tbody>\n",
              "    <tr>\n",
              "      <th>2723</th>\n",
              "      <td>v73805</td>\n",
              "      <td>2012</td>\n",
              "      <td>2</td>\n",
              "      <td>25</td>\n",
              "      <td>9</td>\n",
              "    </tr>\n",
              "    <tr>\n",
              "      <th>3817</th>\n",
              "      <td>v9884</td>\n",
              "      <td>2012</td>\n",
              "      <td>2</td>\n",
              "      <td>25</td>\n",
              "      <td>11</td>\n",
              "    </tr>\n",
              "    <tr>\n",
              "      <th>4739</th>\n",
              "      <td>v3906</td>\n",
              "      <td>2012</td>\n",
              "      <td>2</td>\n",
              "      <td>25</td>\n",
              "      <td>13</td>\n",
              "    </tr>\n",
              "    <tr>\n",
              "      <th>5904</th>\n",
              "      <td>v10373</td>\n",
              "      <td>2012</td>\n",
              "      <td>2</td>\n",
              "      <td>25</td>\n",
              "      <td>15</td>\n",
              "    </tr>\n",
              "    <tr>\n",
              "      <th>6840</th>\n",
              "      <td>v9884</td>\n",
              "      <td>2012</td>\n",
              "      <td>2</td>\n",
              "      <td>25</td>\n",
              "      <td>17</td>\n",
              "    </tr>\n",
              "  </tbody>\n",
              "</table>\n",
              "</div>"
            ],
            "text/plain": [
              "     VenueID  Year  Month  Day  Hour\n",
              "2723  v73805  2012      2   25     9\n",
              "3817   v9884  2012      2   25    11\n",
              "4739   v3906  2012      2   25    13\n",
              "5904  v10373  2012      2   25    15\n",
              "6840   v9884  2012      2   25    17"
            ]
          },
          "metadata": {
            "tags": []
          },
          "execution_count": 12
        }
      ]
    },
    {
      "cell_type": "code",
      "metadata": {
        "id": "WRc5b7_mjOA2",
        "colab_type": "code",
        "colab": {
          "base_uri": "https://localhost:8080/",
          "height": 52
        },
        "outputId": "04cb5e32-d414-4d37-c9aa-fec876646a49"
      },
      "source": [
        "# create a new column, datetime to sort the events \n",
        "\n",
        "%%time\n",
        "Checkin_u1205['Datetime'] = pd.to_datetime(Checkin_u1205[['Year', 'Month', 'Day', 'Hour']])\n",
        "Checkin_u1205['Hour_mins'] = Checkin_u1205.Hour.values*60\n",
        "\n",
        "Checkin_u1205.head()"
      ],
      "execution_count": 13,
      "outputs": [
        {
          "output_type": "stream",
          "text": [
            "CPU times: user 22.7 ms, sys: 4.3 ms, total: 27 ms\n",
            "Wall time: 92.4 ms\n"
          ],
          "name": "stdout"
        }
      ]
    },
    {
      "cell_type": "code",
      "metadata": {
        "id": "YR2arrZk1qF3",
        "colab_type": "code",
        "colab": {
          "base_uri": "https://localhost:8080/",
          "height": 194
        },
        "outputId": "78b0570a-1b12-4ec1-a58e-22044d24b318"
      },
      "source": [
        "# sort based on datetime\n",
        "Checkin_u1205.sort_values(by='Datetime',inplace=True)\n",
        "\n",
        "Checkin_u1205.head()"
      ],
      "execution_count": 14,
      "outputs": [
        {
          "output_type": "execute_result",
          "data": {
            "text/html": [
              "<div>\n",
              "<style scoped>\n",
              "    .dataframe tbody tr th:only-of-type {\n",
              "        vertical-align: middle;\n",
              "    }\n",
              "\n",
              "    .dataframe tbody tr th {\n",
              "        vertical-align: top;\n",
              "    }\n",
              "\n",
              "    .dataframe thead th {\n",
              "        text-align: right;\n",
              "    }\n",
              "</style>\n",
              "<table border=\"1\" class=\"dataframe\">\n",
              "  <thead>\n",
              "    <tr style=\"text-align: right;\">\n",
              "      <th></th>\n",
              "      <th>VenueID</th>\n",
              "      <th>Year</th>\n",
              "      <th>Month</th>\n",
              "      <th>Day</th>\n",
              "      <th>Hour</th>\n",
              "      <th>Datetime</th>\n",
              "      <th>Hour_mins</th>\n",
              "    </tr>\n",
              "  </thead>\n",
              "  <tbody>\n",
              "    <tr>\n",
              "      <th>2723</th>\n",
              "      <td>v73805</td>\n",
              "      <td>2012</td>\n",
              "      <td>2</td>\n",
              "      <td>25</td>\n",
              "      <td>9</td>\n",
              "      <td>2012-02-25 09:00:00</td>\n",
              "      <td>540</td>\n",
              "    </tr>\n",
              "    <tr>\n",
              "      <th>9154</th>\n",
              "      <td>v40561</td>\n",
              "      <td>2012</td>\n",
              "      <td>2</td>\n",
              "      <td>25</td>\n",
              "      <td>9</td>\n",
              "      <td>2012-02-25 09:00:00</td>\n",
              "      <td>540</td>\n",
              "    </tr>\n",
              "    <tr>\n",
              "      <th>3817</th>\n",
              "      <td>v9884</td>\n",
              "      <td>2012</td>\n",
              "      <td>2</td>\n",
              "      <td>25</td>\n",
              "      <td>11</td>\n",
              "      <td>2012-02-25 11:00:00</td>\n",
              "      <td>660</td>\n",
              "    </tr>\n",
              "    <tr>\n",
              "      <th>10664</th>\n",
              "      <td>v1743</td>\n",
              "      <td>2012</td>\n",
              "      <td>2</td>\n",
              "      <td>25</td>\n",
              "      <td>11</td>\n",
              "      <td>2012-02-25 11:00:00</td>\n",
              "      <td>660</td>\n",
              "    </tr>\n",
              "    <tr>\n",
              "      <th>4739</th>\n",
              "      <td>v3906</td>\n",
              "      <td>2012</td>\n",
              "      <td>2</td>\n",
              "      <td>25</td>\n",
              "      <td>13</td>\n",
              "      <td>2012-02-25 13:00:00</td>\n",
              "      <td>780</td>\n",
              "    </tr>\n",
              "  </tbody>\n",
              "</table>\n",
              "</div>"
            ],
            "text/plain": [
              "      VenueID  Year  Month  Day  Hour            Datetime  Hour_mins\n",
              "2723   v73805  2012      2   25     9 2012-02-25 09:00:00        540\n",
              "9154   v40561  2012      2   25     9 2012-02-25 09:00:00        540\n",
              "3817    v9884  2012      2   25    11 2012-02-25 11:00:00        660\n",
              "10664   v1743  2012      2   25    11 2012-02-25 11:00:00        660\n",
              "4739    v3906  2012      2   25    13 2012-02-25 13:00:00        780"
            ]
          },
          "metadata": {
            "tags": []
          },
          "execution_count": 14
        }
      ]
    },
    {
      "cell_type": "code",
      "metadata": {
        "id": "uElqQ4Jo2NLN",
        "colab_type": "code",
        "colab": {}
      },
      "source": [
        "# from the above, we can see that for some reason there are 2 duplicate timestamps with different venues\n",
        "# it is not possible for a person to be at different location at the same time, so removing the rows with duplicate time stamps\n",
        "# the category of the venues is hierarchical, however for there appears no link between the venues\n",
        "\n",
        "Checkin_u1205_nodup = Checkin_u1205.drop_duplicates('Datetime')"
      ],
      "execution_count": 15,
      "outputs": []
    },
    {
      "cell_type": "code",
      "metadata": {
        "id": "q2IOLvasZ1Qv",
        "colab_type": "code",
        "colab": {
          "base_uri": "https://localhost:8080/",
          "height": 52
        },
        "outputId": "992ec4ed-0623-4830-b3a0-a4248bf7e569"
      },
      "source": [
        "print(\"Rows in Checkin_u1205: \", Checkin_u1205.shape[0])\n",
        "print(\"Rows in Checkin_u1205_nodup: \", Checkin_u1205_nodup.shape[0])"
      ],
      "execution_count": 16,
      "outputs": [
        {
          "output_type": "stream",
          "text": [
            "Rows in Checkin_u1205:  1303\n",
            "Rows in Checkin_u1205_nodup:  1227\n"
          ],
          "name": "stdout"
        }
      ]
    },
    {
      "cell_type": "code",
      "metadata": {
        "id": "Wzagi8fMgvjB",
        "colab_type": "code",
        "colab": {
          "base_uri": "https://localhost:8080/",
          "height": 634
        },
        "outputId": "681935eb-f326-4a77-cad7-ede74f918853"
      },
      "source": [
        "Checkin_u1205_nodup.iloc[:20]"
      ],
      "execution_count": 17,
      "outputs": [
        {
          "output_type": "execute_result",
          "data": {
            "text/html": [
              "<div>\n",
              "<style scoped>\n",
              "    .dataframe tbody tr th:only-of-type {\n",
              "        vertical-align: middle;\n",
              "    }\n",
              "\n",
              "    .dataframe tbody tr th {\n",
              "        vertical-align: top;\n",
              "    }\n",
              "\n",
              "    .dataframe thead th {\n",
              "        text-align: right;\n",
              "    }\n",
              "</style>\n",
              "<table border=\"1\" class=\"dataframe\">\n",
              "  <thead>\n",
              "    <tr style=\"text-align: right;\">\n",
              "      <th></th>\n",
              "      <th>VenueID</th>\n",
              "      <th>Year</th>\n",
              "      <th>Month</th>\n",
              "      <th>Day</th>\n",
              "      <th>Hour</th>\n",
              "      <th>Datetime</th>\n",
              "      <th>Hour_mins</th>\n",
              "    </tr>\n",
              "  </thead>\n",
              "  <tbody>\n",
              "    <tr>\n",
              "      <th>2723</th>\n",
              "      <td>v73805</td>\n",
              "      <td>2012</td>\n",
              "      <td>2</td>\n",
              "      <td>25</td>\n",
              "      <td>9</td>\n",
              "      <td>2012-02-25 09:00:00</td>\n",
              "      <td>540</td>\n",
              "    </tr>\n",
              "    <tr>\n",
              "      <th>3817</th>\n",
              "      <td>v9884</td>\n",
              "      <td>2012</td>\n",
              "      <td>2</td>\n",
              "      <td>25</td>\n",
              "      <td>11</td>\n",
              "      <td>2012-02-25 11:00:00</td>\n",
              "      <td>660</td>\n",
              "    </tr>\n",
              "    <tr>\n",
              "      <th>4739</th>\n",
              "      <td>v3906</td>\n",
              "      <td>2012</td>\n",
              "      <td>2</td>\n",
              "      <td>25</td>\n",
              "      <td>13</td>\n",
              "      <td>2012-02-25 13:00:00</td>\n",
              "      <td>780</td>\n",
              "    </tr>\n",
              "    <tr>\n",
              "      <th>5904</th>\n",
              "      <td>v10373</td>\n",
              "      <td>2012</td>\n",
              "      <td>2</td>\n",
              "      <td>25</td>\n",
              "      <td>15</td>\n",
              "      <td>2012-02-25 15:00:00</td>\n",
              "      <td>900</td>\n",
              "    </tr>\n",
              "    <tr>\n",
              "      <th>6840</th>\n",
              "      <td>v9884</td>\n",
              "      <td>2012</td>\n",
              "      <td>2</td>\n",
              "      <td>25</td>\n",
              "      <td>17</td>\n",
              "      <td>2012-02-25 17:00:00</td>\n",
              "      <td>1020</td>\n",
              "    </tr>\n",
              "    <tr>\n",
              "      <th>18507</th>\n",
              "      <td>v9885</td>\n",
              "      <td>2012</td>\n",
              "      <td>2</td>\n",
              "      <td>26</td>\n",
              "      <td>9</td>\n",
              "      <td>2012-02-26 09:00:00</td>\n",
              "      <td>540</td>\n",
              "    </tr>\n",
              "    <tr>\n",
              "      <th>12801</th>\n",
              "      <td>v10373</td>\n",
              "      <td>2012</td>\n",
              "      <td>2</td>\n",
              "      <td>26</td>\n",
              "      <td>11</td>\n",
              "      <td>2012-02-26 11:00:00</td>\n",
              "      <td>660</td>\n",
              "    </tr>\n",
              "    <tr>\n",
              "      <th>11674</th>\n",
              "      <td>v9885</td>\n",
              "      <td>2012</td>\n",
              "      <td>2</td>\n",
              "      <td>26</td>\n",
              "      <td>13</td>\n",
              "      <td>2012-02-26 13:00:00</td>\n",
              "      <td>780</td>\n",
              "    </tr>\n",
              "    <tr>\n",
              "      <th>15263</th>\n",
              "      <td>v2927</td>\n",
              "      <td>2012</td>\n",
              "      <td>2</td>\n",
              "      <td>26</td>\n",
              "      <td>15</td>\n",
              "      <td>2012-02-26 15:00:00</td>\n",
              "      <td>900</td>\n",
              "    </tr>\n",
              "    <tr>\n",
              "      <th>20745</th>\n",
              "      <td>v6013</td>\n",
              "      <td>2012</td>\n",
              "      <td>2</td>\n",
              "      <td>27</td>\n",
              "      <td>9</td>\n",
              "      <td>2012-02-27 09:00:00</td>\n",
              "      <td>540</td>\n",
              "    </tr>\n",
              "    <tr>\n",
              "      <th>22076</th>\n",
              "      <td>v67648</td>\n",
              "      <td>2012</td>\n",
              "      <td>2</td>\n",
              "      <td>27</td>\n",
              "      <td>11</td>\n",
              "      <td>2012-02-27 11:00:00</td>\n",
              "      <td>660</td>\n",
              "    </tr>\n",
              "    <tr>\n",
              "      <th>23077</th>\n",
              "      <td>v37724</td>\n",
              "      <td>2012</td>\n",
              "      <td>2</td>\n",
              "      <td>27</td>\n",
              "      <td>13</td>\n",
              "      <td>2012-02-27 13:00:00</td>\n",
              "      <td>780</td>\n",
              "    </tr>\n",
              "    <tr>\n",
              "      <th>23727</th>\n",
              "      <td>v13235</td>\n",
              "      <td>2012</td>\n",
              "      <td>2</td>\n",
              "      <td>27</td>\n",
              "      <td>14</td>\n",
              "      <td>2012-02-27 14:00:00</td>\n",
              "      <td>840</td>\n",
              "    </tr>\n",
              "    <tr>\n",
              "      <th>24467</th>\n",
              "      <td>v85343</td>\n",
              "      <td>2012</td>\n",
              "      <td>2</td>\n",
              "      <td>27</td>\n",
              "      <td>15</td>\n",
              "      <td>2012-02-27 15:00:00</td>\n",
              "      <td>900</td>\n",
              "    </tr>\n",
              "    <tr>\n",
              "      <th>25731</th>\n",
              "      <td>v9884</td>\n",
              "      <td>2012</td>\n",
              "      <td>2</td>\n",
              "      <td>27</td>\n",
              "      <td>17</td>\n",
              "      <td>2012-02-27 17:00:00</td>\n",
              "      <td>1020</td>\n",
              "    </tr>\n",
              "    <tr>\n",
              "      <th>20334</th>\n",
              "      <td>v55736</td>\n",
              "      <td>2012</td>\n",
              "      <td>2</td>\n",
              "      <td>27</td>\n",
              "      <td>19</td>\n",
              "      <td>2012-02-27 19:00:00</td>\n",
              "      <td>1140</td>\n",
              "    </tr>\n",
              "    <tr>\n",
              "      <th>27796</th>\n",
              "      <td>v18477</td>\n",
              "      <td>2012</td>\n",
              "      <td>2</td>\n",
              "      <td>27</td>\n",
              "      <td>20</td>\n",
              "      <td>2012-02-27 20:00:00</td>\n",
              "      <td>1200</td>\n",
              "    </tr>\n",
              "    <tr>\n",
              "      <th>27898</th>\n",
              "      <td>v9885</td>\n",
              "      <td>2012</td>\n",
              "      <td>2</td>\n",
              "      <td>27</td>\n",
              "      <td>21</td>\n",
              "      <td>2012-02-27 21:00:00</td>\n",
              "      <td>1260</td>\n",
              "    </tr>\n",
              "    <tr>\n",
              "      <th>30493</th>\n",
              "      <td>v6013</td>\n",
              "      <td>2012</td>\n",
              "      <td>2</td>\n",
              "      <td>28</td>\n",
              "      <td>8</td>\n",
              "      <td>2012-02-28 08:00:00</td>\n",
              "      <td>480</td>\n",
              "    </tr>\n",
              "    <tr>\n",
              "      <th>31455</th>\n",
              "      <td>v342</td>\n",
              "      <td>2012</td>\n",
              "      <td>2</td>\n",
              "      <td>28</td>\n",
              "      <td>10</td>\n",
              "      <td>2012-02-28 10:00:00</td>\n",
              "      <td>600</td>\n",
              "    </tr>\n",
              "  </tbody>\n",
              "</table>\n",
              "</div>"
            ],
            "text/plain": [
              "      VenueID  Year  Month  Day  Hour            Datetime  Hour_mins\n",
              "2723   v73805  2012      2   25     9 2012-02-25 09:00:00        540\n",
              "3817    v9884  2012      2   25    11 2012-02-25 11:00:00        660\n",
              "4739    v3906  2012      2   25    13 2012-02-25 13:00:00        780\n",
              "5904   v10373  2012      2   25    15 2012-02-25 15:00:00        900\n",
              "6840    v9884  2012      2   25    17 2012-02-25 17:00:00       1020\n",
              "18507   v9885  2012      2   26     9 2012-02-26 09:00:00        540\n",
              "12801  v10373  2012      2   26    11 2012-02-26 11:00:00        660\n",
              "11674   v9885  2012      2   26    13 2012-02-26 13:00:00        780\n",
              "15263   v2927  2012      2   26    15 2012-02-26 15:00:00        900\n",
              "20745   v6013  2012      2   27     9 2012-02-27 09:00:00        540\n",
              "22076  v67648  2012      2   27    11 2012-02-27 11:00:00        660\n",
              "23077  v37724  2012      2   27    13 2012-02-27 13:00:00        780\n",
              "23727  v13235  2012      2   27    14 2012-02-27 14:00:00        840\n",
              "24467  v85343  2012      2   27    15 2012-02-27 15:00:00        900\n",
              "25731   v9884  2012      2   27    17 2012-02-27 17:00:00       1020\n",
              "20334  v55736  2012      2   27    19 2012-02-27 19:00:00       1140\n",
              "27796  v18477  2012      2   27    20 2012-02-27 20:00:00       1200\n",
              "27898   v9885  2012      2   27    21 2012-02-27 21:00:00       1260\n",
              "30493   v6013  2012      2   28     8 2012-02-28 08:00:00        480\n",
              "31455    v342  2012      2   28    10 2012-02-28 10:00:00        600"
            ]
          },
          "metadata": {
            "tags": []
          },
          "execution_count": 17
        }
      ]
    },
    {
      "cell_type": "markdown",
      "metadata": {
        "id": "R1JdSv3NrBxs",
        "colab_type": "text"
      },
      "source": [
        "For time being we are not using the heirarchical informations about the venue, to keep the baseline model simple."
      ]
    },
    {
      "cell_type": "markdown",
      "metadata": {
        "id": "nVmSazxGrSwh",
        "colab_type": "text"
      },
      "source": [
        "Now, we need to create a time-series of events. \n",
        "\n",
        "`Example:`\n",
        "\n",
        "User goes to gym, grocery and home in that order or shopping, movies, restaurant and home in that order. \n",
        "\n",
        "Here, we need to create the longest time-series.\n"
      ]
    },
    {
      "cell_type": "markdown",
      "metadata": {
        "id": "d1Xx9Tyi64Y6",
        "colab_type": "text"
      },
      "source": [
        "create dataset as tensors"
      ]
    },
    {
      "cell_type": "markdown",
      "metadata": {
        "id": "Jy_SlcJeiRkR",
        "colab_type": "text"
      },
      "source": [
        "4. **Create longest sequences.** \n",
        "---\n",
        "`Idea`: gather longest time-series by viewing the events of the user, events less than the duration of 8hrs between them will be added to the same series. A gap of 8 hrs or more indicates the day has ended for the user, hence no more travel.\n"
      ]
    },
    {
      "cell_type": "code",
      "metadata": {
        "id": "MRUGUaF-UkKD",
        "colab_type": "code",
        "colab": {
          "base_uri": "https://localhost:8080/",
          "height": 52
        },
        "outputId": "cb66487b-31d0-4bcf-b8d2-6ea754fce919"
      },
      "source": [
        "\n",
        "%%time\n",
        "\n",
        "import datetime\n",
        "\n",
        "def _generate_events(data):\n",
        "  previous_time = datetime.datetime(2020, 12, 31)\n",
        "  all_events = []\n",
        "  current_events = []\n",
        "  for index, row in data.iterrows():\n",
        "    current_time = row['Datetime']  \n",
        "    current_hour = row['Hour_mins']\n",
        "    venue = row['VenueID']\n",
        "    if( (current_time - previous_time).total_seconds()/60/60 < 8):\n",
        "      current_events.append([venue, current_hour])\n",
        "      previous_time = current_time\n",
        "    else:\n",
        "      all_events.append(current_events)\n",
        "      current_events = []\n",
        "      current_events.append([venue, current_hour])\n",
        "      previous_time = current_time\n",
        "  if len(current_events)>0:\n",
        "    all_events.append(current_events)\n",
        "  return all_events\n",
        "\n"
      ],
      "execution_count": 18,
      "outputs": [
        {
          "output_type": "stream",
          "text": [
            "CPU times: user 7 µs, sys: 1 µs, total: 8 µs\n",
            "Wall time: 11.2 µs\n"
          ],
          "name": "stdout"
        }
      ]
    },
    {
      "cell_type": "markdown",
      "metadata": {
        "id": "PGbPUprJjT6C",
        "colab_type": "text"
      },
      "source": [
        "5. **Subsequences:** A Sequence cannot be directly fed into a model, hence one possibility is to break into sequence of two.\n",
        "\n",
        "---\n",
        "\n",
        "Example:\n",
        "\n",
        "for a sequence (v1,t1) (v2,t2) (v3,t3) (v4,t4)\n",
        "\n",
        "(v1,t1) (v2,t2)\n",
        "\n",
        "(v2,t2) (v3,t3)\n",
        "\n",
        "(v3,t3) (v4,t4)\n"
      ]
    },
    {
      "cell_type": "code",
      "metadata": {
        "id": "onphkt15fffb",
        "colab_type": "code",
        "colab": {
          "base_uri": "https://localhost:8080/",
          "height": 52
        },
        "outputId": "ed9cffd0-d22f-49ce-f423-0a2601e28954"
      },
      "source": [
        "# create all possible subsequences from the above sequence (maintaining the order)\n",
        "# we need a length of atleast 2 for feature and the label, ignore all sequence of events less than length 2\n",
        "\n",
        "\n",
        "# LSTM will remember that v2 comes after v1 and that v3 comes after v2 and if it sees v3 then next would be v4\n",
        "\n",
        "%%time\n",
        "\n",
        "def _generate_subsequence(data):\n",
        "  all_sequences = []\n",
        "  for sequence in data:  \n",
        "    if len(sequence) >= 2:\n",
        "      sequences = []\n",
        "      for i in range(0,len(sequence)-1):\n",
        "          sequences.append(sequence[i:i+2])          \n",
        "      all_sequences.append(sequences)\n",
        "  return all_sequences\n",
        "\n",
        "\n",
        "#old way of creating sub sequences \n",
        "# (v1,t1) (v2,t2)\n",
        "# (v1,t1) (v2,t2) (v3,t3)\n",
        "# (v1,t1) (v2,t2) (v3,t3) (v4,t4)\n",
        "\n",
        "'''\n",
        "def _generate_subsequence(data):\n",
        "  all_sequences = []\n",
        "  for sequence in data:  \n",
        "    if len(sequence) > 2:\n",
        "      for i in range(0,1):\n",
        "        sequences = []\n",
        "        for j in range(i+2,len(sequence)+1):      \n",
        "          sequences.append(sequence[i:j])          \n",
        "        all_sequences.append(sequences)\n",
        "  return all_sequences\n",
        "'''\n"
      ],
      "execution_count": 19,
      "outputs": [
        {
          "output_type": "stream",
          "text": [
            "CPU times: user 4 µs, sys: 0 ns, total: 4 µs\n",
            "Wall time: 7.15 µs\n"
          ],
          "name": "stdout"
        }
      ]
    },
    {
      "cell_type": "markdown",
      "metadata": {
        "id": "Ad3Oc0gJANKK",
        "colab_type": "text"
      },
      "source": [
        "# **2. Encoding**\n"
      ]
    },
    {
      "cell_type": "code",
      "metadata": {
        "id": "cIk1Mp7aARtr",
        "colab_type": "code",
        "colab": {
          "base_uri": "https://localhost:8080/",
          "height": 108
        },
        "outputId": "a9013c26-0686-498e-ffd0-1febd09b7eac"
      },
      "source": [
        "%time\n",
        "\n",
        "events = _generate_events(Checkin_u1205_nodup)\n",
        "print(\"Events\")\n",
        "print(events)\n",
        "\n",
        "#sequences = _generate_subsequence(events)\n",
        "#print(\"Subsequences\")\n",
        "#print(sequences)"
      ],
      "execution_count": 20,
      "outputs": [
        {
          "output_type": "stream",
          "text": [
            "CPU times: user 3 µs, sys: 0 ns, total: 3 µs\n",
            "Wall time: 5.01 µs\n",
            "Events\n",
            "[[['v73805', 540], ['v9884', 660], ['v3906', 780], ['v10373', 900], ['v9884', 1020]], [['v9885', 540], ['v10373', 660], ['v9885', 780], ['v2927', 900]], [['v6013', 540], ['v67648', 660], ['v37724', 780], ['v13235', 840], ['v85343', 900], ['v9884', 1020], ['v55736', 1140], ['v18477', 1200], ['v9885', 1260]], [['v6013', 480], ['v342', 600], ['v69205', 660], ['v128', 720], ['v52425', 780], ['v17926', 840], ['v67615', 900], ['v19062', 960], ['v9884', 1080], ['v18477', 1200], ['v9885', 1260]], [['v6013', 480], ['v9820', 600], ['v19062', 660], ['v67615', 780], ['v37724', 840], ['v16610', 900], ['v5488', 1020], ['v73805', 1080], ['v10373', 1140], ['v9885', 1200]], [['v6013', 480], ['v342', 600], ['v69205', 660], ['v81833', 720], ['v37724', 780], ['v67615', 840], ['v72562', 900], ['v580', 1020], ['v9884', 1080], ['v9885', 1200]], [['v7598', 480], ['v36222', 600], ['v9884', 780], ['v272', 900], ['v10373', 1140], ['v9885', 1260]], [['v10373', 480], ['v9884', 720], ['v10373', 780]], [['v18477', 540], ['v73805', 600], ['v36222', 780], ['v9884', 960], ['v9885', 1260]], [['v55736', 420], ['v6013', 480], ['v81833', 720], ['v37724', 780], ['v67615', 840], ['v72336', 900], ['v68631', 960], ['v7467', 1020], ['v36222', 1140], ['v73805', 1200], ['v9885', 1260]], [['v9688', 420], ['v6013', 480], ['v81833', 720], ['v37724', 780], ['v72336', 900], ['v68631', 960], ['v74832', 1020], ['v9884', 1080], ['v73805', 1140], ['v18477', 1260], ['v9885', 1320]], [['v9688', 420], ['v6013', 480], ['v342', 600], ['v68631', 660], ['v81833', 720], ['v72336', 900], ['v16061', 960], ['v9885', 1080], ['v9885', 1200]], [['v9688', 420], ['v6013', 480], ['v342', 660], ['v81833', 720], ['v69205', 840], ['v72562', 960], ['v580', 1020], ['v9884', 1080], ['v36222', 1200], ['v9885', 1260]], [['v55736', 420], ['v6013', 480], ['v342', 660], ['v9106', 720], ['v37724', 780], ['v67615', 840], ['v72562', 960], ['v5488', 1020], ['v73805', 1080], ['v36222', 1200], ['v9885', 1260]], [['v10373', 660], ['v18477', 840], ['v36222', 960], ['v9884', 1020], ['v74015', 1080], ['v36075', 1140], ['v9885', 1200]], [['v18477', 840], ['v9884', 900], ['v10373', 960], ['v9885', 1200]], [['v6013', 480], ['v342', 660], ['v81833', 720], ['v37724', 840], ['v67615', 900], ['v27571', 1020], ['v9884', 1140], ['v36222', 1200], ['v9885', 1260]], [['v55736', 420], ['v6013', 480], ['v342', 600], ['v83549', 660], ['v81833', 720], ['v72336', 840], ['v580', 1020], ['v9884', 1080], ['v73805', 1200], ['v9885', 1260]], [['v342', 660], ['v81833', 720], ['v37724', 840], ['v68631', 900], ['v16061', 960], ['v9884', 1080], ['v10373', 1140], ['v9885', 1260]], [['v73117', 420], ['v6013', 480], ['v342', 660], ['v52425', 840], ['v67615', 900], ['v72562', 960], ['v5488', 1020], ['v18470', 1080], ['v73805', 1200], ['v9885', 1260]], [['v9688', 420], ['v10937', 480], ['v6013', 540], ['v342', 660], ['v41', 720], ['v37724', 840], ['v68631', 960], ['v9884', 1080], ['v10373', 1140], ['v18477', 1200], ['v9885', 1260]], [['v7598', 600], ['v18477', 660], ['v18470', 720], ['v36222', 840], ['v9884', 960], ['v25103', 1080], ['v9885', 1200]], [['v73805', 540]], [['v18477', 1020], ['v73805', 1080], ['v10373', 1140], ['v36222', 1200], ['v9885', 1260]], [['v74378', 480], ['v36222', 720], ['v10373', 840], ['v73117', 900], ['v18477', 1020], ['v9884', 1140], ['v9885', 1260]], [['v9688', 420], ['v6013', 480], ['v342', 660], ['v85343', 720], ['v57806', 780], ['v68631', 840], ['v68287', 1020], ['v9884', 1080], ['v10373', 1140], ['v18477', 1200], ['v9885', 1260]], [['v342', 720], ['v85523', 780], ['v37724', 840], ['v68631', 900], ['v31855', 960], ['v42094', 1020], ['v36222', 1140], ['v10373', 1200], ['v9885', 1260]], [['v10937', 480], ['v6013', 540], ['v342', 600], ['v68631', 780], ['v72336', 840], ['v37724', 900], ['v52425', 960], ['v42094', 1020], ['v9884', 1080], ['v36222', 1200], ['v73805', 1260], ['v9885', 1320]], [['v18477', 840], ['v9884', 960], ['v10373', 1140], ['v73805', 1200], ['v9885', 1260]], [['v36222', 540], ['v9884', 960], ['v18477', 1080], ['v73805', 1140], ['v9885', 1200]], [['v9688', 420], ['v6013', 480], ['v31855', 720], ['v19062', 780], ['v37724', 840], ['v68631', 960], ['v9884', 1080], ['v10373', 1140], ['v9885', 1260]], [['v9688', 420], ['v6013', 480], ['v81833', 720], ['v37724', 900], ['v72336', 960], ['v580', 1020], ['v9884', 1080], ['v10373', 1140], ['v18477', 1200], ['v73805', 1260], ['v9885', 1320]], [['v55736', 420], ['v6013', 480], ['v342', 600], ['v16061', 660], ['v9106', 720], ['v37724', 780], ['v67615', 840], ['v72336', 900], ['v580', 1020], ['v10373', 1080], ['v73805', 1140], ['v36222', 1200], ['v9885', 1260]], [['v9688', 420], ['v6013', 480], ['v342', 660], ['v81833', 720], ['v37724', 840], ['v72336', 900], ['v67615', 960], ['v580', 1020], ['v9884', 1080], ['v10373', 1140], ['v73805', 1200], ['v9885', 1260]], [['v9688', 420], ['v10937', 480], ['v6013', 540], ['v57806', 600], ['v342', 660], ['v4134', 780], ['v83549', 840], ['v84331', 900], ['v9884', 1080], ['v10373', 1200], ['v9885', 1260]], [['v7598', 540], ['v77608', 660], ['v73805', 840], ['v36222', 960], ['v9884', 1140], ['v10373', 1200], ['v9885', 1260]], [['v10373', 660], ['v18477', 840], ['v36222', 900], ['v2235', 1020], ['v1800', 1080], ['v73805', 1140], ['v9885', 1200]], [['v55736', 420], ['v6013', 480], ['v342', 600], ['v16061', 660], ['v37724', 780], ['v68631', 840], ['v72336', 960], ['v9884', 1080], ['v10373', 1140], ['v18477', 1200], ['v9885', 1260]], [['v9688', 420], ['v6013', 480], ['v342', 600], ['v81833', 720], ['v37724', 780], ['v67615', 840], ['v72336', 960], ['v580', 1020], ['v9884', 1080], ['v18477', 1140], ['v73805', 1200], ['v9885', 1260]], [['v55736', 420], ['v6013', 480], ['v342', 660], ['v9106', 720], ['v37724', 780], ['v68631', 840], ['v69205', 900], ['v9885', 1080], ['v18477', 1140], ['v36222', 1200], ['v9885', 1260]], [['v73117', 420], ['v6013', 480], ['v342', 660], ['v31855', 720], ['v16061', 1020], ['v5488', 1080], ['v10373', 1140], ['v9885', 1200]], [['v9688', 420], ['v6013', 480], ['v1038', 720], ['v37724', 780], ['v67615', 840], ['v1989', 960], ['v45158', 1080], ['v9884', 1140], ['v18477', 1200], ['v9885', 1260]], [['v33102', 600], ['v9884', 660], ['v10373', 1080], ['v18477', 1140], ['v9885', 1260]], [['v9884', 780]], [['v9885', 1260]], [['v9688', 420], ['v6013', 480], ['v37724', 780], ['v69205', 840], ['v68631', 900], ['v72336', 960], ['v45158', 1020], ['v9884', 1080], ['v10373', 1140], ['v18477', 1260], ['v9885', 1320]], [['v9688', 420], ['v6013', 480], ['v57806', 600], ['v342', 660], ['v9820', 720], ['v37724', 780], ['v68631', 840], ['v4647', 1140], ['v10373', 1200], ['v9885', 1260]], [['v4647', 960], ['v68287', 1020], ['v9884', 1080], ['v10373', 1140], ['v18477', 1200], ['v73805', 1260], ['v9885', 1320]], [['v6013', 480], ['v342', 660], ['v37724', 840], ['v68631', 900], ['v72336', 960], ['v580', 1020], ['v5488', 1080], ['v18477', 1140], ['v9885', 1320]], [['v9688', 420], ['v6013', 480], ['v342', 660], ['v37724', 780], ['v68631', 840], ['v16061', 900], ['v72336', 960], ['v1989', 1020], ['v18477', 1260], ['v9885', 1320]], [['v10373', 900], ['v18477', 960], ['v58116', 1140], ['v36222', 1200], ['v73805', 1260], ['v9885', 1380]], [['v7598', 540], ['v36222', 660], ['v9884', 960], ['v18470', 1140], ['v73805', 1200], ['v18477', 1260], ['v9885', 1320]], [['v73117', 420], ['v6013', 480], ['v342', 660], ['v81833', 720], ['v37724', 780], ['v68631', 900], ['v67615', 960], ['v4647', 1020], ['v10373', 1080], ['v18477', 1200], ['v73805', 1260], ['v9885', 1320]], [['v9688', 420], ['v6013', 480], ['v342', 660], ['v81', 720], ['v455', 780], ['v68631', 840], ['v72336', 900], ['v16061', 960], ['v9884', 1020], ['v73805', 1140], ['v10373', 1200], ['v9885', 1260]], [['v18477', 720], ['v25361', 960], ['v33102', 1080], ['v73805', 1200], ['v9885', 1260]], [['v10937', 480], ['v57806', 600], ['v6013', 660], ['v9106', 720], ['v68631', 840], ['v342', 960], ['v42094', 1020], ['v9884', 1080], ['v10373', 1140], ['v18477', 1200], ['v9885', 1260]], [['v73117', 420], ['v84331', 540], ['v6013', 600], ['v342', 660], ['v81', 720], ['v52425', 840], ['v72336', 900], ['v68631', 960], ['v9884', 1080], ['v18477', 1260], ['v9885', 1320]], [['v77608', 600], ['v8286', 840], ['v4972', 1080], ['v9885', 1320]], [['v10373', 720], ['v36222', 780], ['v10373', 1080], ['v18477', 1140], ['v73805', 1200], ['v9885', 1260]], [['v6013', 480], ['v342', 600], ['v16061', 660], ['v68631', 780], ['v37724', 840], ['v67615', 960], ['v4647', 1020], ['v9884', 1080], ['v18477', 1200], ['v73805', 1260], ['v9885', 1320]], [['v9688', 420], ['v6013', 480], ['v57806', 660], ['v81833', 720], ['v13235', 840], ['v45158', 960], ['v580', 1020], ['v9884', 1080], ['v10373', 1140], ['v18477', 1200], ['v73805', 1260], ['v9885', 1320]], [['v6013', 480], ['v81833', 660], ['v19062', 720], ['v37724', 780], ['v68631', 840], ['v67615', 900], ['v69205', 960], ['v33102', 1080], ['v73056', 1200], ['v10373', 1260], ['v9885', 1320]], [['v6013', 480], ['v342', 660], ['v68631', 840], ['v37724', 900], ['v580', 1020], ['v73805', 1080], ['v18477', 1140], ['v9885', 1200]], [['v9688', 420], ['v6013', 480], ['v81', 720], ['v37724', 780], ['v68631', 900], ['v16061', 960], ['v580', 1020], ['v9885', 1080], ['v9884', 1140], ['v10373', 1200], ['v73805', 1320]], [['v10373', 660], ['v33102', 840], ['v9884', 900], ['v18477', 1080], ['v9885', 1320]], [['v7598', 600], ['v10373', 660], ['v73805', 960], ['v9884', 1020], ['v18477', 1140], ['v9885', 1380]], [['v73117', 420], ['v6013', 480], ['v342', 660], ['v37724', 840], ['v68631', 900], ['v16061', 960], ['v45158', 1020], ['v9884', 1080], ['v10373', 1140], ['v18477', 1200], ['v73805', 1260], ['v9885', 1320]], [['v9688', 420], ['v6013', 480], ['v81833', 720], ['v37724', 780], ['v68631', 840], ['v16061', 960], ['v580', 1020], ['v9884', 1080], ['v10373', 1140], ['v36222', 1200], ['v9885', 1320]], [['v9688', 420], ['v6013', 480], ['v342', 600], ['v68631', 900], ['v37724', 960], ['v5488', 1080], ['v10373', 1140], ['v36222', 1200], ['v18477', 1260], ['v9885', 1320]], [['v9688', 420], ['v6013', 480], ['v57806', 660], ['v37724', 720], ['v68631', 780], ['v16061', 900], ['v52425', 960], ['v580', 1020], ['v8286', 1080], ['v22696', 1200], ['v18477', 1260], ['v9885', 0], ['v73117', 420], ['v6013', 480], ['v342', 660], ['v52425', 780], ['v72336', 840], ['v69205', 960], ['v580', 1020], ['v9884', 1080], ['v18477', 1200], ['v9885', 1260]], [['v7598', 480], ['v761', 600], ['v36222', 720], ['v10373', 1020], ['v73805', 1260], ['v9885', 1320]], [['v7598', 540], ['v18477', 600], ['v10373', 840], ['v25361', 960], ['v73805', 1020], ['v10373', 1140], ['v9885', 1260]], [['v18608', 600], ['v73117', 660], ['v36222', 900], ['v3862', 1080], ['v73805', 1140], ['v18477', 1200], ['v10373', 1260], ['v9885', 1320]], [['v9688', 420], ['v6013', 480], ['v342', 660], ['v544', 720], ['v37724', 780], ['v68631', 840], ['v72336', 900], ['v69205', 960], ['v45158', 1020], ['v9884', 1080], ['v10373', 1140], ['v18477', 1200], ['v73805', 1260], ['v9885', 1320]], [['v342', 720], ['v16061', 840], ['v68631', 960], ['v10509', 1080], ['v18608', 1140], ['v73805', 1200], ['v18477', 1260], ['v9885', 1320]], [['v74015', 420], ['v73805', 540], ['v8286', 720], ['v10373', 840], ['v9884', 1020], ['v7733', 1080], ['v9885', 1260]], [['v9688', 420], ['v6013', 480], ['v342', 660], ['v81', 720], ['v2901', 780], ['v37724', 840], ['v16061', 960], ['v9884', 1140], ['v18477', 1200], ['v73805', 1260], ['v9885', 1320]], [['v7598', 600], ['v9884', 780], ['v1181', 1020], ['v2514', 1140], ['v10373', 1200], ['v10373', 1260], ['v9885', 1320]], [['v9884', 540], ['v73805', 960], ['v18477', 1140], ['v9885', 1200]], [['v9688', 420], ['v6013', 480], ['v342', 660], ['v37724', 720], ['v52425', 840], ['v67615', 900], ['v23178', 1020], ['v73805', 1080], ['v18477', 1140], ['v10373', 1200], ['v9885', 1320]], [['v6013', 480], ['v342', 600], ['v68631', 840], ['v4647', 1020], ['v9884', 1080], ['v73805', 1140], ['v18477', 1200], ['v9885', 1260]], [['v55736', 420], ['v6013', 480], ['v342', 600], ['v52425', 720], ['v37724', 840], ['v67615', 900], ['v72336', 960], ['v5488', 1020], ['v9884', 1080], ['v18477', 1140], ['v73805', 1200], ['v9885', 1320]], [['v73117', 480], ['v74015', 540], ['v8286', 780], ['v10373', 900], ['v73805', 1200], ['v9885', 1260]], [['v6013', 480], ['v342', 660], ['v739', 720], ['v37724', 900], ['v68631', 960], ['v7467', 1020], ['v9884', 1080], ['v73056', 1200], ['v9885', 1260]], [['v73805', 540]], [['v9884', 1080], ['v10373', 1140], ['v18477', 1260], ['v9885', 1320]], [['v57437', 480], ['v14537', 780], ['v22801', 840], ['v18608', 900], ['v10373', 960], ['v9884', 1020], ['v73805', 1080], ['v18477', 1200], ['v9885', 1260]], [['v9688', 420], ['v6013', 480], ['v342', 600], ['v16061', 660], ['v37724', 780], ['v68631', 840], ['v69205', 1020], ['v73782', 1080], ['v9884', 1140], ['v73805', 1200], ['v18477', 1260], ['v9885', 1320]], [['v6013', 480], ['v55', 540], ['v342', 600], ['v37724', 780], ['v68631', 840], ['v72336', 900], ['v52425', 1020], ['v17295', 1200], ['v9885', 1320]], [['v9688', 420], ['v6013', 480], ['v342', 660], ['v37724', 780], ['v52425', 960], ['v580', 1080], ['v10373', 1140], ['v9885', 1320]], [['v6013', 480], ['v342', 600], ['v37724', 840], ['v68631', 900], ['v52425', 960], ['v580', 1020], ['v33102', 1080], ['v17295', 1200], ['v9885', 1260]], [['v9688', 420], ['v6013', 480], ['v342', 600], ['v37724', 660], ['v10937', 780], ['v9884', 900], ['v73056', 1080], ['v18477', 1200], ['v9885', 1320]], [['v63824', 780], ['v9884', 900], ['v18477', 1080], ['v10373', 1200], ['v9885', 1320]], [['v9885', 540]], [['v73805', 1320], ['v9885', 1380]], [['v73056', 720], ['v9884', 780]], [['v9885', 1320]], [['v9688', 420], ['v6013', 480], ['v342', 660], ['v68631', 840], ['v72336', 960], ['v7467', 1020], ['v9884', 1080], ['v73056', 1140], ['v18477', 1200], ['v9885', 1260]], [['v73117', 540], ['v10373', 600], ['v36222', 720], ['v73805', 840], ['v9884', 1140], ['v9885', 1200]], [['v9688', 420], ['v6013', 540], ['v342', 600], ['v37724', 780], ['v68631', 840], ['v5488', 1020], ['v33102', 1080], ['v9885', 1320]], [['v9688', 420], ['v6013', 540], ['v16061', 660], ['v1038', 780], ['v37724', 840], ['v72336', 900], ['v7467', 1020], ['v9884', 1080], ['v10373', 1140], ['v73805', 1200], ['v9885', 1320]], [['v7598', 540], ['v18608', 660], ['v9884', 720], ['v10373', 900], ['v10509', 960], ['v73805', 1020], ['v36222', 1200], ['v9885', 1380]], [['v7598', 540]], [['v10373', 1020], ['v549', 1200], ['v9885', 1320]], [['v60129', 480], ['v6013', 540], ['v342', 660], ['v72336', 720], ['v68631', 840], ['v69205', 960], ['v48253', 1080], ['v9884', 1140], ['v9885', 1260]], [['v9688', 420], ['v6013', 480], ['v342', 600], ['v16061', 660], ['v37724', 840], ['v67615', 960], ['v5488', 1080], ['v33102', 1140], ['v17295', 1200], ['v9884', 1260], ['v9885', 1320]], [['v9688', 420], ['v6013', 480], ['v342', 600], ['v9106', 720], ['v37724', 840], ['v16061', 900], ['v72336', 960], ['v7467', 1080], ['v10373', 1200], ['v18477', 1260], ['v9885', 1320]], [['v9688', 420], ['v60129', 480], ['v342', 600], ['v128', 720], ['v37724', 780], ['v81', 1020], ['v9884', 1140], ['v10373', 1200], ['v9885', 1260]], [['v6013', 480], ['v342', 660], ['v73056', 840], ['v7598', 900], ['v9884', 960], ['v22696', 1140], ['v9885', 1260]], [['v7598', 540], ['v33102', 840], ['v18608', 960], ['v18477', 1200], ['v9884', 1260], ['v9885', 1380]], [['v22696', 540], ['v18477', 900], ['v10373', 1020], ['v9884', 1080], ['v73056', 1200], ['v9885', 1260]], [['v9688', 420], ['v6013', 480], ['v342', 660], ['v3455', 720], ['v37724', 780], ['v68631', 840], ['v10373', 1080], ['v18477', 1140], ['v9885', 1260]], [['v9688', 420], ['v6013', 480], ['v55', 540], ['v342', 660], ['v1648', 720], ['v37724', 900], ['v69205', 960], ['v9884', 1080], ['v10373', 1140], ['v18477', 1200], ['v9885', 1320]], [['v342', 660], ['v37724', 780], ['v68631', 960], ['v580', 1020], ['v9884', 1080], ['v73805', 1140], ['v9885', 1320]], [['v9688', 420], ['v6013', 480], ['v342', 600], ['v995', 720], ['v2901', 780], ['v1892', 840], ['v74832', 1020], ['v9884', 1080], ['v10373', 1260], ['v9885', 1320]], [['v10373', 480]], [['v580', 960], ['v47095', 1020], ['v5664', 1260], ['v11935', 1380], ['v9885', 240]], [['v18477', 960], ['v1743', 1080], ['v9885', 1260]], [['v73117', 420], ['v7598', 600], ['v36222', 720], ['v18477', 900], ['v10373', 960], ['v9884', 1080], ['v33102', 1140], ['v17492', 1200], ['v9885', 1320]], [['v9688', 420], ['v6013', 480], ['v342', 660], ['v72336', 960], ['v68631', 1020], ['v7467', 1080], ['v18477', 1200], ['v9885', 1260]], [['v60129', 480], ['v6013', 600], ['v342', 660], ['v544', 720], ['v24553', 780], ['v9884', 1140], ['v22696', 1200], ['v9885', 1320]], [['v60129', 480], ['v6013', 540], ['v81', 720], ['v342', 780], ['v37724', 840], ['v7467', 1080], ['v9884', 1140], ['v18477', 1200], ['v9885', 1320]], [['v9688', 420], ['v6013', 480], ['v342', 540], ['v68631', 600], ['v72336', 660], ['v1236', 780], ['v18608', 1020], ['v3197', 1080], ['v73047', 1140], ['v7587', 1260], ['v9885', 1320]], [['v7598', 480], ['v324', 660], ['v9884', 720], ['v74015', 780], ['v73056', 840], ['v16563', 960], ['v1842', 1080], ['v59516', 1200], ['v2173', 120], ['v9885', 180]], [['v9884', 660], ['v33102', 900], ['v10373', 1020], ['v999', 1140], ['v132', 1260], ['v80414', 1320], ['v9885', 0], ['v9688', 420], ['v6013', 480], ['v342', 720], ['v41', 780], ['v72336', 900], ['v68631', 960], ['v9884', 1080], ['v10373', 1140], ['v9885', 1260]], [['v9688', 420], ['v6013', 480], ['v342', 600], ['v82238', 660], ['v2496', 720], ['v37724', 780], ['v68631', 840], ['v67615', 960], ['v10373', 1140], ['v66545', 1260], ['v9885', 1320]], [['v9688', 420], ['v6013', 480], ['v71717', 900], ['v580', 1020], ['v475', 1080], ['v9884', 1140]], [['v9688', 420], ['v6013', 480], ['v3455', 780], ['v67615', 960], ['v1989', 1020], ['v41', 1200], ['v9885', 60], ['v9688', 420], ['v6013', 480], ['v37724', 840], ['v9884', 1080], ['v18608', 1140], ['v10373', 1200], ['v9885', 1260]], [['v53362', 600], ['v9884', 660], ['v36222', 720], ['v18470', 840], ['v67869', 1140], ['v2100', 1320], ['v1075', 0]], [['v10373', 540]], [['v54459', 1140], ['v1236', 1200], ['v9885', 1260]], [['v9688', 420], ['v6013', 480], ['v342', 600], ['v128', 720], ['v68631', 840], ['v72336', 900], ['v9884', 1140], ['v18477', 1200], ['v9885', 1260]], [['v9688', 420], ['v6013', 480], ['v342', 660], ['v81833', 720], ['v37724', 780], ['v1989', 960], ['v63', 1080], ['v7467', 1200], ['v9884', 1260], ['v18477', 1320], ['v9885', 1380]], [['v2927', 540], ['v10373', 600], ['v82822', 660], ['v2487', 720], ['v195', 780], ['v18477', 840], ['v85781', 900], ['v10224', 960], ['v43126', 1140], ['v9885', 1380]], [['v1120', 720], ['v9884', 960], ['v36222', 1080], ['v9885', 1200]], [['v7598', 540], ['v73056', 600], ['v46400', 720], ['v18477', 1020], ['v9885', 1320]], [['v1743', 600]], [['v9884', 1080], ['v10373', 1200], ['v66545', 1260], ['v9885', 1320]], [['v7598', 540], ['v10373', 900], ['v9884', 960], ['v18477', 1200], ['v9885', 1320]], [['v9688', 420], ['v6013', 480], ['v41', 780], ['v37724', 840], ['v342', 900], ['v9884', 1080], ['v18477', 1200], ['v73805', 1260], ['v9885', 1380]], [['v9688', 420], ['v6013', 480], ['v342', 600], ['v46400', 720], ['v37724', 780], ['v68631', 840], ['v69205', 900], ['v72336', 960], ['v580', 1020], ['v9884', 1080], ['v10373', 1140], ['v66545', 1260], ['v9885', 1320]], [['v9688', 420], ['v6013', 480], ['v342', 600], ['v68631', 840], ['v43531', 1020], ['v9884', 1080], ['v18608', 1140], ['v10373', 1260], ['v9885', 60], ['v9688', 420], ['v6013', 480], ['v342', 600], ['v41', 720], ['v24553', 780], ['v69205', 960], ['v42094', 1020], ['v9884', 1080], ['v18477', 1200]], [['v9688', 420], ['v60129', 480], ['v6013', 540], ['v342', 600], ['v68631', 660], ['v2496', 780], ['v37724', 840], ['v61652', 900], ['v580', 1020], ['v9885', 1320]], [['v7598', 540], ['v18477', 720], ['v3197', 840], ['v9885', 1260]], [['v21054', 480], ['v10373', 540], ['v18477', 960], ['v9884', 1020], ['v9885', 1200]], [['v9688', 420], ['v6013', 480], ['v342', 660], ['v128', 720], ['v37724', 780], ['v68631', 960], ['v9884', 1140], ['v10373', 1200], ['v9885', 1260]], [['v9688', 420], ['v6013', 480], ['v342', 660], ['v81833', 720], ['v37724', 780], ['v72336', 900], ['v53585', 1020], ['v5488', 1080], ['v9885', 1140], ['v18477', 1200], ['v9885', 1320]], [['v9688', 420], ['v6013', 480], ['v342', 660], ['v37724', 780], ['v32892', 900], ['v580', 1080], ['v10373', 1140]], [['v6013', 480], ['v342', 540], ['v81', 720], ['v68631', 780], ['v37724', 900], ['v55', 960], ['v84346', 1020], ['v10373', 1260], ['v9885', 1320]], [['v6013', 540], ['v342', 600], ['v37724', 660], ['v9885', 780], ['v9884', 960], ['v10373', 1080], ['v549', 1200]], [['v18477', 480], ['v18477', 600], ['v5574', 720], ['v73047', 900], ['v9885', 1200]], [['v73047', 480], ['v18477', 720], ['v59516', 960]], [['v9885', 0], ['v9688', 420], ['v6013', 480], ['v41', 720], ['v37724', 780], ['v16061', 900], ['v67615', 960]], [['v45783', 840]]]\n"
          ],
          "name": "stdout"
        }
      ]
    },
    {
      "cell_type": "code",
      "metadata": {
        "id": "xh95Fvpn9eE8",
        "colab_type": "code",
        "colab": {
          "base_uri": "https://localhost:8080/",
          "height": 90
        },
        "outputId": "0ebeb143-ebfc-44e7-887b-4c21ecc620d5"
      },
      "source": [
        "%time\n",
        "\n",
        "def _venue_only(data):\n",
        "  all_sequences = []\n",
        "  for sequence in data:\n",
        "    events = []\n",
        "    for event in sequence:      \n",
        "      events.append(event[0])\n",
        "    all_sequences.append(events)\n",
        "  return all_sequences\n",
        "\n",
        "v_events = _venue_only(events)\n",
        "print(v_events)\n"
      ],
      "execution_count": 21,
      "outputs": [
        {
          "output_type": "stream",
          "text": [
            "CPU times: user 3 µs, sys: 0 ns, total: 3 µs\n",
            "Wall time: 7.63 µs\n",
            "[['v73805', 'v9884', 'v3906', 'v10373', 'v9884'], ['v9885', 'v10373', 'v9885', 'v2927'], ['v6013', 'v67648', 'v37724', 'v13235', 'v85343', 'v9884', 'v55736', 'v18477', 'v9885'], ['v6013', 'v342', 'v69205', 'v128', 'v52425', 'v17926', 'v67615', 'v19062', 'v9884', 'v18477', 'v9885'], ['v6013', 'v9820', 'v19062', 'v67615', 'v37724', 'v16610', 'v5488', 'v73805', 'v10373', 'v9885'], ['v6013', 'v342', 'v69205', 'v81833', 'v37724', 'v67615', 'v72562', 'v580', 'v9884', 'v9885'], ['v7598', 'v36222', 'v9884', 'v272', 'v10373', 'v9885'], ['v10373', 'v9884', 'v10373'], ['v18477', 'v73805', 'v36222', 'v9884', 'v9885'], ['v55736', 'v6013', 'v81833', 'v37724', 'v67615', 'v72336', 'v68631', 'v7467', 'v36222', 'v73805', 'v9885'], ['v9688', 'v6013', 'v81833', 'v37724', 'v72336', 'v68631', 'v74832', 'v9884', 'v73805', 'v18477', 'v9885'], ['v9688', 'v6013', 'v342', 'v68631', 'v81833', 'v72336', 'v16061', 'v9885', 'v9885'], ['v9688', 'v6013', 'v342', 'v81833', 'v69205', 'v72562', 'v580', 'v9884', 'v36222', 'v9885'], ['v55736', 'v6013', 'v342', 'v9106', 'v37724', 'v67615', 'v72562', 'v5488', 'v73805', 'v36222', 'v9885'], ['v10373', 'v18477', 'v36222', 'v9884', 'v74015', 'v36075', 'v9885'], ['v18477', 'v9884', 'v10373', 'v9885'], ['v6013', 'v342', 'v81833', 'v37724', 'v67615', 'v27571', 'v9884', 'v36222', 'v9885'], ['v55736', 'v6013', 'v342', 'v83549', 'v81833', 'v72336', 'v580', 'v9884', 'v73805', 'v9885'], ['v342', 'v81833', 'v37724', 'v68631', 'v16061', 'v9884', 'v10373', 'v9885'], ['v73117', 'v6013', 'v342', 'v52425', 'v67615', 'v72562', 'v5488', 'v18470', 'v73805', 'v9885'], ['v9688', 'v10937', 'v6013', 'v342', 'v41', 'v37724', 'v68631', 'v9884', 'v10373', 'v18477', 'v9885'], ['v7598', 'v18477', 'v18470', 'v36222', 'v9884', 'v25103', 'v9885'], ['v73805'], ['v18477', 'v73805', 'v10373', 'v36222', 'v9885'], ['v74378', 'v36222', 'v10373', 'v73117', 'v18477', 'v9884', 'v9885'], ['v9688', 'v6013', 'v342', 'v85343', 'v57806', 'v68631', 'v68287', 'v9884', 'v10373', 'v18477', 'v9885'], ['v342', 'v85523', 'v37724', 'v68631', 'v31855', 'v42094', 'v36222', 'v10373', 'v9885'], ['v10937', 'v6013', 'v342', 'v68631', 'v72336', 'v37724', 'v52425', 'v42094', 'v9884', 'v36222', 'v73805', 'v9885'], ['v18477', 'v9884', 'v10373', 'v73805', 'v9885'], ['v36222', 'v9884', 'v18477', 'v73805', 'v9885'], ['v9688', 'v6013', 'v31855', 'v19062', 'v37724', 'v68631', 'v9884', 'v10373', 'v9885'], ['v9688', 'v6013', 'v81833', 'v37724', 'v72336', 'v580', 'v9884', 'v10373', 'v18477', 'v73805', 'v9885'], ['v55736', 'v6013', 'v342', 'v16061', 'v9106', 'v37724', 'v67615', 'v72336', 'v580', 'v10373', 'v73805', 'v36222', 'v9885'], ['v9688', 'v6013', 'v342', 'v81833', 'v37724', 'v72336', 'v67615', 'v580', 'v9884', 'v10373', 'v73805', 'v9885'], ['v9688', 'v10937', 'v6013', 'v57806', 'v342', 'v4134', 'v83549', 'v84331', 'v9884', 'v10373', 'v9885'], ['v7598', 'v77608', 'v73805', 'v36222', 'v9884', 'v10373', 'v9885'], ['v10373', 'v18477', 'v36222', 'v2235', 'v1800', 'v73805', 'v9885'], ['v55736', 'v6013', 'v342', 'v16061', 'v37724', 'v68631', 'v72336', 'v9884', 'v10373', 'v18477', 'v9885'], ['v9688', 'v6013', 'v342', 'v81833', 'v37724', 'v67615', 'v72336', 'v580', 'v9884', 'v18477', 'v73805', 'v9885'], ['v55736', 'v6013', 'v342', 'v9106', 'v37724', 'v68631', 'v69205', 'v9885', 'v18477', 'v36222', 'v9885'], ['v73117', 'v6013', 'v342', 'v31855', 'v16061', 'v5488', 'v10373', 'v9885'], ['v9688', 'v6013', 'v1038', 'v37724', 'v67615', 'v1989', 'v45158', 'v9884', 'v18477', 'v9885'], ['v33102', 'v9884', 'v10373', 'v18477', 'v9885'], ['v9884'], ['v9885'], ['v9688', 'v6013', 'v37724', 'v69205', 'v68631', 'v72336', 'v45158', 'v9884', 'v10373', 'v18477', 'v9885'], ['v9688', 'v6013', 'v57806', 'v342', 'v9820', 'v37724', 'v68631', 'v4647', 'v10373', 'v9885'], ['v4647', 'v68287', 'v9884', 'v10373', 'v18477', 'v73805', 'v9885'], ['v6013', 'v342', 'v37724', 'v68631', 'v72336', 'v580', 'v5488', 'v18477', 'v9885'], ['v9688', 'v6013', 'v342', 'v37724', 'v68631', 'v16061', 'v72336', 'v1989', 'v18477', 'v9885'], ['v10373', 'v18477', 'v58116', 'v36222', 'v73805', 'v9885'], ['v7598', 'v36222', 'v9884', 'v18470', 'v73805', 'v18477', 'v9885'], ['v73117', 'v6013', 'v342', 'v81833', 'v37724', 'v68631', 'v67615', 'v4647', 'v10373', 'v18477', 'v73805', 'v9885'], ['v9688', 'v6013', 'v342', 'v81', 'v455', 'v68631', 'v72336', 'v16061', 'v9884', 'v73805', 'v10373', 'v9885'], ['v18477', 'v25361', 'v33102', 'v73805', 'v9885'], ['v10937', 'v57806', 'v6013', 'v9106', 'v68631', 'v342', 'v42094', 'v9884', 'v10373', 'v18477', 'v9885'], ['v73117', 'v84331', 'v6013', 'v342', 'v81', 'v52425', 'v72336', 'v68631', 'v9884', 'v18477', 'v9885'], ['v77608', 'v8286', 'v4972', 'v9885'], ['v10373', 'v36222', 'v10373', 'v18477', 'v73805', 'v9885'], ['v6013', 'v342', 'v16061', 'v68631', 'v37724', 'v67615', 'v4647', 'v9884', 'v18477', 'v73805', 'v9885'], ['v9688', 'v6013', 'v57806', 'v81833', 'v13235', 'v45158', 'v580', 'v9884', 'v10373', 'v18477', 'v73805', 'v9885'], ['v6013', 'v81833', 'v19062', 'v37724', 'v68631', 'v67615', 'v69205', 'v33102', 'v73056', 'v10373', 'v9885'], ['v6013', 'v342', 'v68631', 'v37724', 'v580', 'v73805', 'v18477', 'v9885'], ['v9688', 'v6013', 'v81', 'v37724', 'v68631', 'v16061', 'v580', 'v9885', 'v9884', 'v10373', 'v73805'], ['v10373', 'v33102', 'v9884', 'v18477', 'v9885'], ['v7598', 'v10373', 'v73805', 'v9884', 'v18477', 'v9885'], ['v73117', 'v6013', 'v342', 'v37724', 'v68631', 'v16061', 'v45158', 'v9884', 'v10373', 'v18477', 'v73805', 'v9885'], ['v9688', 'v6013', 'v81833', 'v37724', 'v68631', 'v16061', 'v580', 'v9884', 'v10373', 'v36222', 'v9885'], ['v9688', 'v6013', 'v342', 'v68631', 'v37724', 'v5488', 'v10373', 'v36222', 'v18477', 'v9885'], ['v9688', 'v6013', 'v57806', 'v37724', 'v68631', 'v16061', 'v52425', 'v580', 'v8286', 'v22696', 'v18477', 'v9885', 'v73117', 'v6013', 'v342', 'v52425', 'v72336', 'v69205', 'v580', 'v9884', 'v18477', 'v9885'], ['v7598', 'v761', 'v36222', 'v10373', 'v73805', 'v9885'], ['v7598', 'v18477', 'v10373', 'v25361', 'v73805', 'v10373', 'v9885'], ['v18608', 'v73117', 'v36222', 'v3862', 'v73805', 'v18477', 'v10373', 'v9885'], ['v9688', 'v6013', 'v342', 'v544', 'v37724', 'v68631', 'v72336', 'v69205', 'v45158', 'v9884', 'v10373', 'v18477', 'v73805', 'v9885'], ['v342', 'v16061', 'v68631', 'v10509', 'v18608', 'v73805', 'v18477', 'v9885'], ['v74015', 'v73805', 'v8286', 'v10373', 'v9884', 'v7733', 'v9885'], ['v9688', 'v6013', 'v342', 'v81', 'v2901', 'v37724', 'v16061', 'v9884', 'v18477', 'v73805', 'v9885'], ['v7598', 'v9884', 'v1181', 'v2514', 'v10373', 'v10373', 'v9885'], ['v9884', 'v73805', 'v18477', 'v9885'], ['v9688', 'v6013', 'v342', 'v37724', 'v52425', 'v67615', 'v23178', 'v73805', 'v18477', 'v10373', 'v9885'], ['v6013', 'v342', 'v68631', 'v4647', 'v9884', 'v73805', 'v18477', 'v9885'], ['v55736', 'v6013', 'v342', 'v52425', 'v37724', 'v67615', 'v72336', 'v5488', 'v9884', 'v18477', 'v73805', 'v9885'], ['v73117', 'v74015', 'v8286', 'v10373', 'v73805', 'v9885'], ['v6013', 'v342', 'v739', 'v37724', 'v68631', 'v7467', 'v9884', 'v73056', 'v9885'], ['v73805'], ['v9884', 'v10373', 'v18477', 'v9885'], ['v57437', 'v14537', 'v22801', 'v18608', 'v10373', 'v9884', 'v73805', 'v18477', 'v9885'], ['v9688', 'v6013', 'v342', 'v16061', 'v37724', 'v68631', 'v69205', 'v73782', 'v9884', 'v73805', 'v18477', 'v9885'], ['v6013', 'v55', 'v342', 'v37724', 'v68631', 'v72336', 'v52425', 'v17295', 'v9885'], ['v9688', 'v6013', 'v342', 'v37724', 'v52425', 'v580', 'v10373', 'v9885'], ['v6013', 'v342', 'v37724', 'v68631', 'v52425', 'v580', 'v33102', 'v17295', 'v9885'], ['v9688', 'v6013', 'v342', 'v37724', 'v10937', 'v9884', 'v73056', 'v18477', 'v9885'], ['v63824', 'v9884', 'v18477', 'v10373', 'v9885'], ['v9885'], ['v73805', 'v9885'], ['v73056', 'v9884'], ['v9885'], ['v9688', 'v6013', 'v342', 'v68631', 'v72336', 'v7467', 'v9884', 'v73056', 'v18477', 'v9885'], ['v73117', 'v10373', 'v36222', 'v73805', 'v9884', 'v9885'], ['v9688', 'v6013', 'v342', 'v37724', 'v68631', 'v5488', 'v33102', 'v9885'], ['v9688', 'v6013', 'v16061', 'v1038', 'v37724', 'v72336', 'v7467', 'v9884', 'v10373', 'v73805', 'v9885'], ['v7598', 'v18608', 'v9884', 'v10373', 'v10509', 'v73805', 'v36222', 'v9885'], ['v7598'], ['v10373', 'v549', 'v9885'], ['v60129', 'v6013', 'v342', 'v72336', 'v68631', 'v69205', 'v48253', 'v9884', 'v9885'], ['v9688', 'v6013', 'v342', 'v16061', 'v37724', 'v67615', 'v5488', 'v33102', 'v17295', 'v9884', 'v9885'], ['v9688', 'v6013', 'v342', 'v9106', 'v37724', 'v16061', 'v72336', 'v7467', 'v10373', 'v18477', 'v9885'], ['v9688', 'v60129', 'v342', 'v128', 'v37724', 'v81', 'v9884', 'v10373', 'v9885'], ['v6013', 'v342', 'v73056', 'v7598', 'v9884', 'v22696', 'v9885'], ['v7598', 'v33102', 'v18608', 'v18477', 'v9884', 'v9885'], ['v22696', 'v18477', 'v10373', 'v9884', 'v73056', 'v9885'], ['v9688', 'v6013', 'v342', 'v3455', 'v37724', 'v68631', 'v10373', 'v18477', 'v9885'], ['v9688', 'v6013', 'v55', 'v342', 'v1648', 'v37724', 'v69205', 'v9884', 'v10373', 'v18477', 'v9885'], ['v342', 'v37724', 'v68631', 'v580', 'v9884', 'v73805', 'v9885'], ['v9688', 'v6013', 'v342', 'v995', 'v2901', 'v1892', 'v74832', 'v9884', 'v10373', 'v9885'], ['v10373'], ['v580', 'v47095', 'v5664', 'v11935', 'v9885'], ['v18477', 'v1743', 'v9885'], ['v73117', 'v7598', 'v36222', 'v18477', 'v10373', 'v9884', 'v33102', 'v17492', 'v9885'], ['v9688', 'v6013', 'v342', 'v72336', 'v68631', 'v7467', 'v18477', 'v9885'], ['v60129', 'v6013', 'v342', 'v544', 'v24553', 'v9884', 'v22696', 'v9885'], ['v60129', 'v6013', 'v81', 'v342', 'v37724', 'v7467', 'v9884', 'v18477', 'v9885'], ['v9688', 'v6013', 'v342', 'v68631', 'v72336', 'v1236', 'v18608', 'v3197', 'v73047', 'v7587', 'v9885'], ['v7598', 'v324', 'v9884', 'v74015', 'v73056', 'v16563', 'v1842', 'v59516', 'v2173', 'v9885'], ['v9884', 'v33102', 'v10373', 'v999', 'v132', 'v80414', 'v9885', 'v9688', 'v6013', 'v342', 'v41', 'v72336', 'v68631', 'v9884', 'v10373', 'v9885'], ['v9688', 'v6013', 'v342', 'v82238', 'v2496', 'v37724', 'v68631', 'v67615', 'v10373', 'v66545', 'v9885'], ['v9688', 'v6013', 'v71717', 'v580', 'v475', 'v9884'], ['v9688', 'v6013', 'v3455', 'v67615', 'v1989', 'v41', 'v9885', 'v9688', 'v6013', 'v37724', 'v9884', 'v18608', 'v10373', 'v9885'], ['v53362', 'v9884', 'v36222', 'v18470', 'v67869', 'v2100', 'v1075'], ['v10373'], ['v54459', 'v1236', 'v9885'], ['v9688', 'v6013', 'v342', 'v128', 'v68631', 'v72336', 'v9884', 'v18477', 'v9885'], ['v9688', 'v6013', 'v342', 'v81833', 'v37724', 'v1989', 'v63', 'v7467', 'v9884', 'v18477', 'v9885'], ['v2927', 'v10373', 'v82822', 'v2487', 'v195', 'v18477', 'v85781', 'v10224', 'v43126', 'v9885'], ['v1120', 'v9884', 'v36222', 'v9885'], ['v7598', 'v73056', 'v46400', 'v18477', 'v9885'], ['v1743'], ['v9884', 'v10373', 'v66545', 'v9885'], ['v7598', 'v10373', 'v9884', 'v18477', 'v9885'], ['v9688', 'v6013', 'v41', 'v37724', 'v342', 'v9884', 'v18477', 'v73805', 'v9885'], ['v9688', 'v6013', 'v342', 'v46400', 'v37724', 'v68631', 'v69205', 'v72336', 'v580', 'v9884', 'v10373', 'v66545', 'v9885'], ['v9688', 'v6013', 'v342', 'v68631', 'v43531', 'v9884', 'v18608', 'v10373', 'v9885', 'v9688', 'v6013', 'v342', 'v41', 'v24553', 'v69205', 'v42094', 'v9884', 'v18477'], ['v9688', 'v60129', 'v6013', 'v342', 'v68631', 'v2496', 'v37724', 'v61652', 'v580', 'v9885'], ['v7598', 'v18477', 'v3197', 'v9885'], ['v21054', 'v10373', 'v18477', 'v9884', 'v9885'], ['v9688', 'v6013', 'v342', 'v128', 'v37724', 'v68631', 'v9884', 'v10373', 'v9885'], ['v9688', 'v6013', 'v342', 'v81833', 'v37724', 'v72336', 'v53585', 'v5488', 'v9885', 'v18477', 'v9885'], ['v9688', 'v6013', 'v342', 'v37724', 'v32892', 'v580', 'v10373'], ['v6013', 'v342', 'v81', 'v68631', 'v37724', 'v55', 'v84346', 'v10373', 'v9885'], ['v6013', 'v342', 'v37724', 'v9885', 'v9884', 'v10373', 'v549'], ['v18477', 'v18477', 'v5574', 'v73047', 'v9885'], ['v73047', 'v18477', 'v59516'], ['v9885', 'v9688', 'v6013', 'v41', 'v37724', 'v16061', 'v67615'], ['v45783']]\n"
          ],
          "name": "stdout"
        }
      ]
    },
    {
      "cell_type": "markdown",
      "metadata": {
        "id": "MmF8wTtylB47",
        "colab_type": "text"
      },
      "source": [
        "1. **Split the data:** \n",
        "\n",
        "---\n",
        "Before, encoding, split the data to train, validation and test set and then perform the encoding and padding. We do this to maintain integrity and structure of the data.\n",
        "\n",
        "Since we have inputs of the different length, we will have to pad each input with zeros , so that all inputs are of the same length in a mini-batch\n",
        "\n",
        "60, 20, 20 split (train, validation and test)"
      ]
    },
    {
      "cell_type": "code",
      "metadata": {
        "id": "JHPoIaUzLhaR",
        "colab_type": "code",
        "colab": {
          "base_uri": "https://localhost:8080/",
          "height": 88
        },
        "outputId": "b072efca-8436-4afc-8c0e-896de24f0634"
      },
      "source": [
        "n = len(v_events)  \n",
        "\n",
        "n_test = int( n * .2 ) \n",
        "n_val = int( n * .2 ) \n",
        "n_train = n - (n_test+n_val)\n",
        "\n",
        "print(f\"Dataset set terms: {n}\")\n",
        "print(f\"Train set terms: {n_train}\") \n",
        "print(f\"Test set terms: {n_test}\")\n",
        "print( f\"Validation set terms: {n_val}\")\n",
        "\n",
        "train_set, val_set, test_set = data.random_split(v_events, (n_train, n_val, n_test))\n",
        "\n",
        "#the train, val and the test indices has to be whole numbers adding upto to the n"
      ],
      "execution_count": 22,
      "outputs": [
        {
          "output_type": "stream",
          "text": [
            "Dataset set terms: 154\n",
            "Train set terms: 94\n",
            "Test set terms: 30\n",
            "Validation set terms: 30\n"
          ],
          "name": "stdout"
        }
      ]
    },
    {
      "cell_type": "markdown",
      "metadata": {
        "id": "LGKjRWeWlvzs",
        "colab_type": "text"
      },
      "source": [
        "2. **Get Max length of each set.**\n",
        "\n",
        "---\n",
        "we need this info for padding."
      ]
    },
    {
      "cell_type": "code",
      "metadata": {
        "id": "qwVuB5LgeQAv",
        "colab_type": "code",
        "colab": {
          "base_uri": "https://localhost:8080/",
          "height": 70
        },
        "outputId": "00018f84-3e08-4bfb-9b51-b2393b68550b"
      },
      "source": [
        "#find max length of sequence for each set\n",
        "\n",
        "def _get_maxlength_seq(data):\n",
        "  t = []\n",
        "  for i in data:\n",
        "    t.append([i,len(i)])\n",
        "  temp_df = pd.DataFrame(t)\n",
        "  temp_df.sort_values(by=1, ascending=False,inplace=True)\n",
        "  return np.max(temp_df[1])\n",
        "\n",
        "max_length_train= _get_maxlength_seq(train_set)\n",
        "max_length_val= _get_maxlength_seq(val_set)\n",
        "max_length_test= _get_maxlength_seq(test_set)\n",
        "\n",
        "print(f\"max_length_train: {max_length_train}\")\n",
        "print(f\"max_length_val: {max_length_val}\")\n",
        "print(f\"max_length_test: {max_length_test}\")"
      ],
      "execution_count": 23,
      "outputs": [
        {
          "output_type": "stream",
          "text": [
            "max_length_train: 14\n",
            "max_length_val: 18\n",
            "max_length_test: 22\n"
          ],
          "name": "stdout"
        }
      ]
    },
    {
      "cell_type": "markdown",
      "metadata": {
        "id": "wpfeL-uE8_KX",
        "colab_type": "text"
      },
      "source": [
        "3. **Padding all the inputs to have same size**\n",
        "---\n",
        "pad empty string for each sequence"
      ]
    },
    {
      "cell_type": "code",
      "metadata": {
        "id": "DIDFQonb85hI",
        "colab_type": "code",
        "colab": {
          "base_uri": "https://localhost:8080/",
          "height": 35
        },
        "outputId": "30bb7a2a-60dd-4347-bd37-b1aff17b9c3d"
      },
      "source": [
        "def _padding(data, maxlength):\n",
        "  changed_data = []\n",
        "  for sequence in data:\n",
        "    c_sequence = sequence.copy()\n",
        "    if (len(c_sequence) <= maxlength and len(c_sequence) >= 2):\n",
        "      zero_length = len(c_sequence[0])\n",
        "      for i in range(maxlength-len(sequence)):\n",
        "        c_sequence.insert(0,[0*i for i in range(zero_length)])\n",
        "\n",
        "      changed_data.append(c_sequence)\n",
        "    else:\n",
        "      pass\n",
        "    \n",
        "  return np.array(changed_data)\n",
        "\n",
        "'''\n",
        "p_train_set = _padding(train_set, max_length_train)\n",
        "p_val_set = _padding(val_set, max_length_val)\n",
        "p_test_set = _padding(test_set, max_length_test)\n",
        "'''"
      ],
      "execution_count": 24,
      "outputs": [
        {
          "output_type": "execute_result",
          "data": {
            "text/plain": [
              "'\\np_train_set = _padding(train_set, max_length_train)\\np_val_set = _padding(val_set, max_length_val)\\np_test_set = _padding(test_set, max_length_test)\\n'"
            ]
          },
          "metadata": {
            "tags": []
          },
          "execution_count": 24
        }
      ]
    },
    {
      "cell_type": "markdown",
      "metadata": {
        "id": "MsiIJ97zbXIC",
        "colab_type": "text"
      },
      "source": [
        "4. **One hot ecoding** of the the venues.\n",
        "\n",
        "----\n"
      ]
    },
    {
      "cell_type": "code",
      "metadata": {
        "id": "x8-T1nChONp_",
        "colab_type": "code",
        "colab": {}
      },
      "source": [
        "\n",
        "class one_hot_char_coding(object):\n",
        "  def __init__(self):\n",
        "    self.word2idx = {}\n",
        "    self.idx2word = []\n",
        "    self.length = 0\n",
        "\n",
        "  def add_word(self, word):\n",
        "    if word not in self.idx2word:\n",
        "      self.idx2word.append(word)\n",
        "      self.word2idx[word] = self.length + 1\n",
        "      self.length += 1\n",
        "    return self.word2idx[word]\n",
        "\n",
        "  def __len__(self):\n",
        "    return len(self.idx2word)\n",
        "\n",
        "  def onehot_encoded(self, word):\n",
        "    vec = [i*0 for i in range(self.length)]\n",
        "    vec[self.word2idx[word]-1] = 1\n",
        "    return vec\n"
      ],
      "execution_count": 25,
      "outputs": []
    },
    {
      "cell_type": "code",
      "metadata": {
        "id": "Q9SAVfWaOPM5",
        "colab_type": "code",
        "colab": {
          "base_uri": "https://localhost:8080/",
          "height": 55
        },
        "outputId": "b47b4041-b6a9-4dc8-fa39-e15700ac4cf5"
      },
      "source": [
        "#%time\n",
        "#get codes for all the words \n",
        "\n",
        "coded_obj = one_hot_char_coding()\n",
        "\n",
        "for word in Checkin_u1205_nodup.VenueID.values:\n",
        "    coded_obj.add_word(word)\n",
        "\n",
        "#print(coded_obj.word2idx)\n",
        "#'v73805': 1, 'v9884': 2, 'v3906': 3, 'v10373\n",
        "#print(len(coded_obj.onehot_encoded(\"v3906\")))\n",
        "\n",
        "#here we have 139 unique values, so the one hot encoded vector is 139 length long\n",
        "\n",
        "'''def _one_hot_code(data):\n",
        "  all_seq = []\n",
        "  for sequence in data:    \n",
        "    eve = []\n",
        "    if(len(sequence)>1):\n",
        "      for index, event in enumerate(sequence):\n",
        "        eve.append(coded_obj.onehot_encoded(event))\n",
        "      all_seq.append(eve)\n",
        "  return all_seq\n",
        "\n",
        "'''\n",
        "#test3 = _one_hot_code(train_set)\n",
        "#test3 = _padding(test3,9)\n",
        "#test3\n",
        "#temp2 = torch.from_numpy(test3)\n"
      ],
      "execution_count": 26,
      "outputs": [
        {
          "output_type": "execute_result",
          "data": {
            "text/plain": [
              "'def _one_hot_code(data):\\n  all_seq = []\\n  for sequence in data:    \\n    eve = []\\n    if(len(sequence)>1):\\n      for index, event in enumerate(sequence):\\n        eve.append(coded_obj.onehot_encoded(event))\\n      all_seq.append(eve)\\n  return all_seq\\n\\n'"
            ]
          },
          "metadata": {
            "tags": []
          },
          "execution_count": 26
        }
      ]
    },
    {
      "cell_type": "code",
      "metadata": {
        "id": "nhtMDtpqMVOm",
        "colab_type": "code",
        "colab": {}
      },
      "source": [
        "def _one_hot_code_target(data):\n",
        "  all_seq = []\n",
        "  for event in data:    \n",
        "    all_seq.append(coded_obj.onehot_encoded(event))\n",
        "  return np.array(all_seq)"
      ],
      "execution_count": 27,
      "outputs": []
    },
    {
      "cell_type": "markdown",
      "metadata": {
        "id": "sDrBqglln8cH",
        "colab_type": "text"
      },
      "source": [
        "4. **Tensor implementation of one hot encoding**\n",
        "----"
      ]
    },
    {
      "cell_type": "code",
      "metadata": {
        "id": "cWWym6paoCgx",
        "colab_type": "code",
        "colab": {}
      },
      "source": [
        "import torch\n",
        "\n",
        "all_venues = {}\n",
        "n_venues = len(Checkin_u1205_nodup.VenueID.unique())\n",
        "all_venues_list = Checkin_u1205_nodup.VenueID.unique()\n",
        "\n",
        "#create a overall index for all the venues\n",
        "def _all_venue_index():\n",
        "  count = 1\n",
        "  for venue in Checkin_u1205_nodup.VenueID.unique():\n",
        "    all_venues[venue] = count\n",
        "    count+=1\n",
        "  return all_venues\n",
        "\n",
        "_all_venue_index()\n",
        "\n",
        "def venueToIndex(venue):\n",
        "    return all_venues.get(venue)\n",
        "\n",
        "# Just for demonstration, turn a letter into a <1 x n_letters> Tensor\n",
        "def venueToTensor(venue):\n",
        "    tensor = torch.zeros(1, n_venues)\n",
        "    tensor[0][venueToIndex(venue)] = 1\n",
        "    return tensor\n",
        "\n",
        "def venuesToTensor(venues):\n",
        "    tensor = torch.zeros(len(venues), 1, n_venues)\n",
        "    for index, venue in enumerate(venues):\n",
        "        tensor[index][0][venueToIndex(venue)] = 1\n",
        "    return tensor\n",
        "\n",
        "def venuesequenceToTensor(venues, max_length):\n",
        "    tensor = torch.zeros(max_length, len(venues), n_venues)\n",
        "    for i, sequence in enumerate(venues):\n",
        "      for j, venue in enumerate(sequence) :\n",
        "        tensor[j][i][venueToIndex(venue)] = 1\n",
        "    return tensor\n",
        "\n",
        "#print(venuesToTensor(targets).size())\n",
        "#print(venuesequenceToTensor(features, max_length_train-1).size())\n"
      ],
      "execution_count": 28,
      "outputs": []
    },
    {
      "cell_type": "code",
      "metadata": {
        "id": "dcdRb49nZyix",
        "colab_type": "code",
        "colab": {}
      },
      "source": [
        "#max_length_train\n",
        "#X_train_features_categorical\n",
        "#X_train_features_categorical"
      ],
      "execution_count": 29,
      "outputs": []
    },
    {
      "cell_type": "markdown",
      "metadata": {
        "id": "rOld9ao6mjOL",
        "colab_type": "text"
      },
      "source": [
        "5. **Encoding time:**\n",
        "---\n",
        "Time is cyclical feature so it will be encoded as Time Column = Sin(Time) + Cosine(Time). This will maintain the cyclic nature of the data.\n",
        "\n",
        "sequence with less than 2 will be descarded as they cannot be used to predict\n",
        "\n",
        "`note: this part is currently not in use`\n",
        "\n",
        "Including time with location for modeling will be included later"
      ]
    },
    {
      "cell_type": "code",
      "metadata": {
        "id": "FZ_nlVVBr7jX",
        "colab_type": "code",
        "colab": {
          "base_uri": "https://localhost:8080/",
          "height": 52
        },
        "outputId": "ecb3efd0-1193-4d72-d798-95a6c16beaa2"
      },
      "source": [
        "%time\n",
        "\n",
        "def _assign_code(data):\n",
        "  temp_row=[]\n",
        "  for row in data:    \n",
        "    temp_event = []\n",
        "    for event in row:   \n",
        "      venue_id = coded_obj.onehot_encoded(event[0])\n",
        "      time_sine = np.sin(2 * np.pi * event[1]/23.0)\n",
        "      time_cos = np.cos(2 * np.pi * event[1]/23.0)\n",
        "      temp_event.append([venue_id, time_sine, time_cos])\n",
        "    if(len(temp_event) >= 2):\n",
        "      temp_row.append(temp_event)\n",
        "  return temp_row\n",
        " \n",
        "#train_set_e = _assign_code(train_set)\n",
        "#print(f\"Number of inputs less than 2 is: {len(train_set) - len(train_set_e)}\") \n"
      ],
      "execution_count": 30,
      "outputs": [
        {
          "output_type": "stream",
          "text": [
            "CPU times: user 2 µs, sys: 0 ns, total: 2 µs\n",
            "Wall time: 5.25 µs\n"
          ],
          "name": "stdout"
        }
      ]
    },
    {
      "cell_type": "markdown",
      "metadata": {
        "id": "0Memj7VEnC6V",
        "colab_type": "text"
      },
      "source": [
        "6. **Features and Labels**\n",
        "\n",
        "---\n",
        "Last event will be the target, so split the data "
      ]
    },
    {
      "cell_type": "code",
      "metadata": {
        "id": "tE0U1Hw6M8VV",
        "colab_type": "code",
        "colab": {}
      },
      "source": [
        "def _separate_x_y(data):\n",
        "  x = data[:-1]\n",
        "  y = data[-1]\n",
        "  return [x,y]"
      ],
      "execution_count": 31,
      "outputs": []
    },
    {
      "cell_type": "code",
      "metadata": {
        "id": "HMOAaduqAIY2",
        "colab_type": "code",
        "colab": {}
      },
      "source": [
        "def _feature_label(data):\n",
        "  X_data, Y_data = [], []\n",
        "  for row in data:\n",
        "    if(len(row) >= 2):\n",
        "      temp = _separate_x_y(row)\n",
        "      x,y = temp[0], temp[1]\n",
        "      X_data.append(x)\n",
        "      Y_data.append(y)\n",
        "  return [X_data, Y_data]"
      ],
      "execution_count": 32,
      "outputs": []
    },
    {
      "cell_type": "code",
      "metadata": {
        "id": "nyh02zMcUkI9",
        "colab_type": "code",
        "colab": {}
      },
      "source": [
        "#no splitting for Keras Model\n",
        "def _feature_label2(data):\n",
        "  X_data = []\n",
        "  for row in data:\n",
        "    if(len(row) >= 2):\n",
        "      X_data.append(row)      \n",
        "  return X_data"
      ],
      "execution_count": 33,
      "outputs": []
    },
    {
      "cell_type": "code",
      "metadata": {
        "id": "JFul_m9edNbm",
        "colab_type": "code",
        "colab": {
          "base_uri": "https://localhost:8080/",
          "height": 35
        },
        "outputId": "06a6c932-9d41-4728-98a8-1528847980fc"
      },
      "source": [
        "#temp = _feature_label(train_set)\n",
        "#X_train, Y_train = temp[0], temp[1]\n",
        "\n",
        "'''\n",
        "X_train_m = _one_hot_code(X_train)\n",
        "X_train_m = _padding(X_train_m, max_length_train-1) #minus one due to label\n",
        "X_train_m = torch.from_numpy(X_train_m)\n",
        "X_train_m = X_train_m.float()'''\n",
        "\n",
        "#cross entropy loss expects indices of the labels and not the one hot encodings\n",
        "'''\n",
        "Y_train_m = [coded_obj.word2idx[venue] for venue in Y_train]\n",
        "Y_train_m = torch.Tensor(Y_train_m)\n",
        "'''\n",
        "\n",
        "'''\n",
        "Y_train_m = _one_hot_code_target(Y_train) #no padding required for target\n",
        "Y_train_m = torch.from_numpy(Y_train_m)'''\n"
      ],
      "execution_count": 34,
      "outputs": [
        {
          "output_type": "execute_result",
          "data": {
            "text/plain": [
              "'\\nY_train_m = _one_hot_code_target(Y_train) #no padding required for target\\nY_train_m = torch.from_numpy(Y_train_m)'"
            ]
          },
          "metadata": {
            "tags": []
          },
          "execution_count": 34
        }
      ]
    },
    {
      "cell_type": "markdown",
      "metadata": {
        "id": "wAs7bXaKOgjn",
        "colab_type": "text"
      },
      "source": [
        "6. **Features and labels**\n",
        "\n",
        "---\n",
        "The input for model has to be Pytorch tensor for a pytorch model"
      ]
    },
    {
      "cell_type": "code",
      "metadata": {
        "id": "WQK0HuNpOeSt",
        "colab_type": "code",
        "colab": {}
      },
      "source": [
        "#train_sequences = _feature_label2(train_set)\n",
        "#train_sequences_x_y = _generate_subsequence(train_sequences)"
      ],
      "execution_count": 35,
      "outputs": []
    },
    {
      "cell_type": "code",
      "metadata": {
        "id": "LuSOK-ThO1wY",
        "colab_type": "code",
        "colab": {}
      },
      "source": [
        "#train_sequences_x_y"
      ],
      "execution_count": 36,
      "outputs": []
    },
    {
      "cell_type": "code",
      "metadata": {
        "id": "UFyuMR5GO-W3",
        "colab_type": "code",
        "colab": {}
      },
      "source": [
        "def _ksplit_x_y(data):\n",
        "  features, targets = [], []\n",
        "  for sequence in data:\n",
        "    tempf = []\n",
        "    tempt = []\n",
        "    for event in sequence:\n",
        "      tempf.append(event[0])\n",
        "      tempt.append(event[1])\n",
        "    features.append(tempf)\n",
        "    targets.append(tempt)\n",
        "  return [features, targets]"
      ],
      "execution_count": 37,
      "outputs": []
    },
    {
      "cell_type": "code",
      "metadata": {
        "id": "079Zdp2iPJPS",
        "colab_type": "code",
        "colab": {}
      },
      "source": [
        "# given a sequence, mark the last one as target and the first few as features \n",
        "\n",
        "def _new_split(data):\n",
        "  features = []\n",
        "  targets = []\n",
        "  for sequences in data:\n",
        "    if(len(sequences)) >= 2:\n",
        "      features.append(sequences[:-1])\n",
        "      targets.append(sequences[-1])\n",
        "  return features, targets\n"
      ],
      "execution_count": 38,
      "outputs": []
    },
    {
      "cell_type": "markdown",
      "metadata": {
        "id": "-s89PdxwYRTN",
        "colab_type": "text"
      },
      "source": [
        "# 3. **Modeling**"
      ]
    },
    {
      "cell_type": "code",
      "metadata": {
        "id": "RYq3X4qhbdyR",
        "colab_type": "code",
        "colab": {}
      },
      "source": [
        "from torch.utils.data import TensorDataset\n",
        "from torch.utils.data import DataLoader"
      ],
      "execution_count": 39,
      "outputs": []
    },
    {
      "cell_type": "markdown",
      "metadata": {
        "id": "QhoDYI7W4g0u",
        "colab_type": "text"
      },
      "source": [
        "1. **Pytorch Model with both venues and time in minutes**\n",
        "---\n",
        "Simple RNN using Pytorch.\n",
        "We cannot have tensor with multiple dimensions, so this approach using Pytorch needs to be modified to make it work. Move onto to the Second model."
      ]
    },
    {
      "cell_type": "code",
      "metadata": {
        "id": "KAo-cFogQzEO",
        "colab_type": "code",
        "colab": {}
      },
      "source": [
        "class Model(nn.Module):\n",
        "    def __init__(self, input_size, output_size, hidden_dim, n_layers):\n",
        "        super(Model, self).__init__()\n",
        "\n",
        "        self.num_classes = 139\n",
        "        self.num_layers = n_layers\n",
        "        self.input_size = input_size\n",
        "        self.hidden_dim = hidden_dim\n",
        "        self.sequence_length = 8\n",
        "\n",
        "        # RNN Layer\n",
        "        self.rnn = nn.RNN(input_size, hidden_dim, n_layers, batch_first=True)\n",
        "\n",
        "        # Fully connected layer\n",
        "        self.fc = nn.Linear(hidden_dim, output_size)\n",
        "    \n",
        "    def forward(self, x):\n",
        "        \n",
        "        batch_size = x.size(0)\n",
        "\n",
        "        # Initializing hidden state\n",
        "        hidden = self.init_hidden(batch_size)\n",
        "\n",
        "        # Model\n",
        "        out, hidden = self.rnn(x, hidden)\n",
        "        \n",
        "        # Reshaping the outputs such that it can be fit into the fully connected layer\n",
        "        out = out.contiguous().view(-1, self.hidden_dim)\n",
        "        out = self.fc(out)\n",
        "        \n",
        "        return out, hidden\n",
        "    \n",
        "    def init_hidden(self, batch_size):\n",
        "        hidden = torch.zeros(self.num_layers, batch_size, self.hidden_dim)\n",
        "        return hidden"
      ],
      "execution_count": 40,
      "outputs": []
    },
    {
      "cell_type": "code",
      "metadata": {
        "id": "Tdu76DFd6cix",
        "colab_type": "code",
        "colab": {}
      },
      "source": [
        "# input_size, is the number of unique ids, 139 in our case\n",
        "\n",
        "model = Model(input_size=139, output_size=1, hidden_dim=8, n_layers=2)\n",
        "# set the model to the device (default is CPU)\n",
        "#model.to(device)\n",
        "\n",
        "# hyperparameters\n",
        "n_epochs = 100\n",
        "lr=0.01\n",
        "\n",
        "# Optimizer\n",
        "#since present model is about classification Cross entropy loss is used, for prediction this has to be MSE\n",
        "criterion = nn.CrossEntropyLoss() \n",
        "optimizer = torch.optim.Adam(model.parameters(), lr=lr)"
      ],
      "execution_count": 41,
      "outputs": []
    },
    {
      "cell_type": "code",
      "metadata": {
        "id": "eohYSfFQ-dgR",
        "colab_type": "code",
        "colab": {
          "base_uri": "https://localhost:8080/",
          "height": 55
        },
        "outputId": "03afc118-e9ee-4d91-b325-c0892492e7a6"
      },
      "source": [
        "# Training Run\n",
        "'''\n",
        "for epoch in range(1, n_epochs + 1):\n",
        "    optimizer.zero_grad() \n",
        "    #input_seq.to(device)\n",
        "    output, hidden = model(X_train_m)\n",
        "    loss = criterion(output, Y_train_m.view(-1).long()\n",
        "    loss.backward() # backpropagation and gradients\n",
        "    optimizer.step() # Updates the weights\n",
        "    \n",
        "    if epoch%10 == 0:\n",
        "        print('Epoch: {}/{}.............'.format(epoch, n_epochs), end=' ')\n",
        "        print(\"Loss: {:.4f}\".format(loss.item()))\n",
        "'''"
      ],
      "execution_count": 42,
      "outputs": [
        {
          "output_type": "execute_result",
          "data": {
            "text/plain": [
              "'\\nfor epoch in range(1, n_epochs + 1):\\n    optimizer.zero_grad() \\n    #input_seq.to(device)\\n    output, hidden = model(X_train_m)\\n    loss = criterion(output, Y_train_m.view(-1).long()\\n    loss.backward() # backpropagation and gradients\\n    optimizer.step() # Updates the weights\\n    \\n    if epoch%10 == 0:\\n        print(\\'Epoch: {}/{}.............\\'.format(epoch, n_epochs), end=\\' \\')\\n        print(\"Loss: {:.4f}\".format(loss.item()))\\n'"
            ]
          },
          "metadata": {
            "tags": []
          },
          "execution_count": 42
        }
      ]
    },
    {
      "cell_type": "markdown",
      "metadata": {
        "id": "mcWnRj7PUFtm",
        "colab_type": "text"
      },
      "source": [
        "2. **Pytorch RNN Model with only venues**\n",
        "----"
      ]
    },
    {
      "cell_type": "code",
      "metadata": {
        "id": "lPsh9WIs7A5m",
        "colab_type": "code",
        "colab": {}
      },
      "source": [
        "features, targets = _new_split(train_set)"
      ],
      "execution_count": 43,
      "outputs": []
    },
    {
      "cell_type": "code",
      "metadata": {
        "id": "cL8rmpKE5bSw",
        "colab_type": "code",
        "colab": {
          "base_uri": "https://localhost:8080/",
          "height": 52
        },
        "outputId": "8d83cb8a-f8b2-419f-c10b-b4d27bcc9a17"
      },
      "source": [
        "print(\"Size of Targets: \", venuesToTensor(targets).size())\n",
        "print(\"Size of Features\", venuesequenceToTensor(features, max_length_train-1).size())\n",
        "\n",
        "X_features_tensor = venuesequenceToTensor(features, max_length_train-1)\n",
        "Y_target_tensor = venuesToTensor(targets)"
      ],
      "execution_count": 44,
      "outputs": [
        {
          "output_type": "stream",
          "text": [
            "Size of Targets:  torch.Size([86, 1, 139])\n",
            "Size of Features torch.Size([13, 86, 139])\n"
          ],
          "name": "stdout"
        }
      ]
    },
    {
      "cell_type": "code",
      "metadata": {
        "id": "u5IG7JKo5bn5",
        "colab_type": "code",
        "colab": {
          "base_uri": "https://localhost:8080/",
          "height": 1000
        },
        "outputId": "4720ce00-a477-4275-de45-403686da18f5"
      },
      "source": [
        "#training set sequences\n",
        "for i in train_set:\n",
        "  print(i)"
      ],
      "execution_count": 45,
      "outputs": [
        {
          "output_type": "stream",
          "text": [
            "['v7598', 'v9884', 'v1181', 'v2514', 'v10373', 'v10373', 'v9885']\n",
            "['v9884', 'v73805', 'v18477', 'v9885']\n",
            "['v9688', 'v6013', 'v71717', 'v580', 'v475', 'v9884']\n",
            "['v1120', 'v9884', 'v36222', 'v9885']\n",
            "['v55736', 'v6013', 'v342', 'v83549', 'v81833', 'v72336', 'v580', 'v9884', 'v73805', 'v9885']\n",
            "['v9688', 'v6013', 'v342', 'v37724', 'v10937', 'v9884', 'v73056', 'v18477', 'v9885']\n",
            "['v55736', 'v6013', 'v81833', 'v37724', 'v67615', 'v72336', 'v68631', 'v7467', 'v36222', 'v73805', 'v9885']\n",
            "['v7598', 'v10373', 'v9884', 'v18477', 'v9885']\n",
            "['v10373']\n",
            "['v6013', 'v342', 'v81833', 'v37724', 'v67615', 'v27571', 'v9884', 'v36222', 'v9885']\n",
            "['v10373', 'v9884', 'v10373']\n",
            "['v9688', 'v6013', 'v342', 'v37724', 'v52425', 'v580', 'v10373', 'v9885']\n",
            "['v60129', 'v6013', 'v342', 'v72336', 'v68631', 'v69205', 'v48253', 'v9884', 'v9885']\n",
            "['v9688', 'v6013', 'v57806', 'v81833', 'v13235', 'v45158', 'v580', 'v9884', 'v10373', 'v18477', 'v73805', 'v9885']\n",
            "['v9688', 'v60129', 'v342', 'v128', 'v37724', 'v81', 'v9884', 'v10373', 'v9885']\n",
            "['v6013', 'v342', 'v37724', 'v68631', 'v72336', 'v580', 'v5488', 'v18477', 'v9885']\n",
            "['v9688', 'v6013', 'v342', 'v9106', 'v37724', 'v16061', 'v72336', 'v7467', 'v10373', 'v18477', 'v9885']\n",
            "['v73805']\n",
            "['v73117', 'v6013', 'v342', 'v81833', 'v37724', 'v68631', 'v67615', 'v4647', 'v10373', 'v18477', 'v73805', 'v9885']\n",
            "['v7598', 'v77608', 'v73805', 'v36222', 'v9884', 'v10373', 'v9885']\n",
            "['v6013', 'v342', 'v37724', 'v68631', 'v52425', 'v580', 'v33102', 'v17295', 'v9885']\n",
            "['v9885']\n",
            "['v55736', 'v6013', 'v342', 'v9106', 'v37724', 'v67615', 'v72562', 'v5488', 'v73805', 'v36222', 'v9885']\n",
            "['v73117', 'v84331', 'v6013', 'v342', 'v81', 'v52425', 'v72336', 'v68631', 'v9884', 'v18477', 'v9885']\n",
            "['v9688', 'v6013', 'v81833', 'v37724', 'v68631', 'v16061', 'v580', 'v9884', 'v10373', 'v36222', 'v9885']\n",
            "['v10373', 'v549', 'v9885']\n",
            "['v9688', 'v6013', 'v342', 'v81833', 'v37724', 'v1989', 'v63', 'v7467', 'v9884', 'v18477', 'v9885']\n",
            "['v9688', 'v6013', 'v342', 'v81', 'v2901', 'v37724', 'v16061', 'v9884', 'v18477', 'v73805', 'v9885']\n",
            "['v9688', 'v6013', 'v37724', 'v69205', 'v68631', 'v72336', 'v45158', 'v9884', 'v10373', 'v18477', 'v9885']\n",
            "['v9688', 'v6013', 'v342', 'v81833', 'v37724', 'v72336', 'v67615', 'v580', 'v9884', 'v10373', 'v73805', 'v9885']\n",
            "['v9885']\n",
            "['v21054', 'v10373', 'v18477', 'v9884', 'v9885']\n",
            "['v7598', 'v18608', 'v9884', 'v10373', 'v10509', 'v73805', 'v36222', 'v9885']\n",
            "['v9688', 'v6013', 'v41', 'v37724', 'v342', 'v9884', 'v18477', 'v73805', 'v9885']\n",
            "['v9688', 'v6013', 'v342', 'v128', 'v68631', 'v72336', 'v9884', 'v18477', 'v9885']\n",
            "['v22696', 'v18477', 'v10373', 'v9884', 'v73056', 'v9885']\n",
            "['v342', 'v37724', 'v68631', 'v580', 'v9884', 'v73805', 'v9885']\n",
            "['v73047', 'v18477', 'v59516']\n",
            "['v9885', 'v10373', 'v9885', 'v2927']\n",
            "['v9688', 'v6013', 'v342', 'v68631', 'v81833', 'v72336', 'v16061', 'v9885', 'v9885']\n",
            "['v9884']\n",
            "['v73117', 'v6013', 'v342', 'v37724', 'v68631', 'v16061', 'v45158', 'v9884', 'v10373', 'v18477', 'v73805', 'v9885']\n",
            "['v9688', 'v6013', 'v342', 'v37724', 'v68631', 'v5488', 'v33102', 'v9885']\n",
            "['v9688', 'v10937', 'v6013', 'v342', 'v41', 'v37724', 'v68631', 'v9884', 'v10373', 'v18477', 'v9885']\n",
            "['v10373', 'v18477', 'v36222', 'v9884', 'v74015', 'v36075', 'v9885']\n",
            "['v9688', 'v6013', 'v342', 'v995', 'v2901', 'v1892', 'v74832', 'v9884', 'v10373', 'v9885']\n",
            "['v10373', 'v33102', 'v9884', 'v18477', 'v9885']\n",
            "['v18477', 'v73805', 'v36222', 'v9884', 'v9885']\n",
            "['v9688', 'v6013', 'v342', 'v72336', 'v68631', 'v7467', 'v18477', 'v9885']\n",
            "['v53362', 'v9884', 'v36222', 'v18470', 'v67869', 'v2100', 'v1075']\n",
            "['v7598']\n",
            "['v9688', 'v6013', 'v342', 'v128', 'v37724', 'v68631', 'v9884', 'v10373', 'v9885']\n",
            "['v9688', 'v6013', 'v342', 'v46400', 'v37724', 'v68631', 'v69205', 'v72336', 'v580', 'v9884', 'v10373', 'v66545', 'v9885']\n",
            "['v9688', 'v6013', 'v57806', 'v342', 'v9820', 'v37724', 'v68631', 'v4647', 'v10373', 'v9885']\n",
            "['v74015', 'v73805', 'v8286', 'v10373', 'v9884', 'v7733', 'v9885']\n",
            "['v7598', 'v18477', 'v3197', 'v9885']\n",
            "['v7598', 'v33102', 'v18608', 'v18477', 'v9884', 'v9885']\n",
            "['v9688', 'v6013', 'v342', 'v81', 'v455', 'v68631', 'v72336', 'v16061', 'v9884', 'v73805', 'v10373', 'v9885']\n",
            "['v10373']\n",
            "['v9884', 'v10373', 'v66545', 'v9885']\n",
            "['v6013', 'v342', 'v68631', 'v4647', 'v9884', 'v73805', 'v18477', 'v9885']\n",
            "['v7598', 'v10373', 'v73805', 'v9884', 'v18477', 'v9885']\n",
            "['v6013', 'v81833', 'v19062', 'v37724', 'v68631', 'v67615', 'v69205', 'v33102', 'v73056', 'v10373', 'v9885']\n",
            "['v580', 'v47095', 'v5664', 'v11935', 'v9885']\n",
            "['v74378', 'v36222', 'v10373', 'v73117', 'v18477', 'v9884', 'v9885']\n",
            "['v55736', 'v6013', 'v342', 'v16061', 'v37724', 'v68631', 'v72336', 'v9884', 'v10373', 'v18477', 'v9885']\n",
            "['v6013', 'v342', 'v739', 'v37724', 'v68631', 'v7467', 'v9884', 'v73056', 'v9885']\n",
            "['v9688', 'v6013', 'v342', 'v37724', 'v32892', 'v580', 'v10373']\n",
            "['v9688', 'v6013', 'v342', 'v81833', 'v37724', 'v67615', 'v72336', 'v580', 'v9884', 'v18477', 'v73805', 'v9885']\n",
            "['v73805', 'v9884', 'v3906', 'v10373', 'v9884']\n",
            "['v7598', 'v18477', 'v10373', 'v25361', 'v73805', 'v10373', 'v9885']\n",
            "['v9688', 'v6013', 'v81833', 'v37724', 'v72336', 'v68631', 'v74832', 'v9884', 'v73805', 'v18477', 'v9885']\n",
            "['v73117', 'v74015', 'v8286', 'v10373', 'v73805', 'v9885']\n",
            "['v9688', 'v6013', 'v81833', 'v37724', 'v72336', 'v580', 'v9884', 'v10373', 'v18477', 'v73805', 'v9885']\n",
            "['v6013', 'v67648', 'v37724', 'v13235', 'v85343', 'v9884', 'v55736', 'v18477', 'v9885']\n",
            "['v6013', 'v55', 'v342', 'v37724', 'v68631', 'v72336', 'v52425', 'v17295', 'v9885']\n",
            "['v55736', 'v6013', 'v342', 'v52425', 'v37724', 'v67615', 'v72336', 'v5488', 'v9884', 'v18477', 'v73805', 'v9885']\n",
            "['v73117', 'v7598', 'v36222', 'v18477', 'v10373', 'v9884', 'v33102', 'v17492', 'v9885']\n",
            "['v6013', 'v342', 'v69205', 'v81833', 'v37724', 'v67615', 'v72562', 'v580', 'v9884', 'v9885']\n",
            "['v6013', 'v342', 'v37724', 'v9885', 'v9884', 'v10373', 'v549']\n",
            "['v10937', 'v6013', 'v342', 'v68631', 'v72336', 'v37724', 'v52425', 'v42094', 'v9884', 'v36222', 'v73805', 'v9885']\n",
            "['v9688', 'v6013', 'v342', 'v68631', 'v37724', 'v5488', 'v10373', 'v36222', 'v18477', 'v9885']\n",
            "['v342', 'v16061', 'v68631', 'v10509', 'v18608', 'v73805', 'v18477', 'v9885']\n",
            "['v45783']\n",
            "['v55736', 'v6013', 'v342', 'v9106', 'v37724', 'v68631', 'v69205', 'v9885', 'v18477', 'v36222', 'v9885']\n",
            "['v36222', 'v9884', 'v18477', 'v73805', 'v9885']\n",
            "['v7598', 'v36222', 'v9884', 'v18470', 'v73805', 'v18477', 'v9885']\n",
            "['v7598', 'v73056', 'v46400', 'v18477', 'v9885']\n",
            "['v342', 'v81833', 'v37724', 'v68631', 'v16061', 'v9884', 'v10373', 'v9885']\n",
            "['v9688', 'v6013', 'v1038', 'v37724', 'v67615', 'v1989', 'v45158', 'v9884', 'v18477', 'v9885']\n",
            "['v54459', 'v1236', 'v9885']\n",
            "['v9688', 'v10937', 'v6013', 'v57806', 'v342', 'v4134', 'v83549', 'v84331', 'v9884', 'v10373', 'v9885']\n",
            "['v9688', 'v6013', 'v3455', 'v67615', 'v1989', 'v41', 'v9885', 'v9688', 'v6013', 'v37724', 'v9884', 'v18608', 'v10373', 'v9885']\n",
            "['v18477', 'v9884', 'v10373', 'v9885']\n"
          ],
          "name": "stdout"
        }
      ]
    },
    {
      "cell_type": "code",
      "metadata": {
        "id": "rebOddS95cAi",
        "colab_type": "code",
        "colab": {
          "base_uri": "https://localhost:8080/",
          "height": 52
        },
        "outputId": "120dfb3b-bb2c-4195-b53d-9dda97975194"
      },
      "source": [
        "#features are the sequences and the targets are the destination\n",
        "features, targets = _new_split(train_set)\n",
        "print(features[0])\n",
        "print(targets[0])"
      ],
      "execution_count": 46,
      "outputs": [
        {
          "output_type": "stream",
          "text": [
            "['v7598', 'v9884', 'v1181', 'v2514', 'v10373', 'v10373']\n",
            "v9885\n"
          ],
          "name": "stdout"
        }
      ]
    },
    {
      "cell_type": "code",
      "metadata": {
        "id": "hg0Gzl9GUQ8t",
        "colab_type": "code",
        "colab": {}
      },
      "source": [
        "import torch.nn as nn\n",
        "\n",
        "#simple model to predict the probability of next venue given a sequence of venues\n",
        "#Network\n",
        "\n",
        "class RNN(nn.Module):\n",
        "    def __init__(self, input_size, hidden_size, output_size):\n",
        "        super(RNN, self).__init__()\n",
        "\n",
        "        self.hidden_size = hidden_size\n",
        "\n",
        "        self.i2h = nn.Linear(input_size + hidden_size, hidden_size)\n",
        "        self.i2o = nn.Linear(input_size + hidden_size, output_size)\n",
        "        self.softmax = nn.LogSoftmax(dim=1)\n",
        "\n",
        "    def forward(self, input, hidden):\n",
        "        combined = torch.cat((input, hidden), 1)\n",
        "        hidden = self.i2h(combined)\n",
        "        output = self.i2o(combined)\n",
        "        output = self.softmax(output)\n",
        "        return output, hidden\n",
        "\n",
        "    def initHidden(self):\n",
        "        return torch.zeros(1, self.hidden_size)\n",
        "\n",
        "n_hidden = 128\n",
        "input_size = 139 #size of each input\n",
        "rnn = RNN(input_size, n_hidden, n_venues)"
      ],
      "execution_count": 59,
      "outputs": []
    },
    {
      "cell_type": "code",
      "metadata": {
        "id": "sO100lEQqMc5",
        "colab_type": "code",
        "colab": {
          "base_uri": "https://localhost:8080/",
          "height": 35
        },
        "outputId": "a1e19f43-516a-4616-c59c-b51a13bdef37"
      },
      "source": [
        "#slice the tensor to a row \n",
        "#input2[:,0]\n",
        "#X_features_tensor.size()\n",
        "#max_length_train\n"
      ],
      "execution_count": 58,
      "outputs": [
        {
          "output_type": "execute_result",
          "data": {
            "text/plain": [
              "14"
            ]
          },
          "metadata": {
            "tags": []
          },
          "execution_count": 58
        }
      ]
    },
    {
      "cell_type": "code",
      "metadata": {
        "id": "99vjDjkSU7Rr",
        "colab_type": "code",
        "colab": {
          "base_uri": "https://localhost:8080/",
          "height": 159
        },
        "outputId": "21ea6888-4771-49f2-9887-0d3ab7c37aa3"
      },
      "source": [
        "n_hidden = 128\n",
        "#input = venueToTensor('v6013')\n",
        "input = X_features_tensor[:,0]\n",
        "\n",
        "hidden =torch.zeros(max_length_train-1, n_hidden)\n",
        "#hidden =torch.zeros(1, n_hidden)\n",
        "\n",
        "output, next_hidden = rnn(input, hidden)\n",
        "print(output)\n",
        "#first parameter in hidden must be the length of venues in the input\n",
        "#number of hidden values do not matter"
      ],
      "execution_count": 60,
      "outputs": [
        {
          "output_type": "stream",
          "text": [
            "tensor([[-5.0176, -4.9091, -4.9454,  ..., -4.9048, -5.0261, -4.8869],\n",
            "        [-4.9541, -4.9012, -4.9439,  ..., -5.0063, -5.0019, -4.8789],\n",
            "        [-4.9651, -4.9259, -4.8820,  ..., -4.9783, -4.9686, -4.8889],\n",
            "        ...,\n",
            "        [-4.9650, -4.9251, -4.9206,  ..., -4.9687, -4.9759, -4.8920],\n",
            "        [-4.9650, -4.9251, -4.9206,  ..., -4.9687, -4.9759, -4.8920],\n",
            "        [-4.9650, -4.9251, -4.9206,  ..., -4.9687, -4.9759, -4.8920]],\n",
            "       grad_fn=<LogSoftmaxBackward>)\n"
          ],
          "name": "stdout"
        }
      ]
    },
    {
      "cell_type": "code",
      "metadata": {
        "id": "J_NIU_vmk076",
        "colab_type": "code",
        "colab": {
          "base_uri": "https://localhost:8080/",
          "height": 35
        },
        "outputId": "78401633-b926-4e21-ab54-9ff60959d986"
      },
      "source": [
        "#get the result venue from the probabilites\n",
        "\n",
        "def categoryFromOutput(output):\n",
        "    top_n, top_i = output.topk(1)\n",
        "    category_i = top_i[0].item() -1 #since python is zero indexed\n",
        "    return all_venues_list[category_i], category_i\n",
        "\n",
        "print(categoryFromOutput(output))"
      ],
      "execution_count": 74,
      "outputs": [
        {
          "output_type": "stream",
          "text": [
            "('v9885', 4)\n"
          ],
          "name": "stdout"
        }
      ]
    },
    {
      "cell_type": "code",
      "metadata": {
        "id": "2zPMIndxkf6Z",
        "colab_type": "code",
        "colab": {
          "base_uri": "https://localhost:8080/",
          "height": 35
        },
        "outputId": "6b019434-cf58-4d7a-e17a-eb94a06deb7c"
      },
      "source": [
        "all_venues_list[5-1]"
      ],
      "execution_count": 73,
      "outputs": [
        {
          "output_type": "execute_result",
          "data": {
            "text/plain": [
              "'v9885'"
            ]
          },
          "metadata": {
            "tags": []
          },
          "execution_count": 73
        }
      ]
    },
    {
      "cell_type": "code",
      "metadata": {
        "id": "GzLd_UCUM3vy",
        "colab_type": "code",
        "colab": {}
      },
      "source": [
        "criterion = nn.NLLLoss()"
      ],
      "execution_count": 62,
      "outputs": []
    },
    {
      "cell_type": "code",
      "metadata": {
        "id": "B5eSiDu7G8zT",
        "colab_type": "code",
        "colab": {}
      },
      "source": [
        "learning_rate = 0.005\n",
        "\n",
        "def train(target, feature):\n",
        "    hidden = rnn.initHidden()\n",
        "\n",
        "    rnn.zero_grad()\n",
        "\n",
        "    for i in range(feature.size()[0]):\n",
        "        output, hidden = rnn(feature[i], hidden)\n",
        "\n",
        "    loss = criterion(output, target)\n",
        "    loss.backward()\n",
        "\n",
        "    # update the weights using gradient\n",
        "    for p in rnn.parameters():\n",
        "        p.data.add_(p.grad.data, alpha=-learning_rate)\n",
        "\n",
        "    return output, loss.item()"
      ],
      "execution_count": 63,
      "outputs": []
    },
    {
      "cell_type": "code",
      "metadata": {
        "id": "5Pm-rZ4D7txw",
        "colab_type": "code",
        "colab": {
          "base_uri": "https://localhost:8080/",
          "height": 35
        },
        "outputId": "33e89d7b-7a47-4670-d223-cbb9eca723fe"
      },
      "source": [
        "#target_venue_index = randomChoice(targets)\n",
        "'''\n",
        "target_venue_index = 9\n",
        "print(target_venue_index)\n",
        "print(targets[target_venue_index])\n",
        "print(all_venues[targets[target_venue_index]])\n",
        "print(features[target_venue_index])'''"
      ],
      "execution_count": 53,
      "outputs": [
        {
          "output_type": "execute_result",
          "data": {
            "text/plain": [
              "'\\ntarget_venue_index = 9\\nprint(target_venue_index)\\nprint(targets[target_venue_index])\\nprint(all_venues[targets[target_venue_index]])\\nprint(features[target_venue_index])'"
            ]
          },
          "metadata": {
            "tags": []
          },
          "execution_count": 53
        }
      ]
    },
    {
      "cell_type": "code",
      "metadata": {
        "id": "8P2-wCds3sdr",
        "colab_type": "code",
        "colab": {
          "base_uri": "https://localhost:8080/",
          "height": 195
        },
        "outputId": "8456f6dc-33df-4bf2-e151-f2186679f497"
      },
      "source": [
        "import random\n",
        "\n",
        "def randomChoice(l):\n",
        "    return random.randint(0, len(l) - 1)\n",
        "\n",
        "def randomTrainingExample():\n",
        "    target_venue_index = randomChoice(targets)\n",
        "    feature_venues = features[target_venue_index]\n",
        "    target_tensor = torch.tensor([all_venues[targets[target_venue_index]]], dtype=torch.long)\n",
        "    feature_tensor = venuesToTensor(feature_venues)\n",
        "    return feature_venues, targets[target_venue_index], feature_tensor, target_tensor, target_venue_index\n",
        "\n",
        "for i in range(10):\n",
        "    feature_venues, target_s, feature_tensor, target_tensor, target_venue_index = randomTrainingExample()\n",
        "    print('feature_venues =', feature_venues, ' targets =', target_s, all_venues[targets[target_venue_index]])"
      ],
      "execution_count": 70,
      "outputs": [
        {
          "output_type": "stream",
          "text": [
            "feature_venues = ['v10373', 'v18477', 'v36222', 'v9884', 'v74015', 'v36075']  targets = v9885 5\n",
            "feature_venues = ['v6013', 'v342', 'v37724', 'v9885', 'v9884', 'v10373']  targets = v549 88\n",
            "feature_venues = ['v6013', 'v67648', 'v37724', 'v13235', 'v85343', 'v9884', 'v55736', 'v18477']  targets = v9885 5\n",
            "feature_venues = ['v36222', 'v9884', 'v18477', 'v73805']  targets = v9885 5\n",
            "feature_venues = ['v73117', 'v6013', 'v342', 'v37724', 'v68631', 'v16061', 'v45158', 'v9884', 'v10373', 'v18477', 'v73805']  targets = v9885 5\n",
            "feature_venues = ['v6013', 'v342', 'v81833', 'v37724', 'v67615', 'v27571', 'v9884', 'v36222']  targets = v9885 5\n",
            "feature_venues = ['v9688', 'v6013', 'v71717', 'v580', 'v475']  targets = v9884 2\n",
            "feature_venues = ['v9688', 'v6013', 'v342', 'v128', 'v68631', 'v72336', 'v9884', 'v18477']  targets = v9885 5\n",
            "feature_venues = ['v55736', 'v6013', 'v342', 'v9106', 'v37724', 'v67615', 'v72562', 'v5488', 'v73805', 'v36222']  targets = v9885 5\n",
            "feature_venues = ['v9688', 'v6013', 'v342', 'v46400', 'v37724', 'v68631', 'v69205', 'v72336', 'v580', 'v9884', 'v10373', 'v66545']  targets = v9885 5\n"
          ],
          "name": "stdout"
        }
      ]
    },
    {
      "cell_type": "code",
      "metadata": {
        "id": "NMcOE3aTMsYZ",
        "colab_type": "code",
        "colab": {
          "base_uri": "https://localhost:8080/",
          "height": 372
        },
        "outputId": "700e7c35-6cac-421c-c784-6dec3bce57e7"
      },
      "source": [
        "import time\n",
        "import math\n",
        "\n",
        "n_iters = 100000\n",
        "print_every = 5000\n",
        "plot_every = 100\n",
        "\n",
        "\n",
        "\n",
        "# Keep track of losses for plotting\n",
        "current_loss = 0\n",
        "all_losses = []\n",
        "\n",
        "def timeSince(since):\n",
        "    now = time.time()\n",
        "    s = now - since\n",
        "    m = math.floor(s / 60)\n",
        "    s -= m * 60\n",
        "    return '%dm %ds' % (m, s)\n",
        "\n",
        "start = time.time()\n",
        "\n",
        "for iter in range(1, n_iters + 1):\n",
        "    feature_venues, target_s, feature_tensor, target_tensor, target_venue_index = randomTrainingExample()\n",
        "    output, loss = train(target_tensor, feature_tensor)\n",
        "    current_loss += loss\n",
        "\n",
        "    # Print iter number, loss, name and guess\n",
        "    if iter % print_every == 0:\n",
        "        guess, guess_i = categoryFromOutput(output)\n",
        "        correct = '✓' if guess == target_s else '✗ (%s)' % target_s\n",
        "        print('%d %d%% (%s) %.4f %s / %s %s' % (iter, iter / n_iters * 100, timeSince(start), loss, feature_venues, guess, correct))\n",
        "\n",
        "    # Add current loss avg to list of losses\n",
        "    if iter % plot_every == 0:\n",
        "        all_losses.append(current_loss / plot_every)\n",
        "        current_loss = 0"
      ],
      "execution_count": 76,
      "outputs": [
        {
          "output_type": "stream",
          "text": [
            "5000 5% (0m 8s) 0.0000 ['v9688', 'v6013', 'v342', 'v72336', 'v68631', 'v7467', 'v18477'] / v9885 ✓\n",
            "10000 10% (0m 16s) 0.0000 ['v9688', 'v6013', 'v342', 'v81', 'v2901', 'v37724', 'v16061', 'v9884', 'v18477', 'v73805'] / v9885 ✓\n",
            "15000 15% (0m 24s) 0.0000 ['v73117', 'v6013', 'v342', 'v37724', 'v68631', 'v16061', 'v45158', 'v9884', 'v10373', 'v18477', 'v73805'] / v9885 ✓\n",
            "20000 20% (0m 33s) 0.0000 ['v9688', 'v6013', 'v81833', 'v37724', 'v68631', 'v16061', 'v580', 'v9884', 'v10373', 'v36222'] / v9885 ✓\n",
            "25000 25% (0m 41s) 0.0001 ['v7598', 'v18477', 'v3197'] / v9885 ✓\n",
            "30000 30% (0m 50s) 0.0002 ['v36222', 'v9884', 'v18477', 'v73805'] / v9885 ✓\n",
            "35000 35% (0m 58s) 0.0000 ['v9688', 'v6013', 'v81833', 'v37724', 'v72336', 'v68631', 'v74832', 'v9884', 'v73805', 'v18477'] / v9885 ✓\n",
            "40000 40% (1m 6s) 0.0000 ['v22696', 'v18477', 'v10373', 'v9884', 'v73056'] / v9885 ✓\n",
            "45000 45% (1m 14s) 0.0000 ['v74015', 'v73805', 'v8286', 'v10373', 'v9884', 'v7733'] / v9885 ✓\n",
            "50000 50% (1m 23s) 0.0000 ['v9688', 'v60129', 'v342', 'v128', 'v37724', 'v81', 'v9884', 'v10373'] / v9885 ✓\n",
            "55000 55% (1m 31s) 0.0000 ['v6013', 'v342', 'v37724', 'v68631', 'v52425', 'v580', 'v33102', 'v17295'] / v9885 ✓\n",
            "60000 60% (1m 40s) 0.0000 ['v55736', 'v6013', 'v342', 'v83549', 'v81833', 'v72336', 'v580', 'v9884', 'v73805'] / v9885 ✓\n",
            "65000 65% (1m 48s) 0.0000 ['v9688', 'v6013', 'v3455', 'v67615', 'v1989', 'v41', 'v9885', 'v9688', 'v6013', 'v37724', 'v9884', 'v18608', 'v10373'] / v9885 ✓\n",
            "70000 70% (1m 56s) 0.0000 ['v342', 'v37724', 'v68631', 'v580', 'v9884', 'v73805'] / v9885 ✓\n",
            "75000 75% (2m 5s) 0.0000 ['v6013', 'v81833', 'v19062', 'v37724', 'v68631', 'v67615', 'v69205', 'v33102', 'v73056', 'v10373'] / v9885 ✓\n",
            "80000 80% (2m 13s) 0.0002 ['v53362', 'v9884', 'v36222', 'v18470', 'v67869', 'v2100'] / v1075 ✓\n",
            "85000 85% (2m 21s) 0.0000 ['v10373', 'v33102', 'v9884', 'v18477'] / v9885 ✓\n",
            "90000 90% (2m 30s) 0.0000 ['v7598', 'v9884', 'v1181', 'v2514', 'v10373', 'v10373'] / v9885 ✓\n",
            "95000 95% (2m 38s) 0.0495 ['v10373', 'v549'] / v9885 ✓\n",
            "100000 100% (2m 46s) 0.0000 ['v55736', 'v6013', 'v342', 'v9106', 'v37724', 'v68631', 'v69205', 'v9885', 'v18477', 'v36222'] / v9885 ✓\n"
          ],
          "name": "stdout"
        }
      ]
    },
    {
      "cell_type": "code",
      "metadata": {
        "id": "SB7HGCi7ilPg",
        "colab_type": "code",
        "colab": {
          "base_uri": "https://localhost:8080/",
          "height": 284
        },
        "outputId": "99d57c2e-c5bb-40de-ccf4-c110567e6cea"
      },
      "source": [
        "import matplotlib.pyplot as plt\n",
        "import matplotlib.ticker as ticker\n",
        "\n",
        "plt.figure()\n",
        "plt.plot(all_losses)"
      ],
      "execution_count": 77,
      "outputs": [
        {
          "output_type": "execute_result",
          "data": {
            "text/plain": [
              "[<matplotlib.lines.Line2D at 0x7f30ee039518>]"
            ]
          },
          "metadata": {
            "tags": []
          },
          "execution_count": 77
        },
        {
          "output_type": "display_data",
          "data": {
            "image/png": "[encoded data removed]",
            "text/plain": [
              "<Figure size 432x288 with 1 Axes>"
            ]
          },
          "metadata": {
            "tags": [],
            "needs_background": "light"
          }
        }
      ]
    },
    {
      "cell_type": "code",
      "metadata": {
        "id": "NJQNQ1b3jCok",
        "colab_type": "code",
        "colab": {
          "base_uri": "https://localhost:8080/",
          "height": 35
        },
        "outputId": "3ee1804d-d84e-4a1a-df88-107542ab3c02"
      },
      "source": [
        "#output.topk(1)\n",
        "all_venues.get()"
      ],
      "execution_count": 68,
      "outputs": [
        {
          "output_type": "execute_result",
          "data": {
            "text/plain": [
              "torch.return_types.topk(values=tensor([[0.]], grad_fn=<TopkBackward>), indices=tensor([[5]]))"
            ]
          },
          "metadata": {
            "tags": []
          },
          "execution_count": 68
        }
      ]
    },
    {
      "cell_type": "markdown",
      "metadata": {
        "id": "4_B85p9ADyg3",
        "colab_type": "text"
      },
      "source": [
        "3. **Keras RNN Model with venues and time in minutes**\n",
        "---\n",
        "Model using Keras.\n",
        "In Keras we can combine categorical and numeric features.\n",
        "\n",
        "Idea:\n",
        "\n",
        "we have a sequence of events (v1,t1) (v2,t2) (v3,t3) and (v4,t4)\n",
        "We create two inputs v1 (categorical) and t1(numeric) pass it to a multi-input and multi-output keras model.\n",
        "\n",
        "For each sequence we create a set of features and targets and train the model for that sequence, and then continue the same process for all sequences.\n"
      ]
    },
    {
      "cell_type": "code",
      "metadata": {
        "id": "O9mL_wylGSG1",
        "colab_type": "code",
        "colab": {
          "base_uri": "https://localhost:8080/",
          "height": 168
        },
        "outputId": "256c9c22-efda-4c8e-d788-5aec150b56b5"
      },
      "source": [
        "train_sequences_x_y"
      ],
      "execution_count": 56,
      "outputs": [
        {
          "output_type": "error",
          "ename": "NameError",
          "evalue": "ignored",
          "traceback": [
            "\u001b[0;31m---------------------------------------------------------------------------\u001b[0m",
            "\u001b[0;31mNameError\u001b[0m                                 Traceback (most recent call last)",
            "\u001b[0;32m<ipython-input-56-4cd3c4fe5687>\u001b[0m in \u001b[0;36m<module>\u001b[0;34m()\u001b[0m\n\u001b[0;32m----> 1\u001b[0;31m \u001b[0mtrain_sequences_x_y\u001b[0m\u001b[0;34m\u001b[0m\u001b[0;34m\u001b[0m\u001b[0m\n\u001b[0m",
            "\u001b[0;31mNameError\u001b[0m: name 'train_sequences_x_y' is not defined"
          ]
        }
      ]
    },
    {
      "cell_type": "code",
      "metadata": {
        "id": "np3FDjpOvEAh",
        "colab_type": "code",
        "colab": {}
      },
      "source": [
        "#events are of the form (v,t), where v is categorical and t is hour in mins, seperate the two\n",
        "#same function used for ksplit() will work\n",
        "\n",
        "temp1 = _ksplit_x_y(X_train_features)\n",
        "\n",
        "X_train_features_categorical = temp1[0]\n",
        "X_train_features_numerical = temp1[1]\n",
        "\n",
        "temp2 = _ksplit_x_y(Y_train_targets)\n",
        "\n",
        "Y_train_targets_categorical = temp2[0]\n",
        "Y_train_targets_numerical = temp2[1]\n"
      ],
      "execution_count": null,
      "outputs": []
    },
    {
      "cell_type": "code",
      "metadata": {
        "id": "m1gdEkBZvueG",
        "colab_type": "code",
        "colab": {}
      },
      "source": [
        "#convert categorical to one hot encoding\n",
        "\n",
        "def _one_hot_k(data):\n",
        "  changed_data = []\n",
        "  for sequence in data:\n",
        "    temp = []\n",
        "    for venue in sequence:\n",
        "      temp.append(coded_obj.onehot_encoded(venue))\n",
        "    changed_data.append(temp)\n",
        "  return changed_data\n"
      ],
      "execution_count": null,
      "outputs": []
    },
    {
      "cell_type": "code",
      "metadata": {
        "id": "CtsgljzOvxAm",
        "colab_type": "code",
        "colab": {}
      },
      "source": [
        "#replace\n",
        "\n",
        "#X_train_features_categorical = _one_hot_k(X_train_features_categorical)\n",
        "#Y_train_targets_categorical = _one_hot_k(Y_train_targets_categorical)"
      ],
      "execution_count": null,
      "outputs": []
    },
    {
      "cell_type": "code",
      "metadata": {
        "id": "OfM5Igq92Jf6",
        "colab_type": "code",
        "colab": {}
      },
      "source": [
        "#test2 = tf.ragged.constant(X_train_features_categorical)\n",
        "#test22 = tf.ragged.constant(X_train_features_numerical)\n"
      ],
      "execution_count": null,
      "outputs": []
    },
    {
      "cell_type": "code",
      "metadata": {
        "id": "fbyefQFPw9Xk",
        "colab_type": "code",
        "colab": {}
      },
      "source": [
        "\n",
        "float_input = tf.keras.Input(shape=(2, ))\n",
        "one_hot_input = tf.keras.Input(shape=(137,) )\n",
        "\n",
        "first_dense = tf.keras.layers.Dense(3)(float_input)\n",
        "second_dense = tf.keras.layers.Dense(50)(one_hot_input)\n",
        "\n",
        "merge_one = tf.keras.layers.concatenate([first_dense, second_dense])\n",
        "dense_inner = tf.keras.layers.Dense(10)(merge_one)\n",
        "\n",
        "dense_output1 = tf.keras.layers.Dense(1)(dense_inner)\n",
        "dense_output2 = tf.keras.layers.Dense(1)(dense_inner)\n",
        "\n",
        "model = tf.keras.Model(inputs=[float_input, one_hot_input], outputs=[dense_output1,dense_output2])\n",
        "\n",
        "\n",
        "model.compile(loss='mean_squared_error',\n",
        "              optimizer='adam',\n",
        "              metrics=['accuracy'])\n",
        "\n",
        "#model.summary()\n",
        "\n",
        "#model.fit([X1,X2], Y, epochs=2)"
      ],
      "execution_count": null,
      "outputs": []
    },
    {
      "cell_type": "markdown",
      "metadata": {
        "id": "2JxKUlZZe5PE",
        "colab_type": "text"
      },
      "source": [
        "Resources used\n",
        "***\n",
        "https://discuss.pytorch.org/t/mini-batch-training-for-inputs-of-variable-sizes/13662\n",
        "\n",
        "https://medium.com/ibm-data-science-experience/markdown-for-jupyter-notebooks-cheatsheet-386c05aeebed\n",
        "\n",
        "https://stackoverflow.com/questions/53532352/how-do-i-split-the-training-dataset-into-training-validation-and-test-datasets\n",
        "\n",
        "https://learning.oreilly.com/library/view/deep-learning-with/9781788624336/e397c9a2-28a2-41fd-bcc2-a6bb49adfc44.xhtml\n",
        "\n",
        "https://www.kaggle.com/avanwyk/encoding-cyclical-features-for-deep-learning\n",
        "\n",
        "\n",
        "https://jdhao.github.io/2017/11/15/pytorch-datatype-note/\n",
        "\n",
        "https://stats.stackexchange.com/questions/181/how-to-choose-the-number-of-hidden-layers-and-nodes-in-a-feedforward-neural-netw\n",
        "\n",
        "https://ai.stackexchange.com/questions/3156/how-to-select-number-of-hidden-layers-and-number-of-memory-cells-in-an-lstm\n",
        "\n",
        "https://blog.floydhub.com/a-beginners-guide-on-recurrent-neural-networks-with-pytorch/\n",
        "\n",
        "https://pytorch.org/tutorials/intermediate/char_rnn_classification_tutorial.html\n",
        "\n"
      ]
    }
  ]
}